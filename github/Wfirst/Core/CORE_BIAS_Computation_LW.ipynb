{
 "cells": [
  {
   "cell_type": "code",
   "execution_count": 130,
   "metadata": {},
   "outputs": [],
   "source": [
    "import pandas as pd\n",
    "import numpy as np\n",
    "import matplotlib.pyplot as plt\n",
    "from matplotlib.colors import LogNorm,Normalize\n",
    "from matplotlib.ticker import (MultipleLocator, FormatStrFormatter,AutoMinorLocator)\n",
    "from IPython.display import display_html\n",
    "def display_side_by_side(*args):\n",
    "    html_str=''\n",
    "    for df in args:\n",
    "        html_str+=df.to_html()\n",
    "    display_html(html_str.replace('table','table style=\"display:inline\"'),raw=True)"
   ]
  },
  {
   "cell_type": "code",
   "execution_count": 131,
   "metadata": {},
   "outputs": [
    {
     "name": "stdout",
     "output_type": "stream",
     "text": [
      "/Volumes/HDD750GB/Programs/Fisher/github/Wfirst/Core\r\n"
     ]
    }
   ],
   "source": [
    "!pwd"
   ]
  },
  {
   "cell_type": "code",
   "execution_count": 132,
   "metadata": {},
   "outputs": [],
   "source": [
    "df = pd.read_csv('../tt0_2.zphot',sep=' ',index_col=False)#,header=None)\n",
    "df_w=pd.read_csv('../tt0_14.zphot',sep=' ',index_col=False)\n",
    "\n",
    "df.columns   = ['id', 'ztrue', 'zphot', 'zphoterr', 'N_cm']\n",
    "df_w.columns = ['id', 'ztrue', 'zphot', 'zphoterr', 'N_cm']\n",
    "\n",
    "df = df.iloc[:, :-1]\n",
    "df_w = df_w.iloc[:, :-1]\n",
    "\n",
    "df   = df.sort_values(by=['ztrue'])   \n",
    "df_w = df_w.sort_values(by=['ztrue'])   \n",
    "\n",
    "df = df[df.ztrue<=1.2]\n",
    "df_w = df_w[df_w.ztrue<=1.2]"
   ]
  },
  {
   "cell_type": "code",
   "execution_count": 182,
   "metadata": {},
   "outputs": [],
   "source": [
    "xxx = pd.DataFrame(np.linspace(1,10,10))"
   ]
  },
  {
   "cell_type": "code",
   "execution_count": 184,
   "metadata": {},
   "outputs": [
    {
     "data": {
      "text/plain": [
       "0     1.0\n",
       "1     2.0\n",
       "2     3.0\n",
       "3     4.0\n",
       "4     5.0\n",
       "5     6.0\n",
       "6     7.0\n",
       "7     8.0\n",
       "8     9.0\n",
       "9    10.0\n",
       "Name: 0, dtype: float64"
      ]
     },
     "execution_count": 184,
     "metadata": {},
     "output_type": "execute_result"
    }
   ],
   "source": [
    "xxx[0]"
   ]
  },
  {
   "cell_type": "code",
   "execution_count": 187,
   "metadata": {},
   "outputs": [
    {
     "ename": "TypeError",
     "evalue": "ufunc 'invert' not supported for the input types, and the inputs could not be safely coerced to any supported types according to the casting rule ''safe''",
     "output_type": "error",
     "traceback": [
      "\u001b[0;31m---------------------------------------------------------------------------\u001b[0m",
      "\u001b[0;31mTypeError\u001b[0m                                 Traceback (most recent call last)",
      "\u001b[0;32m<ipython-input-187-066829bf0f35>\u001b[0m in \u001b[0;36m<module>\u001b[0;34m\u001b[0m\n\u001b[0;32m----> 1\u001b[0;31m \u001b[0mxxx\u001b[0m\u001b[0;34m.\u001b[0m\u001b[0mloc\u001b[0m\u001b[0;34m[\u001b[0m\u001b[0;34m~\u001b[0m\u001b[0mxxx\u001b[0m\u001b[0;34m[\u001b[0m\u001b[0;36m0\u001b[0m\u001b[0;34m]\u001b[0m\u001b[0;34m>\u001b[0m\u001b[0;36m5\u001b[0m\u001b[0;34m]\u001b[0m\u001b[0;34m\u001b[0m\u001b[0;34m\u001b[0m\u001b[0m\n\u001b[0m",
      "\u001b[0;32m~/opt/anaconda3/lib/python3.7/site-packages/pandas/core/generic.py\u001b[0m in \u001b[0;36m__invert__\u001b[0;34m(self)\u001b[0m\n\u001b[1;32m   1471\u001b[0m             \u001b[0;32mreturn\u001b[0m \u001b[0mself\u001b[0m\u001b[0;34m\u001b[0m\u001b[0;34m\u001b[0m\u001b[0m\n\u001b[1;32m   1472\u001b[0m \u001b[0;34m\u001b[0m\u001b[0m\n\u001b[0;32m-> 1473\u001b[0;31m         \u001b[0mnew_data\u001b[0m \u001b[0;34m=\u001b[0m \u001b[0mself\u001b[0m\u001b[0;34m.\u001b[0m\u001b[0m_data\u001b[0m\u001b[0;34m.\u001b[0m\u001b[0mapply\u001b[0m\u001b[0;34m(\u001b[0m\u001b[0moperator\u001b[0m\u001b[0;34m.\u001b[0m\u001b[0minvert\u001b[0m\u001b[0;34m)\u001b[0m\u001b[0;34m\u001b[0m\u001b[0;34m\u001b[0m\u001b[0m\n\u001b[0m\u001b[1;32m   1474\u001b[0m         \u001b[0mresult\u001b[0m \u001b[0;34m=\u001b[0m \u001b[0mself\u001b[0m\u001b[0;34m.\u001b[0m\u001b[0m_constructor\u001b[0m\u001b[0;34m(\u001b[0m\u001b[0mnew_data\u001b[0m\u001b[0;34m)\u001b[0m\u001b[0;34m.\u001b[0m\u001b[0m__finalize__\u001b[0m\u001b[0;34m(\u001b[0m\u001b[0mself\u001b[0m\u001b[0;34m)\u001b[0m\u001b[0;34m\u001b[0m\u001b[0;34m\u001b[0m\u001b[0m\n\u001b[1;32m   1475\u001b[0m         \u001b[0;32mreturn\u001b[0m \u001b[0mresult\u001b[0m\u001b[0;34m\u001b[0m\u001b[0;34m\u001b[0m\u001b[0m\n",
      "\u001b[0;32m~/opt/anaconda3/lib/python3.7/site-packages/pandas/core/internals/managers.py\u001b[0m in \u001b[0;36mapply\u001b[0;34m(self, f, filter, **kwargs)\u001b[0m\n\u001b[1;32m    438\u001b[0m \u001b[0;34m\u001b[0m\u001b[0m\n\u001b[1;32m    439\u001b[0m             \u001b[0;32mif\u001b[0m \u001b[0mcallable\u001b[0m\u001b[0;34m(\u001b[0m\u001b[0mf\u001b[0m\u001b[0;34m)\u001b[0m\u001b[0;34m:\u001b[0m\u001b[0;34m\u001b[0m\u001b[0;34m\u001b[0m\u001b[0m\n\u001b[0;32m--> 440\u001b[0;31m                 \u001b[0mapplied\u001b[0m \u001b[0;34m=\u001b[0m \u001b[0mb\u001b[0m\u001b[0;34m.\u001b[0m\u001b[0mapply\u001b[0m\u001b[0;34m(\u001b[0m\u001b[0mf\u001b[0m\u001b[0;34m,\u001b[0m \u001b[0;34m**\u001b[0m\u001b[0mkwargs\u001b[0m\u001b[0;34m)\u001b[0m\u001b[0;34m\u001b[0m\u001b[0;34m\u001b[0m\u001b[0m\n\u001b[0m\u001b[1;32m    441\u001b[0m             \u001b[0;32melse\u001b[0m\u001b[0;34m:\u001b[0m\u001b[0;34m\u001b[0m\u001b[0;34m\u001b[0m\u001b[0m\n\u001b[1;32m    442\u001b[0m                 \u001b[0mapplied\u001b[0m \u001b[0;34m=\u001b[0m \u001b[0mgetattr\u001b[0m\u001b[0;34m(\u001b[0m\u001b[0mb\u001b[0m\u001b[0;34m,\u001b[0m \u001b[0mf\u001b[0m\u001b[0;34m)\u001b[0m\u001b[0;34m(\u001b[0m\u001b[0;34m**\u001b[0m\u001b[0mkwargs\u001b[0m\u001b[0;34m)\u001b[0m\u001b[0;34m\u001b[0m\u001b[0;34m\u001b[0m\u001b[0m\n",
      "\u001b[0;32m~/opt/anaconda3/lib/python3.7/site-packages/pandas/core/internals/blocks.py\u001b[0m in \u001b[0;36mapply\u001b[0;34m(self, func, **kwargs)\u001b[0m\n\u001b[1;32m    388\u001b[0m         \"\"\"\n\u001b[1;32m    389\u001b[0m         \u001b[0;32mwith\u001b[0m \u001b[0mnp\u001b[0m\u001b[0;34m.\u001b[0m\u001b[0merrstate\u001b[0m\u001b[0;34m(\u001b[0m\u001b[0mall\u001b[0m\u001b[0;34m=\u001b[0m\u001b[0;34m\"ignore\"\u001b[0m\u001b[0;34m)\u001b[0m\u001b[0;34m:\u001b[0m\u001b[0;34m\u001b[0m\u001b[0;34m\u001b[0m\u001b[0m\n\u001b[0;32m--> 390\u001b[0;31m             \u001b[0mresult\u001b[0m \u001b[0;34m=\u001b[0m \u001b[0mfunc\u001b[0m\u001b[0;34m(\u001b[0m\u001b[0mself\u001b[0m\u001b[0;34m.\u001b[0m\u001b[0mvalues\u001b[0m\u001b[0;34m,\u001b[0m \u001b[0;34m**\u001b[0m\u001b[0mkwargs\u001b[0m\u001b[0;34m)\u001b[0m\u001b[0;34m\u001b[0m\u001b[0;34m\u001b[0m\u001b[0m\n\u001b[0m\u001b[1;32m    391\u001b[0m \u001b[0;34m\u001b[0m\u001b[0m\n\u001b[1;32m    392\u001b[0m         \u001b[0;32mif\u001b[0m \u001b[0mis_extension_array_dtype\u001b[0m\u001b[0;34m(\u001b[0m\u001b[0mresult\u001b[0m\u001b[0;34m)\u001b[0m \u001b[0;32mand\u001b[0m \u001b[0mresult\u001b[0m\u001b[0;34m.\u001b[0m\u001b[0mndim\u001b[0m \u001b[0;34m>\u001b[0m \u001b[0;36m1\u001b[0m\u001b[0;34m:\u001b[0m\u001b[0;34m\u001b[0m\u001b[0;34m\u001b[0m\u001b[0m\n",
      "\u001b[0;31mTypeError\u001b[0m: ufunc 'invert' not supported for the input types, and the inputs could not be safely coerced to any supported types according to the casting rule ''safe''"
     ]
    }
   ],
   "source": [
    "xxx.loc[~xxx[0]>5]"
   ]
  },
  {
   "cell_type": "code",
   "execution_count": 133,
   "metadata": {},
   "outputs": [
    {
     "data": {
      "text/plain": [
       "\"\\nthresh_COR = 1.5\\n\\n### Identify the subset of catastrophic outlier-rejected test galaxies in the requested bin\\ntx = np.where( ( np.abs( np.array(df_w.zphot) - np.array(df_w.ztrue) ) < thresh_COR ) )[0]\\nCORzspec = np.array(df_w.ztrue)[tx]\\nCORzphot = np.array(df_w.zphot)[tx]\\n\\nplt.hist2d( CORzphot, CORzspec, bins=100, range=[[0.0,1.2],[0.0,1.2]], norm=LogNorm(clip=True),             cmin=1, cmap='Greens');\\nplt.xlabel('z_phot',fontsize=15);plt.ylabel('z_true',fontsize=15)\\nplt.text(0.1,1.0,'CORE Bias Points',fontsize=15)\\n\""
      ]
     },
     "execution_count": 133,
     "metadata": {},
     "output_type": "execute_result"
    }
   ],
   "source": [
    "'''\n",
    "thresh_COR = 1.5\n",
    "\n",
    "### Identify the subset of catastrophic outlier-rejected test galaxies in the requested bin\n",
    "tx = np.where( ( np.abs( np.array(df_w.zphot) - np.array(df_w.ztrue) ) < thresh_COR ) )[0]\n",
    "CORzspec = np.array(df_w.ztrue)[tx]\n",
    "CORzphot = np.array(df_w.zphot)[tx]\n",
    "\n",
    "plt.hist2d( CORzphot, CORzspec, bins=100, range=[[0.0,1.2],[0.0,1.2]], norm=LogNorm(clip=True), \\\n",
    "            cmin=1, cmap='Greens');\n",
    "plt.xlabel('z_phot',fontsize=15);plt.ylabel('z_true',fontsize=15)\n",
    "plt.text(0.1,1.0,'CORE Bias Points',fontsize=15)\n",
    "'''"
   ]
  },
  {
   "cell_type": "code",
   "execution_count": 134,
   "metadata": {},
   "outputs": [
    {
     "data": {
      "text/plain": [
       "128190"
      ]
     },
     "execution_count": 134,
     "metadata": {},
     "output_type": "execute_result"
    }
   ],
   "source": [
    "len(CORzphot)"
   ]
  },
  {
   "cell_type": "code",
   "execution_count": 135,
   "metadata": {},
   "outputs": [],
   "source": [
    "# Based on : https://github.com/dirac-institute/CMNN_Photoz_Estimator/blob/master/cmnn_analysis.py\n",
    "def CORiqrbias(zphot,ztrue):\n",
    "    ###   thresh_COR : zspec-zphot threshold to define \"catastrophic outlier rejection\"\n",
    "    thresh_COR = 1.5\n",
    "\n",
    "    ### Identify the subset of catastrophic outlier-rejected test galaxies in the requested bin\n",
    "    tx = np.where( ( np.abs( zphot - ztrue ) < thresh_COR ) )[0]\n",
    "    CORzspec = ztrue[tx]\n",
    "    CORzphot = zphot[tx]\n",
    "\n",
    "    ### Define bin_dzo1pzp for use in all stats\n",
    "    CORdzo1pzp = ( CORzspec - CORzphot ) / ( float(1.0) + CORzphot )\n",
    "    CORdzo1pzp=np.array(CORdzo1pzp)\n",
    "    ### COR Intraquartile Range\n",
    "    q75, q25   = np.percentile( CORdzo1pzp, [75 ,25] )\n",
    "    CORIQR     = ( q75 - q25 )\n",
    "    CORIQRstdd = ( q75 - q25 ) / float(1.349)\n",
    "    tx         = np.where( ( CORdzo1pzp > q25 ) & ( CORdzo1pzp < q75 ) )[0]\n",
    "\n",
    "    CORIQRbias = np.mean( CORdzo1pzp[tx] )\n",
    "    return CORIQRbias"
   ]
  },
  {
   "cell_type": "code",
   "execution_count": 136,
   "metadata": {},
   "outputs": [
    {
     "data": {
      "text/plain": [
       "'\\n bins  = np.linspace(0,1.2,13)\\n start = (bins[0] + bins[1])/2.; end = (bins[-1] + bins[-2])/2.\\n\\n label = np.linspace(start,end,12)\\n print(label)\\n \\n bins  = np.linspace(0,1.2,25)\\n start = (bins[0] + bins[1])/2.; end = (bins[-1] + bins[-2])/2.\\n\\n label = np.linspace(start,end,24)\\n print(label)\\n '"
      ]
     },
     "execution_count": 136,
     "metadata": {},
     "output_type": "execute_result"
    }
   ],
   "source": [
    "   '''\n",
    "    bins  = np.linspace(0,1.2,13)\n",
    "    start = (bins[0] + bins[1])/2.; end = (bins[-1] + bins[-2])/2.\n",
    "\n",
    "    label = np.linspace(start,end,12)\n",
    "    print(label)\n",
    "    \n",
    "    bins  = np.linspace(0,1.2,25)\n",
    "    start = (bins[0] + bins[1])/2.; end = (bins[-1] + bins[-2])/2.\n",
    "\n",
    "    label = np.linspace(start,end,24)\n",
    "    print(label)\n",
    "    '''"
   ]
  },
  {
   "cell_type": "code",
   "execution_count": 171,
   "metadata": {},
   "outputs": [],
   "source": [
    "def bias(df):\n",
    "    n_bin = 24;#12\n",
    "    bins  = np.linspace(0,1.2,n_bin+1)\n",
    "    start = (bins[0] + bins[1])/2.; end = (bins[-1] + bins[-2])/2.\n",
    "\n",
    "    label = np.linspace(start,end,n_bin)\n",
    "    size=len(df)\n",
    "    df['bin_z'] = pd.cut(df.ztrue, bins=bins, labels=label)\n",
    "    df = df[df['bin_z'].notna()]\n",
    "    N=[];cor=[];zp=[];zs=[];fcore=[];\n",
    "    for each in label:\n",
    "        x = df[df['bin_z'] == each]\n",
    "        N.append(len(x))\n",
    "        cor.append(CORiqrbias(np.array(x.zphot),np.array(x.ztrue))) # Call the COR_IQR Function\n",
    "        zp.append(np.mean(x.zphot))\n",
    "        zs.append(np.mean(x.ztrue))\n",
    "        fcore.append(len(x)/size)\n",
    "    N = pd.DataFrame(np.array(N))\n",
    "    #N.columns = ['N']\n",
    "    N.reset_index(drop=True, inplace=True)\n",
    "    cor = pd.DataFrame(cor)\n",
    "    zs = pd.DataFrame(zs)\n",
    "    zp = pd.DataFrame(zp)\n",
    "    l = pd.DataFrame(label)   \n",
    "    fcore = pd.DataFrame(fcore)\n",
    "    N =  pd.concat([l,N,zs,zp,cor,fcore],axis=1,ignore_index=True)\n",
    "    N.columns = ['z','N','z_true','zphot','bias','fcore']\n",
    "    #N = N.iloc[0:12 , : ] # 12 Bins\n",
    "    return N"
   ]
  },
  {
   "cell_type": "code",
   "execution_count": 172,
   "metadata": {},
   "outputs": [],
   "source": [
    "b_w= bias(df_w)\n",
    "b = bias(df)"
   ]
  },
  {
   "cell_type": "code",
   "execution_count": 173,
   "metadata": {},
   "outputs": [
    {
     "name": "stdout",
     "output_type": "stream",
     "text": [
      "Fraction in each bin for core points\n"
     ]
    },
    {
     "data": {
      "text/plain": [
       "0     0.000577\n",
       "1     0.009591\n",
       "2     0.007485\n",
       "3     0.011813\n",
       "4     0.029263\n",
       "5     0.046480\n",
       "6     0.039353\n",
       "7     0.032078\n",
       "8     0.051220\n",
       "9     0.068179\n",
       "10    0.058612\n",
       "11    0.066331\n",
       "12    0.081606\n",
       "13    0.053045\n",
       "14    0.050199\n",
       "15    0.063493\n",
       "16    0.059524\n",
       "17    0.039836\n",
       "18    0.050503\n",
       "19    0.055189\n",
       "20    0.037606\n",
       "21    0.032624\n",
       "22    0.029817\n",
       "23    0.025575\n",
       "Name: fcore, dtype: float64"
      ]
     },
     "execution_count": 173,
     "metadata": {},
     "output_type": "execute_result"
    }
   ],
   "source": [
    "print('Fraction in each bin for core points')\n",
    "b_w.fcore"
   ]
  },
  {
   "cell_type": "code",
   "execution_count": 143,
   "metadata": {},
   "outputs": [
    {
     "name": "stdout",
     "output_type": "stream",
     "text": [
      "Sum of total Fraction \n"
     ]
    },
    {
     "data": {
      "text/plain": [
       "1.0"
      ]
     },
     "execution_count": 143,
     "metadata": {},
     "output_type": "execute_result"
    }
   ],
   "source": [
    "print('Sum of total Fraction ')\n",
    "b_w.fcore.sum()"
   ]
  },
  {
   "cell_type": "code",
   "execution_count": 144,
   "metadata": {},
   "outputs": [
    {
     "data": {
      "text/plain": [
       "Text(0, 0.5, 'CORE Bias')"
      ]
     },
     "execution_count": 144,
     "metadata": {},
     "output_type": "execute_result"
    },
    {
     "data": {
      "image/png": "[encoded data removed]",
      "text/plain": [
       "<Figure size 432x288 with 1 Axes>"
      ]
     },
     "metadata": {
      "needs_background": "light"
     },
     "output_type": "display_data"
    }
   ],
   "source": [
    "fig, ax = plt.subplots()\n",
    "plt.plot(b.z,b.bias,label='LSST')\n",
    "plt.plot(b_w.z,b_w.bias,label='LW')\n",
    "#plt.plot(b.z,b.fcore,label='LSST-f')\n",
    "#plt.plot(b_w.z,b_w.fcore,label='LW-f')\n",
    "plt.legend()\n",
    "ax.minorticks_on()\n",
    "ax.yaxis.set_ticks_position('both')\n",
    "ax.xaxis.set_ticks_position('both')\n",
    "plt.xlabel('z true')\n",
    "plt.ylabel('CORE Bias')"
   ]
  },
  {
   "cell_type": "code",
   "execution_count": 145,
   "metadata": {},
   "outputs": [
    {
     "data": {
      "text/plain": [
       "Text(0, 0.5, 'F Core')"
      ]
     },
     "execution_count": 145,
     "metadata": {},
     "output_type": "execute_result"
    },
    {
     "data": {
      "image/png": "[encoded data removed]",
      "text/plain": [
       "<Figure size 432x288 with 1 Axes>"
      ]
     },
     "metadata": {
      "needs_background": "light"
     },
     "output_type": "display_data"
    }
   ],
   "source": [
    "fig, ax = plt.subplots()\n",
    "#plt.plot(b.z,b.bias,label='LSST')\n",
    "#plt.plot(b_w.z,b_w.bias,label='LW')\n",
    "plt.plot(b.z,b.fcore,label='LSST-f')\n",
    "plt.plot(b_w.z,b_w.fcore,label='LW-f')\n",
    "plt.legend()\n",
    "ax.minorticks_on()\n",
    "ax.yaxis.set_ticks_position('both')\n",
    "ax.xaxis.set_ticks_position('both')\n",
    "plt.xlabel('z true')\n",
    "plt.ylabel('F Core')"
   ]
  },
  {
   "cell_type": "code",
   "execution_count": 146,
   "metadata": {},
   "outputs": [
    {
     "data": {
      "text/plain": [
       "Text(0, 0.5, 'F Core*Bias')"
      ]
     },
     "execution_count": 146,
     "metadata": {},
     "output_type": "execute_result"
    },
    {
     "data": {
      "image/png": "[encoded data removed]",
      "text/plain": [
       "<Figure size 432x288 with 1 Axes>"
      ]
     },
     "metadata": {
      "needs_background": "light"
     },
     "output_type": "display_data"
    }
   ],
   "source": [
    "fig, ax = plt.subplots()\n",
    "#plt.plot(b.z,b.bias,label='LSST')\n",
    "#plt.plot(b_w.z,b_w.bias,label='LW')\n",
    "plt.plot(b.z,b.bias*b.fcore,label='LSST-f')\n",
    "plt.plot(b_w.z,b_w.bias*b_w.fcore,label='LW-f')\n",
    "plt.legend()\n",
    "ax.minorticks_on()\n",
    "ax.yaxis.set_ticks_position('both')\n",
    "ax.xaxis.set_ticks_position('both')\n",
    "plt.xlabel('z true')\n",
    "plt.ylabel('F Core*Bias',fontsize=15)"
   ]
  },
  {
   "cell_type": "code",
   "execution_count": null,
   "metadata": {},
   "outputs": [],
   "source": [
    "#b.to_csv('interpolated_LSST.csv',sep = ' ',index = False)\n",
    "#b_w.to_csv('interpolated_LW.csv',sep = ' ',index = False)"
   ]
  },
  {
   "cell_type": "code",
   "execution_count": 147,
   "metadata": {
    "scrolled": false
   },
   "outputs": [
    {
     "name": "stdout",
     "output_type": "stream",
     "text": [
      "1 LSST_NEW                            2 LW\n"
     ]
    },
    {
     "data": {
      "text/html": [
       "<table style=\"display:inline\" border=\"1\" class=\"dataframe\">\n",
       "  <thead>\n",
       "    <tr style=\"text-align: right;\">\n",
       "      <th></th>\n",
       "      <th>z</th>\n",
       "      <th>N</th>\n",
       "      <th>z_true</th>\n",
       "      <th>zphot</th>\n",
       "      <th>bias</th>\n",
       "      <th>fcore</th>\n",
       "    </tr>\n",
       "  </thead>\n",
       "  <tbody>\n",
       "    <tr>\n",
       "      <th>0</th>\n",
       "      <td>0.05</td>\n",
       "      <td>1304</td>\n",
       "      <td>0.079959</td>\n",
       "      <td>0.249671</td>\n",
       "      <td>-0.001737</td>\n",
       "      <td>0.010177</td>\n",
       "    </tr>\n",
       "    <tr>\n",
       "      <th>1</th>\n",
       "      <td>0.15</td>\n",
       "      <td>2478</td>\n",
       "      <td>0.159753</td>\n",
       "      <td>0.405953</td>\n",
       "      <td>-0.002150</td>\n",
       "      <td>0.019339</td>\n",
       "    </tr>\n",
       "    <tr>\n",
       "      <th>2</th>\n",
       "      <td>0.25</td>\n",
       "      <td>9714</td>\n",
       "      <td>0.251158</td>\n",
       "      <td>0.395165</td>\n",
       "      <td>-0.003419</td>\n",
       "      <td>0.075809</td>\n",
       "    </tr>\n",
       "    <tr>\n",
       "      <th>3</th>\n",
       "      <td>0.35</td>\n",
       "      <td>9135</td>\n",
       "      <td>0.346542</td>\n",
       "      <td>0.456567</td>\n",
       "      <td>-0.003506</td>\n",
       "      <td>0.071291</td>\n",
       "    </tr>\n",
       "    <tr>\n",
       "      <th>4</th>\n",
       "      <td>0.45</td>\n",
       "      <td>15323</td>\n",
       "      <td>0.452942</td>\n",
       "      <td>0.491368</td>\n",
       "      <td>0.005078</td>\n",
       "      <td>0.119583</td>\n",
       "    </tr>\n",
       "    <tr>\n",
       "      <th>5</th>\n",
       "      <td>0.55</td>\n",
       "      <td>16020</td>\n",
       "      <td>0.554612</td>\n",
       "      <td>0.570695</td>\n",
       "      <td>0.002021</td>\n",
       "      <td>0.125022</td>\n",
       "    </tr>\n",
       "    <tr>\n",
       "      <th>6</th>\n",
       "      <td>0.65</td>\n",
       "      <td>17236</td>\n",
       "      <td>0.645302</td>\n",
       "      <td>0.662661</td>\n",
       "      <td>0.001721</td>\n",
       "      <td>0.134512</td>\n",
       "    </tr>\n",
       "    <tr>\n",
       "      <th>7</th>\n",
       "      <td>0.75</td>\n",
       "      <td>14547</td>\n",
       "      <td>0.754403</td>\n",
       "      <td>0.762372</td>\n",
       "      <td>-0.000543</td>\n",
       "      <td>0.113527</td>\n",
       "    </tr>\n",
       "    <tr>\n",
       "      <th>8</th>\n",
       "      <td>0.85</td>\n",
       "      <td>12712</td>\n",
       "      <td>0.844574</td>\n",
       "      <td>0.850553</td>\n",
       "      <td>0.002570</td>\n",
       "      <td>0.099206</td>\n",
       "    </tr>\n",
       "    <tr>\n",
       "      <th>9</th>\n",
       "      <td>0.95</td>\n",
       "      <td>13552</td>\n",
       "      <td>0.954429</td>\n",
       "      <td>0.971172</td>\n",
       "      <td>0.000268</td>\n",
       "      <td>0.105762</td>\n",
       "    </tr>\n",
       "    <tr>\n",
       "      <th>10</th>\n",
       "      <td>1.05</td>\n",
       "      <td>9016</td>\n",
       "      <td>1.047253</td>\n",
       "      <td>1.070265</td>\n",
       "      <td>-0.001023</td>\n",
       "      <td>0.070362</td>\n",
       "    </tr>\n",
       "    <tr>\n",
       "      <th>11</th>\n",
       "      <td>1.15</td>\n",
       "      <td>7100</td>\n",
       "      <td>1.148939</td>\n",
       "      <td>1.162299</td>\n",
       "      <td>-0.001332</td>\n",
       "      <td>0.055409</td>\n",
       "    </tr>\n",
       "  </tbody>\n",
       "</table style=\"display:inline\"><table style=\"display:inline\" border=\"1\" class=\"dataframe\">\n",
       "  <thead>\n",
       "    <tr style=\"text-align: right;\">\n",
       "      <th></th>\n",
       "      <th>z</th>\n",
       "      <th>N</th>\n",
       "      <th>z_true</th>\n",
       "      <th>zphot</th>\n",
       "      <th>bias</th>\n",
       "      <th>fcore</th>\n",
       "    </tr>\n",
       "  </thead>\n",
       "  <tbody>\n",
       "    <tr>\n",
       "      <th>0</th>\n",
       "      <td>0.05</td>\n",
       "      <td>1304</td>\n",
       "      <td>0.079959</td>\n",
       "      <td>0.087680</td>\n",
       "      <td>-0.000948</td>\n",
       "      <td>0.010168</td>\n",
       "    </tr>\n",
       "    <tr>\n",
       "      <th>1</th>\n",
       "      <td>0.15</td>\n",
       "      <td>2475</td>\n",
       "      <td>0.159723</td>\n",
       "      <td>0.164787</td>\n",
       "      <td>0.000267</td>\n",
       "      <td>0.019298</td>\n",
       "    </tr>\n",
       "    <tr>\n",
       "      <th>2</th>\n",
       "      <td>0.25</td>\n",
       "      <td>9714</td>\n",
       "      <td>0.251056</td>\n",
       "      <td>0.264840</td>\n",
       "      <td>-0.000322</td>\n",
       "      <td>0.075743</td>\n",
       "    </tr>\n",
       "    <tr>\n",
       "      <th>3</th>\n",
       "      <td>0.35</td>\n",
       "      <td>9161</td>\n",
       "      <td>0.346519</td>\n",
       "      <td>0.361497</td>\n",
       "      <td>-0.001861</td>\n",
       "      <td>0.071431</td>\n",
       "    </tr>\n",
       "    <tr>\n",
       "      <th>4</th>\n",
       "      <td>0.45</td>\n",
       "      <td>15313</td>\n",
       "      <td>0.452954</td>\n",
       "      <td>0.448169</td>\n",
       "      <td>0.002651</td>\n",
       "      <td>0.119400</td>\n",
       "    </tr>\n",
       "    <tr>\n",
       "      <th>5</th>\n",
       "      <td>0.55</td>\n",
       "      <td>16024</td>\n",
       "      <td>0.554583</td>\n",
       "      <td>0.542307</td>\n",
       "      <td>0.001582</td>\n",
       "      <td>0.124943</td>\n",
       "    </tr>\n",
       "    <tr>\n",
       "      <th>6</th>\n",
       "      <td>0.65</td>\n",
       "      <td>17269</td>\n",
       "      <td>0.645306</td>\n",
       "      <td>0.642620</td>\n",
       "      <td>0.001030</td>\n",
       "      <td>0.134651</td>\n",
       "    </tr>\n",
       "    <tr>\n",
       "      <th>7</th>\n",
       "      <td>0.75</td>\n",
       "      <td>14581</td>\n",
       "      <td>0.754370</td>\n",
       "      <td>0.756054</td>\n",
       "      <td>-0.000568</td>\n",
       "      <td>0.113692</td>\n",
       "    </tr>\n",
       "    <tr>\n",
       "      <th>8</th>\n",
       "      <td>0.85</td>\n",
       "      <td>12743</td>\n",
       "      <td>0.844598</td>\n",
       "      <td>0.838298</td>\n",
       "      <td>0.002589</td>\n",
       "      <td>0.099361</td>\n",
       "    </tr>\n",
       "    <tr>\n",
       "      <th>9</th>\n",
       "      <td>0.95</td>\n",
       "      <td>13555</td>\n",
       "      <td>0.954417</td>\n",
       "      <td>0.952653</td>\n",
       "      <td>0.000402</td>\n",
       "      <td>0.105692</td>\n",
       "    </tr>\n",
       "    <tr>\n",
       "      <th>10</th>\n",
       "      <td>1.05</td>\n",
       "      <td>9007</td>\n",
       "      <td>1.047208</td>\n",
       "      <td>1.046191</td>\n",
       "      <td>0.000869</td>\n",
       "      <td>0.070230</td>\n",
       "    </tr>\n",
       "    <tr>\n",
       "      <th>11</th>\n",
       "      <td>1.15</td>\n",
       "      <td>7104</td>\n",
       "      <td>1.148932</td>\n",
       "      <td>1.145702</td>\n",
       "      <td>0.001320</td>\n",
       "      <td>0.055392</td>\n",
       "    </tr>\n",
       "  </tbody>\n",
       "</table style=\"display:inline\">"
      ]
     },
     "metadata": {},
     "output_type": "display_data"
    }
   ],
   "source": [
    "print('1 LSST_NEW                            2 LW')\n",
    "display_side_by_side(b,b_w)"
   ]
  },
  {
   "cell_type": "code",
   "execution_count": 148,
   "metadata": {},
   "outputs": [],
   "source": [
    "lsst_old = pd.read_csv('../../interpolated_new_2.csv',sep =' ' )# cormean, CORbias. new2 = Cormean,CorIQRbias"
   ]
  },
  {
   "cell_type": "code",
   "execution_count": 149,
   "metadata": {},
   "outputs": [
    {
     "data": {
      "image/png": "[encoded data removed]",
      "text/plain": [
       "<Figure size 432x288 with 1 Axes>"
      ]
     },
     "metadata": {
      "needs_background": "light"
     },
     "output_type": "display_data"
    }
   ],
   "source": [
    "fig, ax = plt.subplots()\n",
    "plt.plot(lsst_old.z,lsst_old.bias,label='LSST_OLD')\n",
    "plt.plot(b.z,(-b.bias),label='LSST')\n",
    "plt.plot(b_w.z,(-b_w.bias),label='LW')\n",
    "plt.legend()\n",
    "ax.minorticks_on()\n",
    "ax.yaxis.set_ticks_position('both')\n",
    "ax.xaxis.set_ticks_position('both')\n",
    "plt.xlabel('z true')\n",
    "plt.ylabel('CORE Bias')\n",
    "plt.tight_layout()\n",
    "#plt.savefig('../Plot/Core_Bias.pdf',bbox_inches='tight')"
   ]
  },
  {
   "cell_type": "code",
   "execution_count": 150,
   "metadata": {},
   "outputs": [],
   "source": [
    "# To compare with Interpolation from Melissa's data\n",
    "LW_interp = pd.read_csv('interpolated_bias_LW_Melissa.csv',sep=' ')"
   ]
  },
  {
   "cell_type": "code",
   "execution_count": 190,
   "metadata": {},
   "outputs": [
    {
     "data": {
      "image/png": "[encoded data removed]",
      "text/plain": [
       "<Figure size 432x288 with 1 Axes>"
      ]
     },
     "metadata": {
      "needs_background": "light"
     },
     "output_type": "display_data"
    }
   ],
   "source": [
    "fig, ax = plt.subplots()\n",
    "plt.plot(lsst_old.z,lsst_old.bias,label='LSST_OLD')\n",
    "plt.plot(b.z,-(b.bias),label='LSST_NEW Our')\n",
    "plt.plot(b_w.z,-(b_w.bias),label='LW Our')\n",
    "plt.plot(LW_interp.z,(LW_interp.bias),label='LW_Interp_M') # M = Melissa's data\n",
    "plt.legend()\n",
    "ax.minorticks_on()\n",
    "ax.yaxis.set_ticks_position('both')\n",
    "ax.xaxis.set_ticks_position('both')\n",
    "plt.xlabel('z true')\n",
    "plt.ylabel('CORE Bias')\n",
    "\n",
    "#plt.text(0.4,-0.0017,'LW_Interp_M = Interpolated CORIQR from',fontsize=10);plt.text(0.4,-0.0024,'Melissas Data ',fontsize=10);plt.text(0.5,0.005,'12 Bins',fontsize=15)\n",
    "\n",
    "#plt.text(0.42,-0.007,'LW_Interp_M = Interpolated CORIQR from',fontsize=10);plt.text(0.42,-0.009,'Melissas Data ',fontsize=10);plt.text(0.6,0.005,'24 Bins',fontsize=15)\n",
    "\n",
    "plt.tight_layout()\n",
    "#plt.savefig('../Plot/Core_Bias_Compare_w_Melissa_24b_sign_change.pdf',bbox_inches='tight')"
   ]
  },
  {
   "cell_type": "code",
   "execution_count": 63,
   "metadata": {},
   "outputs": [],
   "source": [
    "LW_outlier = pd.read_csv('../Data/Catastrophic_tzpz_WFIRST_24_intersection.csv',sep=' ' )#Catastrophic_tzpz_WFIRST_24.csv"
   ]
  },
  {
   "cell_type": "code",
   "execution_count": 84,
   "metadata": {},
   "outputs": [],
   "source": [
    "f_t = LW_outlier.F+b_w.fcore # Adding the fraction bin by bin for the outlier and the core"
   ]
  },
  {
   "cell_type": "code",
   "execution_count": 93,
   "metadata": {},
   "outputs": [
    {
     "name": "stdout",
     "output_type": "stream",
     "text": [
      "***The Net sum of the fractions, i.e. f_total :***\n"
     ]
    },
    {
     "data": {
      "text/plain": [
       "1.2897687042675234"
      ]
     },
     "execution_count": 93,
     "metadata": {},
     "output_type": "execute_result"
    }
   ],
   "source": [
    "print('***The Net sum of the fractions, i.e. f_total :***')\n",
    "f_t.sum()"
   ]
  }
 ],
 "metadata": {
  "kernelspec": {
   "display_name": "Python 3",
   "language": "python",
   "name": "python3"
  },
  "language_info": {
   "codemirror_mode": {
    "name": "ipython",
    "version": 3
   },
   "file_extension": ".py",
   "mimetype": "text/x-python",
   "name": "python",
   "nbconvert_exporter": "python",
   "pygments_lexer": "ipython3",
   "version": "3.7.6"
  }
 },
 "nbformat": 4,
 "nbformat_minor": 4
}
