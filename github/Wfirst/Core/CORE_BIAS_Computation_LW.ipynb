{
 "cells": [
  {
   "cell_type": "code",
   "execution_count": 41,
   "metadata": {},
   "outputs": [],
   "source": [
    "import pandas as pd\n",
    "import numpy as np\n",
    "import matplotlib.pyplot as plt\n",
    "from matplotlib.colors import LogNorm,Normalize\n",
    "from matplotlib.ticker import (MultipleLocator, FormatStrFormatter,AutoMinorLocator)\n",
    "from IPython.display import display_html\n",
    "def display_side_by_side(*args):\n",
    "    html_str=''\n",
    "    for df in args:\n",
    "        html_str+=df.to_html()\n",
    "    display_html(html_str.replace('table','table style=\"display:inline\"'),raw=True)"
   ]
  },
  {
   "cell_type": "code",
   "execution_count": 42,
   "metadata": {},
   "outputs": [
    {
     "name": "stdout",
     "output_type": "stream",
     "text": [
      "/Volumes/HDD750GB/Programs/Fisher/github/Wfirst/Core\r\n"
     ]
    }
   ],
   "source": [
    "!pwd"
   ]
  },
  {
   "cell_type": "code",
   "execution_count": 75,
   "metadata": {},
   "outputs": [],
   "source": [
    "df = pd.read_csv('../tt0_2.zphot',sep=' ',index_col=False)#,header=None)\n",
    "df_w=pd.read_csv('../tt0_14.zphot',sep=' ',index_col=False)\n",
    "\n",
    "df.columns   = ['id', 'ztrue', 'zphot', 'zphoterr', 'N_cm']\n",
    "df_w.columns = ['id', 'ztrue', 'zphot', 'zphoterr', 'N_cm']\n",
    "\n",
    "df = df.iloc[:, :-1]\n",
    "df_w = df_w.iloc[:, :-1]\n",
    "\n",
    "df   = df.sort_values(by=['ztrue'])   \n",
    "df_w = df_w.sort_values(by=['ztrue'])   \n",
    "\n",
    "df = df[df.ztrue<=1.2]\n",
    "df_w = df_w[df_w.ztrue<=1.2]"
   ]
  },
  {
   "cell_type": "code",
   "execution_count": 76,
   "metadata": {},
   "outputs": [
    {
     "data": {
      "text/html": [
       "<div>\n",
       "<style scoped>\n",
       "    .dataframe tbody tr th:only-of-type {\n",
       "        vertical-align: middle;\n",
       "    }\n",
       "\n",
       "    .dataframe tbody tr th {\n",
       "        vertical-align: top;\n",
       "    }\n",
       "\n",
       "    .dataframe thead th {\n",
       "        text-align: right;\n",
       "    }\n",
       "</style>\n",
       "<table border=\"1\" class=\"dataframe\">\n",
       "  <thead>\n",
       "    <tr style=\"text-align: right;\">\n",
       "      <th></th>\n",
       "      <th>id</th>\n",
       "      <th>ztrue</th>\n",
       "      <th>zphot</th>\n",
       "      <th>zphoterr</th>\n",
       "    </tr>\n",
       "  </thead>\n",
       "  <tbody>\n",
       "    <tr>\n",
       "      <th>157136</th>\n",
       "      <td>851111</td>\n",
       "      <td>0.0170</td>\n",
       "      <td>0.0461</td>\n",
       "      <td>0.0321</td>\n",
       "    </tr>\n",
       "    <tr>\n",
       "      <th>14785</th>\n",
       "      <td>407570</td>\n",
       "      <td>0.0202</td>\n",
       "      <td>0.0494</td>\n",
       "      <td>0.0288</td>\n",
       "    </tr>\n",
       "    <tr>\n",
       "      <th>155933</th>\n",
       "      <td>842995</td>\n",
       "      <td>0.0205</td>\n",
       "      <td>0.0224</td>\n",
       "      <td>0.0420</td>\n",
       "    </tr>\n",
       "    <tr>\n",
       "      <th>80554</th>\n",
       "      <td>310087</td>\n",
       "      <td>0.0222</td>\n",
       "      <td>0.0875</td>\n",
       "      <td>0.0307</td>\n",
       "    </tr>\n",
       "    <tr>\n",
       "      <th>68441</th>\n",
       "      <td>226179</td>\n",
       "      <td>0.0223</td>\n",
       "      <td>0.2089</td>\n",
       "      <td>0.0646</td>\n",
       "    </tr>\n",
       "    <tr>\n",
       "      <th>...</th>\n",
       "      <td>...</td>\n",
       "      <td>...</td>\n",
       "      <td>...</td>\n",
       "      <td>...</td>\n",
       "    </tr>\n",
       "    <tr>\n",
       "      <th>58829</th>\n",
       "      <td>159700</td>\n",
       "      <td>1.1999</td>\n",
       "      <td>1.2288</td>\n",
       "      <td>0.0780</td>\n",
       "    </tr>\n",
       "    <tr>\n",
       "      <th>154424</th>\n",
       "      <td>832297</td>\n",
       "      <td>1.1999</td>\n",
       "      <td>1.1999</td>\n",
       "      <td>0.0711</td>\n",
       "    </tr>\n",
       "    <tr>\n",
       "      <th>5211</th>\n",
       "      <td>143982</td>\n",
       "      <td>1.2000</td>\n",
       "      <td>1.2178</td>\n",
       "      <td>0.0210</td>\n",
       "    </tr>\n",
       "    <tr>\n",
       "      <th>17455</th>\n",
       "      <td>483834</td>\n",
       "      <td>1.2000</td>\n",
       "      <td>1.2274</td>\n",
       "      <td>0.0276</td>\n",
       "    </tr>\n",
       "    <tr>\n",
       "      <th>34932</th>\n",
       "      <td>969415</td>\n",
       "      <td>1.2000</td>\n",
       "      <td>1.2000</td>\n",
       "      <td>0.0257</td>\n",
       "    </tr>\n",
       "  </tbody>\n",
       "</table>\n",
       "<p>128250 rows × 4 columns</p>\n",
       "</div>"
      ],
      "text/plain": [
       "            id   ztrue   zphot  zphoterr\n",
       "157136  851111  0.0170  0.0461    0.0321\n",
       "14785   407570  0.0202  0.0494    0.0288\n",
       "155933  842995  0.0205  0.0224    0.0420\n",
       "80554   310087  0.0222  0.0875    0.0307\n",
       "68441   226179  0.0223  0.2089    0.0646\n",
       "...        ...     ...     ...       ...\n",
       "58829   159700  1.1999  1.2288    0.0780\n",
       "154424  832297  1.1999  1.1999    0.0711\n",
       "5211    143982  1.2000  1.2178    0.0210\n",
       "17455   483834  1.2000  1.2274    0.0276\n",
       "34932   969415  1.2000  1.2000    0.0257\n",
       "\n",
       "[128250 rows x 4 columns]"
      ]
     },
     "execution_count": 76,
     "metadata": {},
     "output_type": "execute_result"
    }
   ],
   "source": [
    "df_w"
   ]
  },
  {
   "cell_type": "code",
   "execution_count": 79,
   "metadata": {},
   "outputs": [],
   "source": [
    "thresh_COR = 1.5\n",
    "\n",
    "### Identify the subset of catastrophic outlier-rejected test galaxies in the requested bin\n",
    "tx = np.where( ( np.abs( np.array(df_w.zphot) - np.array(df_w.ztrue) ) < thresh_COR ) )[0]\n",
    "CORzspec = np.array(df_w.ztrue)[tx]\n",
    "CORzphot = np.array(df_w.zphot)[tx]"
   ]
  },
  {
   "cell_type": "code",
   "execution_count": 88,
   "metadata": {},
   "outputs": [
    {
     "data": {
      "text/plain": [
       "Text(0.1, 1.0, 'CORE Bias Points')"
      ]
     },
     "execution_count": 88,
     "metadata": {},
     "output_type": "execute_result"
    },
    {
     "data": {
      "image/png": "[encoded data removed]",
      "text/plain": [
       "<Figure size 432x288 with 1 Axes>"
      ]
     },
     "metadata": {
      "needs_background": "light"
     },
     "output_type": "display_data"
    }
   ],
   "source": [
    "plt.hist2d( CORzphot, CORzspec, bins=100, range=[[0.0,1.2],[0.0,1.2]], norm=LogNorm(clip=True), \\\n",
    "            cmin=1, cmap='Greens');\n",
    "plt.xlabel('z_phot',fontsize=15);plt.ylabel('z_true',fontsize=15)\n",
    "plt.text(0.1,1.0,'CORE Bias Points',fontsize=15)"
   ]
  },
  {
   "cell_type": "code",
   "execution_count": 45,
   "metadata": {},
   "outputs": [],
   "source": [
    "# Based on : https://github.com/dirac-institute/CMNN_Photoz_Estimator/blob/master/cmnn_analysis.py\n",
    "def CORiqrbias(zphot,ztrue):\n",
    "    ###   thresh_COR : zspec-zphot threshold to define \"catastrophic outlier rejection\"\n",
    "    thresh_COR = 1.5\n",
    "\n",
    "    ### Identify the subset of catastrophic outlier-rejected test galaxies in the requested bin\n",
    "    tx = np.where( ( np.abs( zphot - ztrue ) < thresh_COR ) )[0]\n",
    "    CORzspec = ztrue[tx]\n",
    "    CORzphot = zphot[tx]\n",
    "\n",
    "    ### Define bin_dzo1pzp for use in all stats\n",
    "    CORdzo1pzp = ( CORzspec - CORzphot ) / ( float(1.0) + CORzphot )\n",
    "    CORdzo1pzp=np.array(CORdzo1pzp)\n",
    "    ### COR Intraquartile Range\n",
    "    q75, q25   = np.percentile( CORdzo1pzp, [75 ,25] )\n",
    "    CORIQR     = ( q75 - q25 )\n",
    "    CORIQRstdd = ( q75 - q25 ) / float(1.349)\n",
    "    tx         = np.where( ( CORdzo1pzp > q25 ) & ( CORdzo1pzp < q75 ) )[0]\n",
    "\n",
    "    CORIQRbias = np.mean( CORdzo1pzp[tx] )\n",
    "    return CORIQRbias"
   ]
  },
  {
   "cell_type": "code",
   "execution_count": 54,
   "metadata": {},
   "outputs": [],
   "source": [
    "def bias(df):\n",
    "    bins  = np.linspace(0,1.2,25)\n",
    "    start = (bins[0] + bins[1])/2.; end = (bins[-1] + bins[-2])/2.\n",
    "\n",
    "    label = np.linspace(start,end,24)\n",
    "    size=len(df)\n",
    "    df['bin_z'] = pd.cut(df.ztrue, bins=bins, labels=label)\n",
    "    df = df[df['bin_z'].notna()]\n",
    "    N=[];cor=[];zp=[];zs=[];fcore=[];\n",
    "    for each in label:\n",
    "        x = df[df['bin_z'] == each]\n",
    "        N.append(len(x))\n",
    "        cor.append(CORiqrbias(np.array(x.zphot),np.array(x.ztrue))) # Call the COR_IQR Function\n",
    "        zp.append(np.mean(x.zphot))\n",
    "        zs.append(np.mean(x.ztrue))\n",
    "        fcore.append(len(x)/size)\n",
    "    N = pd.DataFrame(np.array(N))\n",
    "    #N.columns = ['N']\n",
    "    N.reset_index(drop=True, inplace=True)\n",
    "    cor = pd.DataFrame(cor)\n",
    "    zs = pd.DataFrame(zs)\n",
    "    zp = pd.DataFrame(zp)\n",
    "    l = pd.DataFrame(label)   \n",
    "    fcore = pd.DataFrame(fcore)\n",
    "    N =  pd.concat([l,N,zs,zp,cor,fcore],axis=1,ignore_index=True)\n",
    "    N.columns = ['z','N','z_true','zphot','bias','fcore']\n",
    "    #N = N.iloc[0:12 , : ] # 12 Bins\n",
    "    return N"
   ]
  },
  {
   "cell_type": "code",
   "execution_count": 55,
   "metadata": {},
   "outputs": [],
   "source": [
    "b_w= bias(df_w)\n",
    "b = bias(df)"
   ]
  },
  {
   "cell_type": "code",
   "execution_count": 68,
   "metadata": {},
   "outputs": [
    {
     "data": {
      "text/plain": [
       "128250"
      ]
     },
     "execution_count": 68,
     "metadata": {},
     "output_type": "execute_result"
    }
   ],
   "source": [
    "b_w.N.sum()"
   ]
  },
  {
   "cell_type": "code",
   "execution_count": 89,
   "metadata": {},
   "outputs": [
    {
     "name": "stdout",
     "output_type": "stream",
     "text": [
      "Fraction in each bin for core points\n"
     ]
    },
    {
     "data": {
      "text/plain": [
       "0     0.000577\n",
       "1     0.009591\n",
       "2     0.007485\n",
       "3     0.011813\n",
       "4     0.029263\n",
       "5     0.046480\n",
       "6     0.039353\n",
       "7     0.032078\n",
       "8     0.051220\n",
       "9     0.068179\n",
       "10    0.058612\n",
       "11    0.066331\n",
       "12    0.081606\n",
       "13    0.053045\n",
       "14    0.050199\n",
       "15    0.063493\n",
       "16    0.059524\n",
       "17    0.039836\n",
       "18    0.050503\n",
       "19    0.055189\n",
       "20    0.037606\n",
       "21    0.032624\n",
       "22    0.029817\n",
       "23    0.025575\n",
       "Name: fcore, dtype: float64"
      ]
     },
     "execution_count": 89,
     "metadata": {},
     "output_type": "execute_result"
    }
   ],
   "source": [
    "print('Fraction in each bin for core points')\n",
    "b_w.fcore"
   ]
  },
  {
   "cell_type": "code",
   "execution_count": 90,
   "metadata": {},
   "outputs": [
    {
     "name": "stdout",
     "output_type": "stream",
     "text": [
      "Sum of total Fraction \n"
     ]
    },
    {
     "data": {
      "text/plain": [
       "0.9999999999999999"
      ]
     },
     "execution_count": 90,
     "metadata": {},
     "output_type": "execute_result"
    }
   ],
   "source": [
    "print('Sum of total Fraction ')\n",
    "b_w.fcore.sum()"
   ]
  },
  {
   "cell_type": "code",
   "execution_count": 57,
   "metadata": {},
   "outputs": [
    {
     "data": {
      "text/plain": [
       "Text(0, 0.5, 'CORE Bias')"
      ]
     },
     "execution_count": 57,
     "metadata": {},
     "output_type": "execute_result"
    },
    {
     "data": {
      "image/png": "[encoded data removed]",
      "text/plain": [
       "<Figure size 432x288 with 1 Axes>"
      ]
     },
     "metadata": {
      "needs_background": "light"
     },
     "output_type": "display_data"
    }
   ],
   "source": [
    "fig, ax = plt.subplots()\n",
    "plt.plot(b.z,b.bias,label='LSST')\n",
    "plt.plot(b_w.z,b_w.bias,label='LW')\n",
    "#plt.plot(b.z,b.fcore,label='LSST-f')\n",
    "#plt.plot(b_w.z,b_w.fcore,label='LW-f')\n",
    "plt.legend()\n",
    "ax.minorticks_on()\n",
    "ax.yaxis.set_ticks_position('both')\n",
    "ax.xaxis.set_ticks_position('both')\n",
    "plt.xlabel('z true')\n",
    "plt.ylabel('CORE Bias')"
   ]
  },
  {
   "cell_type": "code",
   "execution_count": 58,
   "metadata": {},
   "outputs": [
    {
     "data": {
      "text/plain": [
       "Text(0, 0.5, 'F Core')"
      ]
     },
     "execution_count": 58,
     "metadata": {},
     "output_type": "execute_result"
    },
    {
     "data": {
      "image/png": "[encoded data removed]",
      "text/plain": [
       "<Figure size 432x288 with 1 Axes>"
      ]
     },
     "metadata": {
      "needs_background": "light"
     },
     "output_type": "display_data"
    }
   ],
   "source": [
    "fig, ax = plt.subplots()\n",
    "#plt.plot(b.z,b.bias,label='LSST')\n",
    "#plt.plot(b_w.z,b_w.bias,label='LW')\n",
    "plt.plot(b.z,b.fcore,label='LSST-f')\n",
    "plt.plot(b_w.z,b_w.fcore,label='LW-f')\n",
    "plt.legend()\n",
    "ax.minorticks_on()\n",
    "ax.yaxis.set_ticks_position('both')\n",
    "ax.xaxis.set_ticks_position('both')\n",
    "plt.xlabel('z true')\n",
    "plt.ylabel('F Core')"
   ]
  },
  {
   "cell_type": "code",
   "execution_count": 91,
   "metadata": {},
   "outputs": [
    {
     "data": {
      "text/plain": [
       "Text(0, 0.5, 'F Core*Bias')"
      ]
     },
     "execution_count": 91,
     "metadata": {},
     "output_type": "execute_result"
    },
    {
     "data": {
      "image/png": "[encoded data removed]",
      "text/plain": [
       "<Figure size 432x288 with 1 Axes>"
      ]
     },
     "metadata": {
      "needs_background": "light"
     },
     "output_type": "display_data"
    }
   ],
   "source": [
    "fig, ax = plt.subplots()\n",
    "#plt.plot(b.z,b.bias,label='LSST')\n",
    "#plt.plot(b_w.z,b_w.bias,label='LW')\n",
    "plt.plot(b.z,b.bias*b.fcore,label='LSST-f')\n",
    "plt.plot(b_w.z,b_w.bias*b_w.fcore,label='LW-f')\n",
    "plt.legend()\n",
    "ax.minorticks_on()\n",
    "ax.yaxis.set_ticks_position('both')\n",
    "ax.xaxis.set_ticks_position('both')\n",
    "plt.xlabel('z true')\n",
    "plt.ylabel('F Core*Bias',fontsize=15)"
   ]
  },
  {
   "cell_type": "code",
   "execution_count": null,
   "metadata": {},
   "outputs": [],
   "source": [
    "#b.to_csv('interpolated_LSST.csv',sep = ' ',index = False)\n",
    "#b_w.to_csv('interpolated_LW.csv',sep = ' ',index = False)"
   ]
  },
  {
   "cell_type": "code",
   "execution_count": 92,
   "metadata": {
    "scrolled": false
   },
   "outputs": [
    {
     "name": "stdout",
     "output_type": "stream",
     "text": [
      "1 LSST_NEW                            2 LW\n"
     ]
    },
    {
     "data": {
      "text/html": [
       "<table style=\"display:inline\" border=\"1\" class=\"dataframe\">\n",
       "  <thead>\n",
       "    <tr style=\"text-align: right;\">\n",
       "      <th></th>\n",
       "      <th>z</th>\n",
       "      <th>N</th>\n",
       "      <th>z_true</th>\n",
       "      <th>zphot</th>\n",
       "      <th>bias</th>\n",
       "      <th>fcore</th>\n",
       "    </tr>\n",
       "  </thead>\n",
       "  <tbody>\n",
       "    <tr>\n",
       "      <th>0</th>\n",
       "      <td>0.025</td>\n",
       "      <td>74</td>\n",
       "      <td>0.039312</td>\n",
       "      <td>0.325834</td>\n",
       "      <td>-0.014418</td>\n",
       "      <td>0.000578</td>\n",
       "    </tr>\n",
       "    <tr>\n",
       "      <th>1</th>\n",
       "      <td>0.075</td>\n",
       "      <td>1230</td>\n",
       "      <td>0.082405</td>\n",
       "      <td>0.245089</td>\n",
       "      <td>-0.001264</td>\n",
       "      <td>0.009599</td>\n",
       "    </tr>\n",
       "    <tr>\n",
       "      <th>2</th>\n",
       "      <td>0.125</td>\n",
       "      <td>962</td>\n",
       "      <td>0.131200</td>\n",
       "      <td>0.397118</td>\n",
       "      <td>0.000565</td>\n",
       "      <td>0.007508</td>\n",
       "    </tr>\n",
       "    <tr>\n",
       "      <th>3</th>\n",
       "      <td>0.175</td>\n",
       "      <td>1516</td>\n",
       "      <td>0.177872</td>\n",
       "      <td>0.411559</td>\n",
       "      <td>-0.003640</td>\n",
       "      <td>0.011831</td>\n",
       "    </tr>\n",
       "    <tr>\n",
       "      <th>4</th>\n",
       "      <td>0.225</td>\n",
       "      <td>3738</td>\n",
       "      <td>0.218347</td>\n",
       "      <td>0.379288</td>\n",
       "      <td>-0.002861</td>\n",
       "      <td>0.029172</td>\n",
       "    </tr>\n",
       "    <tr>\n",
       "      <th>5</th>\n",
       "      <td>0.275</td>\n",
       "      <td>5976</td>\n",
       "      <td>0.271682</td>\n",
       "      <td>0.405096</td>\n",
       "      <td>-0.003765</td>\n",
       "      <td>0.046638</td>\n",
       "    </tr>\n",
       "    <tr>\n",
       "      <th>6</th>\n",
       "      <td>0.325</td>\n",
       "      <td>5030</td>\n",
       "      <td>0.320465</td>\n",
       "      <td>0.445635</td>\n",
       "      <td>-0.000158</td>\n",
       "      <td>0.039255</td>\n",
       "    </tr>\n",
       "    <tr>\n",
       "      <th>7</th>\n",
       "      <td>0.375</td>\n",
       "      <td>4105</td>\n",
       "      <td>0.378496</td>\n",
       "      <td>0.469964</td>\n",
       "      <td>-0.008576</td>\n",
       "      <td>0.032036</td>\n",
       "    </tr>\n",
       "    <tr>\n",
       "      <th>8</th>\n",
       "      <td>0.425</td>\n",
       "      <td>6579</td>\n",
       "      <td>0.426538</td>\n",
       "      <td>0.489801</td>\n",
       "      <td>-0.000345</td>\n",
       "      <td>0.051343</td>\n",
       "    </tr>\n",
       "    <tr>\n",
       "      <th>9</th>\n",
       "      <td>0.475</td>\n",
       "      <td>8744</td>\n",
       "      <td>0.472809</td>\n",
       "      <td>0.492547</td>\n",
       "      <td>0.008757</td>\n",
       "      <td>0.068239</td>\n",
       "    </tr>\n",
       "    <tr>\n",
       "      <th>10</th>\n",
       "      <td>0.525</td>\n",
       "      <td>7506</td>\n",
       "      <td>0.528867</td>\n",
       "      <td>0.536151</td>\n",
       "      <td>0.003336</td>\n",
       "      <td>0.058578</td>\n",
       "    </tr>\n",
       "    <tr>\n",
       "      <th>11</th>\n",
       "      <td>0.575</td>\n",
       "      <td>8514</td>\n",
       "      <td>0.577309</td>\n",
       "      <td>0.601148</td>\n",
       "      <td>0.001238</td>\n",
       "      <td>0.066445</td>\n",
       "    </tr>\n",
       "    <tr>\n",
       "      <th>12</th>\n",
       "      <td>0.625</td>\n",
       "      <td>10438</td>\n",
       "      <td>0.627670</td>\n",
       "      <td>0.646794</td>\n",
       "      <td>0.001538</td>\n",
       "      <td>0.081460</td>\n",
       "    </tr>\n",
       "    <tr>\n",
       "      <th>13</th>\n",
       "      <td>0.675</td>\n",
       "      <td>6798</td>\n",
       "      <td>0.672375</td>\n",
       "      <td>0.687024</td>\n",
       "      <td>0.002004</td>\n",
       "      <td>0.053053</td>\n",
       "    </tr>\n",
       "    <tr>\n",
       "      <th>14</th>\n",
       "      <td>0.725</td>\n",
       "      <td>6412</td>\n",
       "      <td>0.727868</td>\n",
       "      <td>0.738827</td>\n",
       "      <td>-0.000733</td>\n",
       "      <td>0.050040</td>\n",
       "    </tr>\n",
       "    <tr>\n",
       "      <th>15</th>\n",
       "      <td>0.775</td>\n",
       "      <td>8135</td>\n",
       "      <td>0.775318</td>\n",
       "      <td>0.780930</td>\n",
       "      <td>-0.000401</td>\n",
       "      <td>0.063487</td>\n",
       "    </tr>\n",
       "    <tr>\n",
       "      <th>16</th>\n",
       "      <td>0.825</td>\n",
       "      <td>7628</td>\n",
       "      <td>0.825704</td>\n",
       "      <td>0.829070</td>\n",
       "      <td>0.002011</td>\n",
       "      <td>0.059530</td>\n",
       "    </tr>\n",
       "    <tr>\n",
       "      <th>17</th>\n",
       "      <td>0.875</td>\n",
       "      <td>5084</td>\n",
       "      <td>0.872887</td>\n",
       "      <td>0.882786</td>\n",
       "      <td>0.003476</td>\n",
       "      <td>0.039676</td>\n",
       "    </tr>\n",
       "    <tr>\n",
       "      <th>18</th>\n",
       "      <td>0.925</td>\n",
       "      <td>6467</td>\n",
       "      <td>0.932450</td>\n",
       "      <td>0.956021</td>\n",
       "      <td>-0.000899</td>\n",
       "      <td>0.050469</td>\n",
       "    </tr>\n",
       "    <tr>\n",
       "      <th>19</th>\n",
       "      <td>0.975</td>\n",
       "      <td>7085</td>\n",
       "      <td>0.974491</td>\n",
       "      <td>0.985002</td>\n",
       "      <td>0.001294</td>\n",
       "      <td>0.055292</td>\n",
       "    </tr>\n",
       "    <tr>\n",
       "      <th>20</th>\n",
       "      <td>1.025</td>\n",
       "      <td>4823</td>\n",
       "      <td>1.024739</td>\n",
       "      <td>1.042735</td>\n",
       "      <td>0.000231</td>\n",
       "      <td>0.037639</td>\n",
       "    </tr>\n",
       "    <tr>\n",
       "      <th>21</th>\n",
       "      <td>1.075</td>\n",
       "      <td>4193</td>\n",
       "      <td>1.073150</td>\n",
       "      <td>1.101931</td>\n",
       "      <td>-0.002985</td>\n",
       "      <td>0.032723</td>\n",
       "    </tr>\n",
       "    <tr>\n",
       "      <th>22</th>\n",
       "      <td>1.125</td>\n",
       "      <td>3824</td>\n",
       "      <td>1.127500</td>\n",
       "      <td>1.149125</td>\n",
       "      <td>-0.004604</td>\n",
       "      <td>0.029843</td>\n",
       "    </tr>\n",
       "    <tr>\n",
       "      <th>23</th>\n",
       "      <td>1.175</td>\n",
       "      <td>3276</td>\n",
       "      <td>1.173965</td>\n",
       "      <td>1.177677</td>\n",
       "      <td>0.002391</td>\n",
       "      <td>0.025566</td>\n",
       "    </tr>\n",
       "  </tbody>\n",
       "</table style=\"display:inline\"><table style=\"display:inline\" border=\"1\" class=\"dataframe\">\n",
       "  <thead>\n",
       "    <tr style=\"text-align: right;\">\n",
       "      <th></th>\n",
       "      <th>z</th>\n",
       "      <th>N</th>\n",
       "      <th>z_true</th>\n",
       "      <th>zphot</th>\n",
       "      <th>bias</th>\n",
       "      <th>fcore</th>\n",
       "    </tr>\n",
       "  </thead>\n",
       "  <tbody>\n",
       "    <tr>\n",
       "      <th>0</th>\n",
       "      <td>0.025</td>\n",
       "      <td>74</td>\n",
       "      <td>0.039312</td>\n",
       "      <td>0.065124</td>\n",
       "      <td>-0.019829</td>\n",
       "      <td>0.000577</td>\n",
       "    </tr>\n",
       "    <tr>\n",
       "      <th>1</th>\n",
       "      <td>0.075</td>\n",
       "      <td>1230</td>\n",
       "      <td>0.082405</td>\n",
       "      <td>0.089037</td>\n",
       "      <td>-0.000487</td>\n",
       "      <td>0.009591</td>\n",
       "    </tr>\n",
       "    <tr>\n",
       "      <th>2</th>\n",
       "      <td>0.125</td>\n",
       "      <td>960</td>\n",
       "      <td>0.131160</td>\n",
       "      <td>0.131329</td>\n",
       "      <td>0.003902</td>\n",
       "      <td>0.007485</td>\n",
       "    </tr>\n",
       "    <tr>\n",
       "      <th>3</th>\n",
       "      <td>0.175</td>\n",
       "      <td>1515</td>\n",
       "      <td>0.177823</td>\n",
       "      <td>0.185987</td>\n",
       "      <td>-0.001715</td>\n",
       "      <td>0.011813</td>\n",
       "    </tr>\n",
       "    <tr>\n",
       "      <th>4</th>\n",
       "      <td>0.225</td>\n",
       "      <td>3753</td>\n",
       "      <td>0.218346</td>\n",
       "      <td>0.234216</td>\n",
       "      <td>-0.000242</td>\n",
       "      <td>0.029263</td>\n",
       "    </tr>\n",
       "    <tr>\n",
       "      <th>5</th>\n",
       "      <td>0.275</td>\n",
       "      <td>5961</td>\n",
       "      <td>0.271649</td>\n",
       "      <td>0.284120</td>\n",
       "      <td>-0.000378</td>\n",
       "      <td>0.046480</td>\n",
       "    </tr>\n",
       "    <tr>\n",
       "      <th>6</th>\n",
       "      <td>0.325</td>\n",
       "      <td>5047</td>\n",
       "      <td>0.320510</td>\n",
       "      <td>0.329498</td>\n",
       "      <td>0.000821</td>\n",
       "      <td>0.039353</td>\n",
       "    </tr>\n",
       "    <tr>\n",
       "      <th>7</th>\n",
       "      <td>0.375</td>\n",
       "      <td>4114</td>\n",
       "      <td>0.378426</td>\n",
       "      <td>0.400753</td>\n",
       "      <td>-0.006093</td>\n",
       "      <td>0.032078</td>\n",
       "    </tr>\n",
       "    <tr>\n",
       "      <th>8</th>\n",
       "      <td>0.425</td>\n",
       "      <td>6569</td>\n",
       "      <td>0.426544</td>\n",
       "      <td>0.433415</td>\n",
       "      <td>-0.001595</td>\n",
       "      <td>0.051220</td>\n",
       "    </tr>\n",
       "    <tr>\n",
       "      <th>9</th>\n",
       "      <td>0.475</td>\n",
       "      <td>8744</td>\n",
       "      <td>0.472795</td>\n",
       "      <td>0.459253</td>\n",
       "      <td>0.005161</td>\n",
       "      <td>0.068179</td>\n",
       "    </tr>\n",
       "    <tr>\n",
       "      <th>10</th>\n",
       "      <td>0.525</td>\n",
       "      <td>7517</td>\n",
       "      <td>0.528859</td>\n",
       "      <td>0.511757</td>\n",
       "      <td>0.001936</td>\n",
       "      <td>0.058612</td>\n",
       "    </tr>\n",
       "    <tr>\n",
       "      <th>11</th>\n",
       "      <td>0.575</td>\n",
       "      <td>8507</td>\n",
       "      <td>0.577313</td>\n",
       "      <td>0.569302</td>\n",
       "      <td>0.001330</td>\n",
       "      <td>0.066331</td>\n",
       "    </tr>\n",
       "    <tr>\n",
       "      <th>12</th>\n",
       "      <td>0.625</td>\n",
       "      <td>10466</td>\n",
       "      <td>0.627689</td>\n",
       "      <td>0.624289</td>\n",
       "      <td>0.000809</td>\n",
       "      <td>0.081606</td>\n",
       "    </tr>\n",
       "    <tr>\n",
       "      <th>13</th>\n",
       "      <td>0.675</td>\n",
       "      <td>6803</td>\n",
       "      <td>0.672408</td>\n",
       "      <td>0.670822</td>\n",
       "      <td>0.001367</td>\n",
       "      <td>0.053045</td>\n",
       "    </tr>\n",
       "    <tr>\n",
       "      <th>14</th>\n",
       "      <td>0.725</td>\n",
       "      <td>6438</td>\n",
       "      <td>0.727830</td>\n",
       "      <td>0.730040</td>\n",
       "      <td>-0.000982</td>\n",
       "      <td>0.050199</td>\n",
       "    </tr>\n",
       "    <tr>\n",
       "      <th>15</th>\n",
       "      <td>0.775</td>\n",
       "      <td>8143</td>\n",
       "      <td>0.775353</td>\n",
       "      <td>0.776620</td>\n",
       "      <td>-0.000189</td>\n",
       "      <td>0.063493</td>\n",
       "    </tr>\n",
       "    <tr>\n",
       "      <th>16</th>\n",
       "      <td>0.825</td>\n",
       "      <td>7634</td>\n",
       "      <td>0.825638</td>\n",
       "      <td>0.820676</td>\n",
       "      <td>0.002223</td>\n",
       "      <td>0.059524</td>\n",
       "    </tr>\n",
       "    <tr>\n",
       "      <th>17</th>\n",
       "      <td>0.875</td>\n",
       "      <td>5109</td>\n",
       "      <td>0.872928</td>\n",
       "      <td>0.864629</td>\n",
       "      <td>0.003145</td>\n",
       "      <td>0.039836</td>\n",
       "    </tr>\n",
       "    <tr>\n",
       "      <th>18</th>\n",
       "      <td>0.925</td>\n",
       "      <td>6477</td>\n",
       "      <td>0.932416</td>\n",
       "      <td>0.930280</td>\n",
       "      <td>-0.000671</td>\n",
       "      <td>0.050503</td>\n",
       "    </tr>\n",
       "    <tr>\n",
       "      <th>19</th>\n",
       "      <td>0.975</td>\n",
       "      <td>7078</td>\n",
       "      <td>0.974549</td>\n",
       "      <td>0.973127</td>\n",
       "      <td>0.001349</td>\n",
       "      <td>0.055189</td>\n",
       "    </tr>\n",
       "    <tr>\n",
       "      <th>20</th>\n",
       "      <td>1.025</td>\n",
       "      <td>4823</td>\n",
       "      <td>1.024700</td>\n",
       "      <td>1.023155</td>\n",
       "      <td>0.000984</td>\n",
       "      <td>0.037606</td>\n",
       "    </tr>\n",
       "    <tr>\n",
       "      <th>21</th>\n",
       "      <td>1.075</td>\n",
       "      <td>4184</td>\n",
       "      <td>1.073155</td>\n",
       "      <td>1.072746</td>\n",
       "      <td>0.000720</td>\n",
       "      <td>0.032624</td>\n",
       "    </tr>\n",
       "    <tr>\n",
       "      <th>22</th>\n",
       "      <td>1.125</td>\n",
       "      <td>3824</td>\n",
       "      <td>1.127467</td>\n",
       "      <td>1.127007</td>\n",
       "      <td>0.000077</td>\n",
       "      <td>0.029817</td>\n",
       "    </tr>\n",
       "    <tr>\n",
       "      <th>23</th>\n",
       "      <td>1.175</td>\n",
       "      <td>3280</td>\n",
       "      <td>1.173957</td>\n",
       "      <td>1.167498</td>\n",
       "      <td>0.002660</td>\n",
       "      <td>0.025575</td>\n",
       "    </tr>\n",
       "  </tbody>\n",
       "</table style=\"display:inline\">"
      ]
     },
     "metadata": {},
     "output_type": "display_data"
    }
   ],
   "source": [
    "print('1 LSST_NEW                            2 LW')\n",
    "display_side_by_side(b,b_w)"
   ]
  },
  {
   "cell_type": "code",
   "execution_count": 61,
   "metadata": {},
   "outputs": [],
   "source": [
    "lsst_old = pd.read_csv('../../interpolated_new_2.csv',sep =' ' )# cormean, CORbias. new2 = Cormean,CorIQRbias"
   ]
  },
  {
   "cell_type": "code",
   "execution_count": 62,
   "metadata": {},
   "outputs": [
    {
     "data": {
      "image/png": "[encoded data removed]",
      "text/plain": [
       "<Figure size 432x288 with 1 Axes>"
      ]
     },
     "metadata": {
      "needs_background": "light"
     },
     "output_type": "display_data"
    }
   ],
   "source": [
    "fig, ax = plt.subplots()\n",
    "plt.plot(lsst_old.z,lsst_old.bias,label='LSST_OLD')\n",
    "plt.plot(b.z,(-b.bias),label='LSST')\n",
    "plt.plot(b_w.z,(-b_w.bias),label='LW')\n",
    "plt.legend()\n",
    "ax.minorticks_on()\n",
    "ax.yaxis.set_ticks_position('both')\n",
    "ax.xaxis.set_ticks_position('both')\n",
    "plt.xlabel('z true')\n",
    "plt.ylabel('CORE Bias')\n",
    "plt.tight_layout()\n",
    "#plt.savefig('../Plot/Core_Bias.pdf',bbox_inches='tight')"
   ]
  },
  {
   "cell_type": "code",
   "execution_count": 63,
   "metadata": {},
   "outputs": [],
   "source": [
    "LW_outlier = pd.read_csv('../Data/Catastrophic_tzpz_WFIRST_24_intersection.csv',sep=' ' )#Catastrophic_tzpz_WFIRST_24.csv"
   ]
  },
  {
   "cell_type": "code",
   "execution_count": 84,
   "metadata": {},
   "outputs": [],
   "source": [
    "f_t = LW_outlier.F+b_w.fcore # Adding the fraction bin by bin for the outlier and the core"
   ]
  },
  {
   "cell_type": "code",
   "execution_count": 93,
   "metadata": {},
   "outputs": [
    {
     "name": "stdout",
     "output_type": "stream",
     "text": [
      "***The Net sum of the fractions, i.e. f_total :***\n"
     ]
    },
    {
     "data": {
      "text/plain": [
       "1.2897687042675234"
      ]
     },
     "execution_count": 93,
     "metadata": {},
     "output_type": "execute_result"
    }
   ],
   "source": [
    "print('***The Net sum of the fractions, i.e. f_total :***')\n",
    "f_t.sum()"
   ]
  }
 ],
 "metadata": {
  "kernelspec": {
   "display_name": "Python 3",
   "language": "python",
   "name": "python3"
  },
  "language_info": {
   "codemirror_mode": {
    "name": "ipython",
    "version": 3
   },
   "file_extension": ".py",
   "mimetype": "text/x-python",
   "name": "python",
   "nbconvert_exporter": "python",
   "pygments_lexer": "ipython3",
   "version": "3.7.6"
  }
 },
 "nbformat": 4,
 "nbformat_minor": 4
}
