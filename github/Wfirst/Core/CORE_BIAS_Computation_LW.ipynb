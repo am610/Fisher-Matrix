{
 "cells": [
  {
   "cell_type": "code",
   "execution_count": 78,
   "metadata": {},
   "outputs": [],
   "source": [
    "import pandas as pd\n",
    "import numpy as np\n",
    "import matplotlib.pyplot as plt\n",
    "from matplotlib.colors import LogNorm,Normalize\n",
    "from matplotlib.ticker import (MultipleLocator, FormatStrFormatter,AutoMinorLocator)\n",
    "from IPython.display import display_html\n",
    "def display_side_by_side(*args):\n",
    "    html_str=''\n",
    "    for df in args:\n",
    "        html_str+=df.to_html()\n",
    "    display_html(html_str.replace('table','table style=\"display:inline\"'),raw=True)"
   ]
  },
  {
   "cell_type": "code",
   "execution_count": 91,
   "metadata": {},
   "outputs": [
    {
     "name": "stdout",
     "output_type": "stream",
     "text": [
      "/Volumes/HDD750GB/Programs/Fisher/github/Wfirst/Core\r\n"
     ]
    }
   ],
   "source": [
    "!pwd"
   ]
  },
  {
   "cell_type": "code",
   "execution_count": 41,
   "metadata": {},
   "outputs": [],
   "source": [
    "df = pd.read_csv('../tt0_2.zphot',sep=' ',index_col=False)#,header=None)\n",
    "df_w=pd.read_csv('../tt0_14.zphot',sep=' ',index_col=False)\n",
    "\n",
    "df.columns   = ['id', 'ztrue', 'zphot', 'zphoterr', 'N_cm']\n",
    "df_w.columns = ['id', 'ztrue', 'zphot', 'zphoterr', 'N_cm']\n",
    "\n",
    "df = df.iloc[:, :-1]\n",
    "df_w = df_w.iloc[:, :-1]\n",
    "\n",
    "df   = df.sort_values(by=['ztrue'])   \n",
    "df_w = df_w.sort_values(by=['ztrue'])   "
   ]
  },
  {
   "cell_type": "code",
   "execution_count": 43,
   "metadata": {},
   "outputs": [],
   "source": [
    "# Based on : https://github.com/dirac-institute/CMNN_Photoz_Estimator/blob/master/cmnn_analysis.py\n",
    "def CORiqrbias(zphot,ztrue):\n",
    "    ###   thresh_COR : zspec-zphot threshold to define \"catastrophic outlier rejection\"\n",
    "    thresh_COR = 1.5\n",
    "\n",
    "    ### Identify the subset of catastrophic outlier-rejected test galaxies in the requested bin\n",
    "    tx = np.where( ( np.abs( zphot - ztrue ) < thresh_COR ) )[0]\n",
    "    CORzspec = ztrue[tx]\n",
    "    CORzphot = zphot[tx]\n",
    "\n",
    "    ### Define bin_dzo1pzp for use in all stats\n",
    "    CORdzo1pzp = ( CORzspec - CORzphot ) / ( float(1.0) + CORzphot )\n",
    "    CORdzo1pzp=np.array(CORdzo1pzp)\n",
    "    ### COR Intraquartile Range\n",
    "    q75, q25   = np.percentile( CORdzo1pzp, [75 ,25] )\n",
    "    CORIQR     = ( q75 - q25 )\n",
    "    CORIQRstdd = ( q75 - q25 ) / float(1.349)\n",
    "    tx         = np.where( ( CORdzo1pzp > q25 ) & ( CORdzo1pzp < q75 ) )[0]\n",
    "\n",
    "    CORIQRbias = np.mean( CORdzo1pzp[tx] )\n",
    "    return CORIQRbias"
   ]
  },
  {
   "cell_type": "code",
   "execution_count": 86,
   "metadata": {},
   "outputs": [],
   "source": [
    "def bias(df):\n",
    "    bins = np.linspace(0,3.3,34)\n",
    "    label = np.linspace(0.05,3.25,33)\n",
    "    \n",
    "    df['bin_z'] = pd.cut(df.ztrue, bins=bins, labels=label)\n",
    "    df = df[df['bin_z'].notna()]\n",
    "    N=[];cor=[];zp=[];zs=[];\n",
    "    for each in label:\n",
    "        x = df[df['bin_z'] == each]\n",
    "        N.append(len(x))\n",
    "        cor.append(CORiqrbias(np.array(x.zphot),np.array(x.ztrue))) # Call the COR_IQR Function\n",
    "        zp.append(np.mean(x.zphot))\n",
    "        zs.append(np.mean(x.ztrue))\n",
    "    N = pd.DataFrame(np.array(N))\n",
    "    #N.columns = ['N']\n",
    "    N.reset_index(drop=True, inplace=True)\n",
    "    cor = pd.DataFrame(cor)\n",
    "    zs = pd.DataFrame(zs)\n",
    "    zp = pd.DataFrame(zp)\n",
    "    l = pd.DataFrame(label)   \n",
    "    N =  pd.concat([l,N,zs,zp,cor],axis=1,ignore_index=True)\n",
    "    N.columns = ['z','N','z_true','zphot','bias']\n",
    "    N = N.iloc[0:12 , : ] # 12 Bins\n",
    "    return N"
   ]
  },
  {
   "cell_type": "code",
   "execution_count": 87,
   "metadata": {},
   "outputs": [],
   "source": [
    "b_w= bias(df_w)\n",
    "b = bias(df)"
   ]
  },
  {
   "cell_type": "code",
   "execution_count": 88,
   "metadata": {},
   "outputs": [
    {
     "data": {
      "text/plain": [
       "Text(0, 0.5, 'CORE Bias')"
      ]
     },
     "execution_count": 88,
     "metadata": {},
     "output_type": "execute_result"
    },
    {
     "data": {
      "image/png": "[encoded data removed]",
      "text/plain": [
       "<Figure size 432x288 with 1 Axes>"
      ]
     },
     "metadata": {
      "needs_background": "light"
     },
     "output_type": "display_data"
    }
   ],
   "source": [
    "fig, ax = plt.subplots()\n",
    "plt.plot(b.z,b.bias,label='LSST')\n",
    "plt.plot(b_w.z,b_w.bias,label='LW')\n",
    "plt.legend()\n",
    "ax.minorticks_on()\n",
    "ax.yaxis.set_ticks_position('both')\n",
    "ax.xaxis.set_ticks_position('both')\n",
    "plt.xlabel('z true')\n",
    "plt.ylabel('CORE Bias')"
   ]
  },
  {
   "cell_type": "code",
   "execution_count": 89,
   "metadata": {},
   "outputs": [],
   "source": [
    "b.to_csv('interpolated_LSST.csv',sep = ' ',index = False)\n",
    "b_w.to_csv('interpolated_LW.csv',sep = ' ',index = False)"
   ]
  },
  {
   "cell_type": "code",
   "execution_count": 90,
   "metadata": {
    "scrolled": false
   },
   "outputs": [
    {
     "name": "stdout",
     "output_type": "stream",
     "text": [
      "LSST_NEW                             LW\n"
     ]
    },
    {
     "data": {
      "text/html": [
       "<table style=\"display:inline\" border=\"1\" class=\"dataframe\">\n",
       "  <thead>\n",
       "    <tr style=\"text-align: right;\">\n",
       "      <th></th>\n",
       "      <th>z</th>\n",
       "      <th>N</th>\n",
       "      <th>z_true</th>\n",
       "      <th>zphot</th>\n",
       "      <th>bias</th>\n",
       "    </tr>\n",
       "  </thead>\n",
       "  <tbody>\n",
       "    <tr>\n",
       "      <th>0</th>\n",
       "      <td>0.05</td>\n",
       "      <td>1304</td>\n",
       "      <td>0.079959</td>\n",
       "      <td>0.249671</td>\n",
       "      <td>-0.001737</td>\n",
       "    </tr>\n",
       "    <tr>\n",
       "      <th>1</th>\n",
       "      <td>0.15</td>\n",
       "      <td>2478</td>\n",
       "      <td>0.159753</td>\n",
       "      <td>0.405953</td>\n",
       "      <td>-0.002150</td>\n",
       "    </tr>\n",
       "    <tr>\n",
       "      <th>2</th>\n",
       "      <td>0.25</td>\n",
       "      <td>9714</td>\n",
       "      <td>0.251158</td>\n",
       "      <td>0.395165</td>\n",
       "      <td>-0.003419</td>\n",
       "    </tr>\n",
       "    <tr>\n",
       "      <th>3</th>\n",
       "      <td>0.35</td>\n",
       "      <td>9135</td>\n",
       "      <td>0.346542</td>\n",
       "      <td>0.456567</td>\n",
       "      <td>-0.003506</td>\n",
       "    </tr>\n",
       "    <tr>\n",
       "      <th>4</th>\n",
       "      <td>0.45</td>\n",
       "      <td>15323</td>\n",
       "      <td>0.452942</td>\n",
       "      <td>0.491368</td>\n",
       "      <td>0.005078</td>\n",
       "    </tr>\n",
       "    <tr>\n",
       "      <th>5</th>\n",
       "      <td>0.55</td>\n",
       "      <td>16020</td>\n",
       "      <td>0.554612</td>\n",
       "      <td>0.570695</td>\n",
       "      <td>0.002021</td>\n",
       "    </tr>\n",
       "    <tr>\n",
       "      <th>6</th>\n",
       "      <td>0.65</td>\n",
       "      <td>17236</td>\n",
       "      <td>0.645302</td>\n",
       "      <td>0.662661</td>\n",
       "      <td>0.001721</td>\n",
       "    </tr>\n",
       "    <tr>\n",
       "      <th>7</th>\n",
       "      <td>0.75</td>\n",
       "      <td>14547</td>\n",
       "      <td>0.754403</td>\n",
       "      <td>0.762372</td>\n",
       "      <td>-0.000543</td>\n",
       "    </tr>\n",
       "    <tr>\n",
       "      <th>8</th>\n",
       "      <td>0.85</td>\n",
       "      <td>12712</td>\n",
       "      <td>0.844574</td>\n",
       "      <td>0.850553</td>\n",
       "      <td>0.002570</td>\n",
       "    </tr>\n",
       "    <tr>\n",
       "      <th>9</th>\n",
       "      <td>0.95</td>\n",
       "      <td>13552</td>\n",
       "      <td>0.954429</td>\n",
       "      <td>0.971172</td>\n",
       "      <td>0.000268</td>\n",
       "    </tr>\n",
       "    <tr>\n",
       "      <th>10</th>\n",
       "      <td>1.05</td>\n",
       "      <td>9016</td>\n",
       "      <td>1.047253</td>\n",
       "      <td>1.070265</td>\n",
       "      <td>-0.001023</td>\n",
       "    </tr>\n",
       "    <tr>\n",
       "      <th>11</th>\n",
       "      <td>1.15</td>\n",
       "      <td>7100</td>\n",
       "      <td>1.148939</td>\n",
       "      <td>1.162299</td>\n",
       "      <td>-0.001332</td>\n",
       "    </tr>\n",
       "  </tbody>\n",
       "</table style=\"display:inline\"><table style=\"display:inline\" border=\"1\" class=\"dataframe\">\n",
       "  <thead>\n",
       "    <tr style=\"text-align: right;\">\n",
       "      <th></th>\n",
       "      <th>z</th>\n",
       "      <th>N</th>\n",
       "      <th>z_true</th>\n",
       "      <th>zphot</th>\n",
       "      <th>bias</th>\n",
       "    </tr>\n",
       "  </thead>\n",
       "  <tbody>\n",
       "    <tr>\n",
       "      <th>0</th>\n",
       "      <td>0.05</td>\n",
       "      <td>1304</td>\n",
       "      <td>0.079959</td>\n",
       "      <td>0.087680</td>\n",
       "      <td>-0.000948</td>\n",
       "    </tr>\n",
       "    <tr>\n",
       "      <th>1</th>\n",
       "      <td>0.15</td>\n",
       "      <td>2475</td>\n",
       "      <td>0.159723</td>\n",
       "      <td>0.164787</td>\n",
       "      <td>0.000267</td>\n",
       "    </tr>\n",
       "    <tr>\n",
       "      <th>2</th>\n",
       "      <td>0.25</td>\n",
       "      <td>9714</td>\n",
       "      <td>0.251056</td>\n",
       "      <td>0.264840</td>\n",
       "      <td>-0.000322</td>\n",
       "    </tr>\n",
       "    <tr>\n",
       "      <th>3</th>\n",
       "      <td>0.35</td>\n",
       "      <td>9161</td>\n",
       "      <td>0.346519</td>\n",
       "      <td>0.361497</td>\n",
       "      <td>-0.001861</td>\n",
       "    </tr>\n",
       "    <tr>\n",
       "      <th>4</th>\n",
       "      <td>0.45</td>\n",
       "      <td>15313</td>\n",
       "      <td>0.452954</td>\n",
       "      <td>0.448169</td>\n",
       "      <td>0.002651</td>\n",
       "    </tr>\n",
       "    <tr>\n",
       "      <th>5</th>\n",
       "      <td>0.55</td>\n",
       "      <td>16024</td>\n",
       "      <td>0.554583</td>\n",
       "      <td>0.542307</td>\n",
       "      <td>0.001582</td>\n",
       "    </tr>\n",
       "    <tr>\n",
       "      <th>6</th>\n",
       "      <td>0.65</td>\n",
       "      <td>17269</td>\n",
       "      <td>0.645306</td>\n",
       "      <td>0.642620</td>\n",
       "      <td>0.001030</td>\n",
       "    </tr>\n",
       "    <tr>\n",
       "      <th>7</th>\n",
       "      <td>0.75</td>\n",
       "      <td>14581</td>\n",
       "      <td>0.754370</td>\n",
       "      <td>0.756054</td>\n",
       "      <td>-0.000568</td>\n",
       "    </tr>\n",
       "    <tr>\n",
       "      <th>8</th>\n",
       "      <td>0.85</td>\n",
       "      <td>12743</td>\n",
       "      <td>0.844598</td>\n",
       "      <td>0.838298</td>\n",
       "      <td>0.002589</td>\n",
       "    </tr>\n",
       "    <tr>\n",
       "      <th>9</th>\n",
       "      <td>0.95</td>\n",
       "      <td>13555</td>\n",
       "      <td>0.954417</td>\n",
       "      <td>0.952653</td>\n",
       "      <td>0.000402</td>\n",
       "    </tr>\n",
       "    <tr>\n",
       "      <th>10</th>\n",
       "      <td>1.05</td>\n",
       "      <td>9007</td>\n",
       "      <td>1.047208</td>\n",
       "      <td>1.046191</td>\n",
       "      <td>0.000869</td>\n",
       "    </tr>\n",
       "    <tr>\n",
       "      <th>11</th>\n",
       "      <td>1.15</td>\n",
       "      <td>7104</td>\n",
       "      <td>1.148932</td>\n",
       "      <td>1.145702</td>\n",
       "      <td>0.001320</td>\n",
       "    </tr>\n",
       "  </tbody>\n",
       "</table style=\"display:inline\">"
      ]
     },
     "metadata": {},
     "output_type": "display_data"
    }
   ],
   "source": [
    "print('LSST_NEW                             LW')\n",
    "display_side_by_side(b,b_w)"
   ]
  },
  {
   "cell_type": "code",
   "execution_count": 92,
   "metadata": {},
   "outputs": [],
   "source": [
    "lsst_old = pd.read_csv('../../interpolated_new_2.csv',sep =' ' )# cormean, CORbias. new2 = Cormean,CorIQRbias"
   ]
  },
  {
   "cell_type": "code",
   "execution_count": 98,
   "metadata": {},
   "outputs": [
    {
     "data": {
      "image/png": "[encoded data removed]",
      "text/plain": [
       "<Figure size 432x288 with 1 Axes>"
      ]
     },
     "metadata": {
      "needs_background": "light"
     },
     "output_type": "display_data"
    }
   ],
   "source": [
    "fig, ax = plt.subplots()\n",
    "plt.plot(lsst_old.z,lsst_old.bias,label='LSST_OLD')\n",
    "plt.plot(b.z,(b.bias),label='LSST')\n",
    "plt.plot(b_w.z,(b_w.bias),label='LW')\n",
    "plt.legend()\n",
    "ax.minorticks_on()\n",
    "ax.yaxis.set_ticks_position('both')\n",
    "ax.xaxis.set_ticks_position('both')\n",
    "plt.xlabel('z true')\n",
    "plt.ylabel('CORE Bias')\n",
    "plt.tight_layout()\n",
    "#plt.savefig('../Plot/Core_Bias.pdf',bbox_inches='tight')"
   ]
  }
 ],
 "metadata": {
  "kernelspec": {
   "display_name": "Python 3",
   "language": "python",
   "name": "python3"
  },
  "language_info": {
   "codemirror_mode": {
    "name": "ipython",
    "version": 3
   },
   "file_extension": ".py",
   "mimetype": "text/x-python",
   "name": "python",
   "nbconvert_exporter": "python",
   "pygments_lexer": "ipython3",
   "version": "3.7.6"
  }
 },
 "nbformat": 4,
 "nbformat_minor": 4
}
