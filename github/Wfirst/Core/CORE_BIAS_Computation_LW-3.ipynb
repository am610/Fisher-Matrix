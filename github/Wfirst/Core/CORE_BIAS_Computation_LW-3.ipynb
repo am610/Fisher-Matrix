{
 "cells": [
  {
   "cell_type": "code",
   "execution_count": 1,
   "metadata": {},
   "outputs": [],
   "source": [
    "import pandas as pd\n",
    "import numpy as np\n",
    "import matplotlib.pyplot as plt\n",
    "from matplotlib.colors import LogNorm,Normalize\n",
    "from matplotlib.ticker import (MultipleLocator, FormatStrFormatter,AutoMinorLocator)\n",
    "from IPython.display import display_html\n",
    "def display_side_by_side(*args):\n",
    "    html_str=''\n",
    "    for df in args:\n",
    "        html_str+=df.to_html()\n",
    "    display_html(html_str.replace('table','table style=\"display:inline\"'),raw=True)"
   ]
  },
  {
   "cell_type": "code",
   "execution_count": 2,
   "metadata": {},
   "outputs": [
    {
     "name": "stdout",
     "output_type": "stream",
     "text": [
      "/Volumes/HDD750GB/Programs/Fisher/github/Wfirst/Core\r\n"
     ]
    }
   ],
   "source": [
    "!pwd"
   ]
  },
  {
   "cell_type": "code",
   "execution_count": 3,
   "metadata": {},
   "outputs": [],
   "source": [
    "#df = pd.read_csv('../tt0_2.zphot',sep=' ',index_col=False)#,header=None)\n",
    "df_w=pd.read_csv('../Core_WFRIST.csv',sep=' ',index_col=False)\n",
    "\n",
    "#df.columns   = ['id', 'ztrue', 'zphot', 'zphoterr', 'N_cm']\n",
    "df_w.columns = ['ztrue', 'zphot']\n",
    "\n",
    "#df = df.iloc[:, :-1]\n",
    "#df_w = df_w.iloc[:, :-1]\n",
    "\n",
    "#df   = df.sort_values(by=['ztrue'])   \n",
    "df_w = df_w.sort_values(by=['ztrue'])   \n",
    "\n",
    "#df = df[df.ztrue<=1.2]\n",
    "#df_w = df_w[df_w.ztrue<=1.2]"
   ]
  },
  {
   "cell_type": "code",
   "execution_count": 15,
   "metadata": {},
   "outputs": [],
   "source": [
    "lsst_old = pd.read_csv('../../interpolated_new_2.csv',sep =' ' )# cormean, CORbias. new2 = Cormean,CorIQRbias"
   ]
  },
  {
   "cell_type": "code",
   "execution_count": 17,
   "metadata": {},
   "outputs": [],
   "source": [
    "# To compare with Interpolation from Melissa's data\n",
    "LW_interp = pd.read_csv('interpolated_bias_LW_Melissa.csv',sep=' ')"
   ]
  },
  {
   "cell_type": "code",
   "execution_count": 19,
   "metadata": {},
   "outputs": [],
   "source": [
    "# Ignore the 'intersection' in the file name. This file contains the outlier LW info complementary to the core \n",
    "# info computed here\n",
    "LW_outlier = pd.read_csv('Catastrophic_tzpz_WFIRST_24_intersection.csv',sep=' ' )#Catastrophic_tzpz_WFIRST_24.csv"
   ]
  },
  {
   "cell_type": "code",
   "execution_count": 4,
   "metadata": {},
   "outputs": [],
   "source": [
    "# Based on : https://github.com/dirac-institute/CMNN_Photoz_Estimator/blob/master/cmnn_analysis.py\n",
    "def CORiqrbias(zphot,ztrue):\n",
    " \n",
    "    tmp = (zphot-ztrue)\n",
    "    \n",
    "    bias = np.mean(tmp)\n",
    "    \n",
    "    return bias"
   ]
  },
  {
   "cell_type": "code",
   "execution_count": 6,
   "metadata": {},
   "outputs": [],
   "source": [
    "main_N = np.array([   74,  1230,   960,  1515,  3753,  5961,  5047,  4114,  6569,\n",
    "        8744,  7517,  8507, 10466,  6803,  6438,  8143,  7634,  5109,\n",
    "        6477,  7078,  4823,  4184,  3824,  3280])"
   ]
  },
  {
   "cell_type": "code",
   "execution_count": 7,
   "metadata": {},
   "outputs": [
    {
     "data": {
      "text/plain": [
       "128250"
      ]
     },
     "execution_count": 7,
     "metadata": {},
     "output_type": "execute_result"
    }
   ],
   "source": [
    "main_N.sum()"
   ]
  },
  {
   "cell_type": "code",
   "execution_count": 8,
   "metadata": {},
   "outputs": [],
   "source": [
    "def bias(df):\n",
    "    n_bin = 24;#12\n",
    "    bins  = np.linspace(0,1.2,n_bin+1)\n",
    "    start = (bins[0] + bins[1])/2.; end = (bins[-1] + bins[-2])/2.\n",
    "\n",
    "    label = np.linspace(start,end,n_bin)\n",
    "    size=main_N#128250;#len(df)\n",
    "    df['bin_z'] = pd.cut(df.ztrue, bins=bins, labels=label)\n",
    "    df = df[df['bin_z'].notna()]\n",
    "    N=[];cor=[];zp=[];zs=[];fcore=[];count=0;\n",
    "    for each in label:\n",
    "        x = df[df['bin_z'] == each]\n",
    "        N.append(len(x))\n",
    "        cor.append(CORiqrbias(np.array(x.zphot),np.array(x.ztrue))) # Call the COR_IQR Function\n",
    "        zp.append(np.mean(x.zphot))\n",
    "        zs.append(np.mean(x.ztrue))\n",
    "        fcore.append(len(x)/size[count])\n",
    "        count+=1\n",
    "    N = pd.DataFrame(np.array(N))\n",
    "    #N.columns = ['N']\n",
    "    N.reset_index(drop=True, inplace=True)\n",
    "    cor = pd.DataFrame(cor)\n",
    "    zs = pd.DataFrame(zs)\n",
    "    zp = pd.DataFrame(zp)\n",
    "    l = pd.DataFrame(label)   \n",
    "    fcore = pd.DataFrame(fcore)\n",
    "    N =  pd.concat([l,N,zs,zp,cor,fcore],axis=1,ignore_index=True)\n",
    "    N.columns = ['z','N','z_true','zphot','bias','fcore']\n",
    "    #N = N.iloc[0:12 , : ] # 12 Bins\n",
    "    return N"
   ]
  },
  {
   "cell_type": "code",
   "execution_count": 9,
   "metadata": {},
   "outputs": [],
   "source": [
    "b_w= bias(df_w)\n",
    "#b = bias(df)"
   ]
  },
  {
   "cell_type": "markdown",
   "metadata": {},
   "source": [
    "## Core Bias "
   ]
  },
  {
   "cell_type": "code",
   "execution_count": 40,
   "metadata": {},
   "outputs": [
    {
     "name": "stdout",
     "output_type": "stream",
     "text": [
      "The Core Bias details\n"
     ]
    },
    {
     "data": {
      "text/html": [
       "<div>\n",
       "<style scoped>\n",
       "    .dataframe tbody tr th:only-of-type {\n",
       "        vertical-align: middle;\n",
       "    }\n",
       "\n",
       "    .dataframe tbody tr th {\n",
       "        vertical-align: top;\n",
       "    }\n",
       "\n",
       "    .dataframe thead th {\n",
       "        text-align: right;\n",
       "    }\n",
       "</style>\n",
       "<table border=\"1\" class=\"dataframe\">\n",
       "  <thead>\n",
       "    <tr style=\"text-align: right;\">\n",
       "      <th></th>\n",
       "      <th>z</th>\n",
       "      <th>N</th>\n",
       "      <th>z_true</th>\n",
       "      <th>zphot</th>\n",
       "      <th>bias</th>\n",
       "      <th>fcore</th>\n",
       "    </tr>\n",
       "  </thead>\n",
       "  <tbody>\n",
       "    <tr>\n",
       "      <th>0</th>\n",
       "      <td>0.025</td>\n",
       "      <td>68</td>\n",
       "      <td>0.040028</td>\n",
       "      <td>0.058262</td>\n",
       "      <td>0.018234</td>\n",
       "      <td>0.918919</td>\n",
       "    </tr>\n",
       "    <tr>\n",
       "      <th>1</th>\n",
       "      <td>0.075</td>\n",
       "      <td>1183</td>\n",
       "      <td>0.082361</td>\n",
       "      <td>0.084084</td>\n",
       "      <td>0.001723</td>\n",
       "      <td>0.961789</td>\n",
       "    </tr>\n",
       "    <tr>\n",
       "      <th>2</th>\n",
       "      <td>0.125</td>\n",
       "      <td>912</td>\n",
       "      <td>0.130897</td>\n",
       "      <td>0.124742</td>\n",
       "      <td>-0.006155</td>\n",
       "      <td>0.950000</td>\n",
       "    </tr>\n",
       "    <tr>\n",
       "      <th>3</th>\n",
       "      <td>0.175</td>\n",
       "      <td>1391</td>\n",
       "      <td>0.177934</td>\n",
       "      <td>0.178920</td>\n",
       "      <td>0.000986</td>\n",
       "      <td>0.918152</td>\n",
       "    </tr>\n",
       "    <tr>\n",
       "      <th>4</th>\n",
       "      <td>0.225</td>\n",
       "      <td>3465</td>\n",
       "      <td>0.218417</td>\n",
       "      <td>0.218339</td>\n",
       "      <td>-0.000079</td>\n",
       "      <td>0.923261</td>\n",
       "    </tr>\n",
       "    <tr>\n",
       "      <th>5</th>\n",
       "      <td>0.275</td>\n",
       "      <td>5471</td>\n",
       "      <td>0.271592</td>\n",
       "      <td>0.270554</td>\n",
       "      <td>-0.001038</td>\n",
       "      <td>0.917799</td>\n",
       "    </tr>\n",
       "    <tr>\n",
       "      <th>6</th>\n",
       "      <td>0.325</td>\n",
       "      <td>4608</td>\n",
       "      <td>0.320321</td>\n",
       "      <td>0.317547</td>\n",
       "      <td>-0.002773</td>\n",
       "      <td>0.913018</td>\n",
       "    </tr>\n",
       "    <tr>\n",
       "      <th>7</th>\n",
       "      <td>0.375</td>\n",
       "      <td>3714</td>\n",
       "      <td>0.378787</td>\n",
       "      <td>0.388263</td>\n",
       "      <td>0.009476</td>\n",
       "      <td>0.902771</td>\n",
       "    </tr>\n",
       "    <tr>\n",
       "      <th>8</th>\n",
       "      <td>0.425</td>\n",
       "      <td>6222</td>\n",
       "      <td>0.426596</td>\n",
       "      <td>0.429316</td>\n",
       "      <td>0.002720</td>\n",
       "      <td>0.947176</td>\n",
       "    </tr>\n",
       "    <tr>\n",
       "      <th>9</th>\n",
       "      <td>0.475</td>\n",
       "      <td>8026</td>\n",
       "      <td>0.472507</td>\n",
       "      <td>0.466177</td>\n",
       "      <td>-0.006330</td>\n",
       "      <td>0.917887</td>\n",
       "    </tr>\n",
       "    <tr>\n",
       "      <th>10</th>\n",
       "      <td>0.525</td>\n",
       "      <td>6938</td>\n",
       "      <td>0.529138</td>\n",
       "      <td>0.527147</td>\n",
       "      <td>-0.001991</td>\n",
       "      <td>0.922975</td>\n",
       "    </tr>\n",
       "    <tr>\n",
       "      <th>11</th>\n",
       "      <td>0.575</td>\n",
       "      <td>8237</td>\n",
       "      <td>0.577502</td>\n",
       "      <td>0.575854</td>\n",
       "      <td>-0.001647</td>\n",
       "      <td>0.968261</td>\n",
       "    </tr>\n",
       "    <tr>\n",
       "      <th>12</th>\n",
       "      <td>0.625</td>\n",
       "      <td>10363</td>\n",
       "      <td>0.627689</td>\n",
       "      <td>0.624898</td>\n",
       "      <td>-0.002791</td>\n",
       "      <td>0.990159</td>\n",
       "    </tr>\n",
       "    <tr>\n",
       "      <th>13</th>\n",
       "      <td>0.675</td>\n",
       "      <td>6746</td>\n",
       "      <td>0.672409</td>\n",
       "      <td>0.670473</td>\n",
       "      <td>-0.001935</td>\n",
       "      <td>0.991621</td>\n",
       "    </tr>\n",
       "    <tr>\n",
       "      <th>14</th>\n",
       "      <td>0.725</td>\n",
       "      <td>6365</td>\n",
       "      <td>0.727794</td>\n",
       "      <td>0.730211</td>\n",
       "      <td>0.002417</td>\n",
       "      <td>0.988661</td>\n",
       "    </tr>\n",
       "    <tr>\n",
       "      <th>15</th>\n",
       "      <td>0.775</td>\n",
       "      <td>8034</td>\n",
       "      <td>0.775389</td>\n",
       "      <td>0.776975</td>\n",
       "      <td>0.001586</td>\n",
       "      <td>0.986614</td>\n",
       "    </tr>\n",
       "    <tr>\n",
       "      <th>16</th>\n",
       "      <td>0.825</td>\n",
       "      <td>7556</td>\n",
       "      <td>0.825662</td>\n",
       "      <td>0.821233</td>\n",
       "      <td>-0.004428</td>\n",
       "      <td>0.989783</td>\n",
       "    </tr>\n",
       "    <tr>\n",
       "      <th>17</th>\n",
       "      <td>0.875</td>\n",
       "      <td>4995</td>\n",
       "      <td>0.872925</td>\n",
       "      <td>0.867120</td>\n",
       "      <td>-0.005805</td>\n",
       "      <td>0.977686</td>\n",
       "    </tr>\n",
       "    <tr>\n",
       "      <th>18</th>\n",
       "      <td>0.925</td>\n",
       "      <td>6399</td>\n",
       "      <td>0.932431</td>\n",
       "      <td>0.931102</td>\n",
       "      <td>-0.001329</td>\n",
       "      <td>0.987957</td>\n",
       "    </tr>\n",
       "    <tr>\n",
       "      <th>19</th>\n",
       "      <td>0.975</td>\n",
       "      <td>7033</td>\n",
       "      <td>0.974544</td>\n",
       "      <td>0.972295</td>\n",
       "      <td>-0.002249</td>\n",
       "      <td>0.993642</td>\n",
       "    </tr>\n",
       "    <tr>\n",
       "      <th>20</th>\n",
       "      <td>1.025</td>\n",
       "      <td>4809</td>\n",
       "      <td>1.024692</td>\n",
       "      <td>1.022549</td>\n",
       "      <td>-0.002143</td>\n",
       "      <td>0.997097</td>\n",
       "    </tr>\n",
       "    <tr>\n",
       "      <th>21</th>\n",
       "      <td>1.075</td>\n",
       "      <td>4164</td>\n",
       "      <td>1.073140</td>\n",
       "      <td>1.072636</td>\n",
       "      <td>-0.000505</td>\n",
       "      <td>0.995220</td>\n",
       "    </tr>\n",
       "    <tr>\n",
       "      <th>22</th>\n",
       "      <td>1.125</td>\n",
       "      <td>3805</td>\n",
       "      <td>1.127463</td>\n",
       "      <td>1.126979</td>\n",
       "      <td>-0.000484</td>\n",
       "      <td>0.995031</td>\n",
       "    </tr>\n",
       "    <tr>\n",
       "      <th>23</th>\n",
       "      <td>1.175</td>\n",
       "      <td>3259</td>\n",
       "      <td>1.173933</td>\n",
       "      <td>1.168463</td>\n",
       "      <td>-0.005470</td>\n",
       "      <td>0.993598</td>\n",
       "    </tr>\n",
       "  </tbody>\n",
       "</table>\n",
       "</div>"
      ],
      "text/plain": [
       "        z      N    z_true     zphot      bias     fcore\n",
       "0   0.025     68  0.040028  0.058262  0.018234  0.918919\n",
       "1   0.075   1183  0.082361  0.084084  0.001723  0.961789\n",
       "2   0.125    912  0.130897  0.124742 -0.006155  0.950000\n",
       "3   0.175   1391  0.177934  0.178920  0.000986  0.918152\n",
       "4   0.225   3465  0.218417  0.218339 -0.000079  0.923261\n",
       "5   0.275   5471  0.271592  0.270554 -0.001038  0.917799\n",
       "6   0.325   4608  0.320321  0.317547 -0.002773  0.913018\n",
       "7   0.375   3714  0.378787  0.388263  0.009476  0.902771\n",
       "8   0.425   6222  0.426596  0.429316  0.002720  0.947176\n",
       "9   0.475   8026  0.472507  0.466177 -0.006330  0.917887\n",
       "10  0.525   6938  0.529138  0.527147 -0.001991  0.922975\n",
       "11  0.575   8237  0.577502  0.575854 -0.001647  0.968261\n",
       "12  0.625  10363  0.627689  0.624898 -0.002791  0.990159\n",
       "13  0.675   6746  0.672409  0.670473 -0.001935  0.991621\n",
       "14  0.725   6365  0.727794  0.730211  0.002417  0.988661\n",
       "15  0.775   8034  0.775389  0.776975  0.001586  0.986614\n",
       "16  0.825   7556  0.825662  0.821233 -0.004428  0.989783\n",
       "17  0.875   4995  0.872925  0.867120 -0.005805  0.977686\n",
       "18  0.925   6399  0.932431  0.931102 -0.001329  0.987957\n",
       "19  0.975   7033  0.974544  0.972295 -0.002249  0.993642\n",
       "20  1.025   4809  1.024692  1.022549 -0.002143  0.997097\n",
       "21  1.075   4164  1.073140  1.072636 -0.000505  0.995220\n",
       "22  1.125   3805  1.127463  1.126979 -0.000484  0.995031\n",
       "23  1.175   3259  1.173933  1.168463 -0.005470  0.993598"
      ]
     },
     "execution_count": 40,
     "metadata": {},
     "output_type": "execute_result"
    }
   ],
   "source": [
    "print('The Core Bias details')\n",
    "b_w"
   ]
  },
  {
   "cell_type": "markdown",
   "metadata": {},
   "source": [
    "## Outlier Bias"
   ]
  },
  {
   "cell_type": "code",
   "execution_count": 39,
   "metadata": {},
   "outputs": [
    {
     "data": {
      "text/html": [
       "<div>\n",
       "<style scoped>\n",
       "    .dataframe tbody tr th:only-of-type {\n",
       "        vertical-align: middle;\n",
       "    }\n",
       "\n",
       "    .dataframe tbody tr th {\n",
       "        vertical-align: top;\n",
       "    }\n",
       "\n",
       "    .dataframe thead th {\n",
       "        text-align: right;\n",
       "    }\n",
       "</style>\n",
       "<table border=\"1\" class=\"dataframe\">\n",
       "  <thead>\n",
       "    <tr style=\"text-align: right;\">\n",
       "      <th></th>\n",
       "      <th>z_true</th>\n",
       "      <th>F</th>\n",
       "      <th>outlier_bias</th>\n",
       "    </tr>\n",
       "  </thead>\n",
       "  <tbody>\n",
       "    <tr>\n",
       "      <th>0</th>\n",
       "      <td>0.025</td>\n",
       "      <td>0.081081</td>\n",
       "      <td>0.108320</td>\n",
       "    </tr>\n",
       "    <tr>\n",
       "      <th>1</th>\n",
       "      <td>0.075</td>\n",
       "      <td>0.038211</td>\n",
       "      <td>0.120167</td>\n",
       "    </tr>\n",
       "    <tr>\n",
       "      <th>2</th>\n",
       "      <td>0.125</td>\n",
       "      <td>0.048958</td>\n",
       "      <td>0.056047</td>\n",
       "    </tr>\n",
       "    <tr>\n",
       "      <th>3</th>\n",
       "      <td>0.175</td>\n",
       "      <td>0.081848</td>\n",
       "      <td>0.075385</td>\n",
       "    </tr>\n",
       "    <tr>\n",
       "      <th>4</th>\n",
       "      <td>0.225</td>\n",
       "      <td>0.076206</td>\n",
       "      <td>0.155843</td>\n",
       "    </tr>\n",
       "    <tr>\n",
       "      <th>5</th>\n",
       "      <td>0.275</td>\n",
       "      <td>0.082033</td>\n",
       "      <td>0.123798</td>\n",
       "    </tr>\n",
       "    <tr>\n",
       "      <th>6</th>\n",
       "      <td>0.325</td>\n",
       "      <td>0.085992</td>\n",
       "      <td>0.075691</td>\n",
       "    </tr>\n",
       "    <tr>\n",
       "      <th>7</th>\n",
       "      <td>0.375</td>\n",
       "      <td>0.094069</td>\n",
       "      <td>0.033384</td>\n",
       "    </tr>\n",
       "    <tr>\n",
       "      <th>8</th>\n",
       "      <td>0.425</td>\n",
       "      <td>0.050236</td>\n",
       "      <td>-0.046024</td>\n",
       "    </tr>\n",
       "    <tr>\n",
       "      <th>9</th>\n",
       "      <td>0.475</td>\n",
       "      <td>0.081199</td>\n",
       "      <td>-0.086357</td>\n",
       "    </tr>\n",
       "    <tr>\n",
       "      <th>10</th>\n",
       "      <td>0.525</td>\n",
       "      <td>0.076892</td>\n",
       "      <td>-0.133239</td>\n",
       "    </tr>\n",
       "    <tr>\n",
       "      <th>11</th>\n",
       "      <td>0.575</td>\n",
       "      <td>0.031621</td>\n",
       "      <td>-0.133378</td>\n",
       "    </tr>\n",
       "    <tr>\n",
       "      <th>12</th>\n",
       "      <td>0.625</td>\n",
       "      <td>0.009746</td>\n",
       "      <td>-0.056873</td>\n",
       "    </tr>\n",
       "    <tr>\n",
       "      <th>13</th>\n",
       "      <td>0.675</td>\n",
       "      <td>0.008232</td>\n",
       "      <td>-0.005385</td>\n",
       "    </tr>\n",
       "    <tr>\n",
       "      <th>14</th>\n",
       "      <td>0.725</td>\n",
       "      <td>0.011339</td>\n",
       "      <td>-0.009124</td>\n",
       "    </tr>\n",
       "    <tr>\n",
       "      <th>15</th>\n",
       "      <td>0.775</td>\n",
       "      <td>0.013140</td>\n",
       "      <td>-0.040456</td>\n",
       "    </tr>\n",
       "    <tr>\n",
       "      <th>16</th>\n",
       "      <td>0.825</td>\n",
       "      <td>0.010086</td>\n",
       "      <td>-0.049370</td>\n",
       "    </tr>\n",
       "    <tr>\n",
       "      <th>17</th>\n",
       "      <td>0.875</td>\n",
       "      <td>0.022314</td>\n",
       "      <td>-0.062762</td>\n",
       "    </tr>\n",
       "    <tr>\n",
       "      <th>18</th>\n",
       "      <td>0.925</td>\n",
       "      <td>0.011888</td>\n",
       "      <td>-0.052953</td>\n",
       "    </tr>\n",
       "    <tr>\n",
       "      <th>19</th>\n",
       "      <td>0.975</td>\n",
       "      <td>0.005934</td>\n",
       "      <td>-0.019747</td>\n",
       "    </tr>\n",
       "    <tr>\n",
       "      <th>20</th>\n",
       "      <td>1.025</td>\n",
       "      <td>0.002695</td>\n",
       "      <td>0.015616</td>\n",
       "    </tr>\n",
       "    <tr>\n",
       "      <th>21</th>\n",
       "      <td>1.075</td>\n",
       "      <td>0.004780</td>\n",
       "      <td>0.009371</td>\n",
       "    </tr>\n",
       "    <tr>\n",
       "      <th>22</th>\n",
       "      <td>1.125</td>\n",
       "      <td>0.004707</td>\n",
       "      <td>-0.049989</td>\n",
       "    </tr>\n",
       "    <tr>\n",
       "      <th>23</th>\n",
       "      <td>1.175</td>\n",
       "      <td>0.006402</td>\n",
       "      <td>-0.073478</td>\n",
       "    </tr>\n",
       "  </tbody>\n",
       "</table>\n",
       "</div>"
      ],
      "text/plain": [
       "    z_true         F  outlier_bias\n",
       "0    0.025  0.081081      0.108320\n",
       "1    0.075  0.038211      0.120167\n",
       "2    0.125  0.048958      0.056047\n",
       "3    0.175  0.081848      0.075385\n",
       "4    0.225  0.076206      0.155843\n",
       "5    0.275  0.082033      0.123798\n",
       "6    0.325  0.085992      0.075691\n",
       "7    0.375  0.094069      0.033384\n",
       "8    0.425  0.050236     -0.046024\n",
       "9    0.475  0.081199     -0.086357\n",
       "10   0.525  0.076892     -0.133239\n",
       "11   0.575  0.031621     -0.133378\n",
       "12   0.625  0.009746     -0.056873\n",
       "13   0.675  0.008232     -0.005385\n",
       "14   0.725  0.011339     -0.009124\n",
       "15   0.775  0.013140     -0.040456\n",
       "16   0.825  0.010086     -0.049370\n",
       "17   0.875  0.022314     -0.062762\n",
       "18   0.925  0.011888     -0.052953\n",
       "19   0.975  0.005934     -0.019747\n",
       "20   1.025  0.002695      0.015616\n",
       "21   1.075  0.004780      0.009371\n",
       "22   1.125  0.004707     -0.049989\n",
       "23   1.175  0.006402     -0.073478"
      ]
     },
     "execution_count": 39,
     "metadata": {},
     "output_type": "execute_result"
    }
   ],
   "source": [
    "LW_outlier"
   ]
  },
  {
   "cell_type": "code",
   "execution_count": 10,
   "metadata": {},
   "outputs": [
    {
     "name": "stdout",
     "output_type": "stream",
     "text": [
      "Sum of total Fraction \n"
     ]
    },
    {
     "data": {
      "text/plain": [
       "0.9603782144644608"
      ]
     },
     "execution_count": 10,
     "metadata": {},
     "output_type": "execute_result"
    }
   ],
   "source": [
    "print('Sum of total Fraction ')\n",
    "b_w.fcore.sum()/24"
   ]
  },
  {
   "cell_type": "code",
   "execution_count": 27,
   "metadata": {},
   "outputs": [
    {
     "data": {
      "text/plain": [
       "Text(0, 0.5, 'CORE Bias')"
      ]
     },
     "execution_count": 27,
     "metadata": {},
     "output_type": "execute_result"
    },
    {
     "data": {
      "image/png": "[encoded data removed]",
      "text/plain": [
       "<Figure size 432x288 with 1 Axes>"
      ]
     },
     "metadata": {
      "needs_background": "light"
     },
     "output_type": "display_data"
    }
   ],
   "source": [
    "fig, ax = plt.subplots()\n",
    "#plt.plot(b.z,b.bias,label='LSST')\n",
    "plt.plot(b_w.z,b_w.bias,label='LW')\n",
    "#plt.plot(b.z,b.fcore,label='LSST-f')\n",
    "#plt.plot(b_w.z,b_w.fcore,label='LW-f')\n",
    "plt.legend()\n",
    "ax.minorticks_on()\n",
    "ax.yaxis.set_ticks_position('both')\n",
    "ax.xaxis.set_ticks_position('both')\n",
    "plt.xlabel('z true')\n",
    "plt.ylabel('CORE Bias')"
   ]
  },
  {
   "cell_type": "code",
   "execution_count": 42,
   "metadata": {},
   "outputs": [
    {
     "data": {
      "text/plain": [
       "Text(0, 0.5, 'F Core')"
      ]
     },
     "execution_count": 42,
     "metadata": {},
     "output_type": "execute_result"
    },
    {
     "data": {
      "image/png": "[encoded data removed]",
      "text/plain": [
       "<Figure size 432x288 with 1 Axes>"
      ]
     },
     "metadata": {
      "needs_background": "light"
     },
     "output_type": "display_data"
    }
   ],
   "source": [
    "fig, ax = plt.subplots()\n",
    "#plt.plot(b.z,b.bias,label='LSST')\n",
    "#plt.plot(b_w.z,b_w.bias,label='LW')\n",
    "#plt.plot(b.z,b.fcore,label='LSST-f')\n",
    "plt.plot(np.linspace(1,24,24),b_w.fcore,label='LW-f')\n",
    "plt.legend()\n",
    "ax.minorticks_on()\n",
    "ax.yaxis.set_ticks_position('both')\n",
    "ax.xaxis.set_ticks_position('both')\n",
    "plt.xlabel('Bins')\n",
    "plt.ylabel('F Core')"
   ]
  },
  {
   "cell_type": "code",
   "execution_count": 43,
   "metadata": {},
   "outputs": [
    {
     "data": {
      "text/plain": [
       "Text(0, 0.5, 'F Core*Bias')"
      ]
     },
     "execution_count": 43,
     "metadata": {},
     "output_type": "execute_result"
    },
    {
     "data": {
      "image/png": "[encoded data removed]",
      "text/plain": [
       "<Figure size 432x288 with 1 Axes>"
      ]
     },
     "metadata": {
      "needs_background": "light"
     },
     "output_type": "display_data"
    }
   ],
   "source": [
    "fig, ax = plt.subplots()\n",
    "#plt.plot(b.z,b.bias,label='LSST')\n",
    "#plt.plot(b_w.z,b_w.bias,label='LW')\n",
    "#plt.plot(b.z,b.bias*b.fcore,label='LSST-f')\n",
    "plt.plot(np.linspace(1,24,24),b_w.bias*b_w.fcore,label='LW-f')\n",
    "plt.legend()\n",
    "ax.minorticks_on()\n",
    "ax.yaxis.set_ticks_position('both')\n",
    "ax.xaxis.set_ticks_position('both')\n",
    "plt.xlabel('Bins')\n",
    "plt.ylabel('F Core*Bias',fontsize=15)"
   ]
  },
  {
   "cell_type": "code",
   "execution_count": 14,
   "metadata": {},
   "outputs": [],
   "source": [
    "#b.to_csv('interpolated_LSST.csv',sep = ' ',index = False)\n",
    "#b_w.to_csv('interpolated_LW.csv',sep = ' ',index = False)"
   ]
  },
  {
   "cell_type": "code",
   "execution_count": 47,
   "metadata": {},
   "outputs": [
    {
     "data": {
      "image/png": "[encoded data removed]",
      "text/plain": [
       "<Figure size 432x288 with 1 Axes>"
      ]
     },
     "metadata": {
      "needs_background": "light"
     },
     "output_type": "display_data"
    }
   ],
   "source": [
    "fig, ax = plt.subplots()\n",
    "plt.plot(lsst_old.z,lsst_old.bias,label='LSST_OLD')\n",
    "#plt.plot(b.z,(-b.bias),label='LSST')\n",
    "plt.plot(b_w.z,(b_w.bias),label='LW')\n",
    "plt.legend()\n",
    "ax.minorticks_on()\n",
    "ax.yaxis.set_ticks_position('both')\n",
    "ax.xaxis.set_ticks_position('both')\n",
    "plt.xlabel('z true')\n",
    "plt.ylabel('CORE Bias')\n",
    "plt.tight_layout()\n",
    "#plt.savefig('../Plot/Core_Bias.pdf',bbox_inches='tight')"
   ]
  },
  {
   "cell_type": "code",
   "execution_count": 48,
   "metadata": {},
   "outputs": [
    {
     "data": {
      "image/png": "[encoded data removed]",
      "text/plain": [
       "<Figure size 432x288 with 1 Axes>"
      ]
     },
     "metadata": {
      "needs_background": "light"
     },
     "output_type": "display_data"
    }
   ],
   "source": [
    "fig, ax = plt.subplots()\n",
    "plt.plot(lsst_old.z,lsst_old.bias,label='LSST_OLD')\n",
    "#plt.plot(b.z,(b.bias),label='LSST_NEW Our')\n",
    "plt.plot(b_w.z,(b_w.bias),label='LW Our')\n",
    "plt.plot(LW_interp.z,(LW_interp.bias),label='LW_Interp_M') # M = Melissa's data\n",
    "plt.legend()\n",
    "ax.minorticks_on()\n",
    "ax.yaxis.set_ticks_position('both')\n",
    "ax.xaxis.set_ticks_position('both')\n",
    "plt.xlabel('z true')\n",
    "plt.ylabel('CORE Bias')\n",
    "\n",
    "#plt.text(0.4,-0.0017,'LW_Interp_M = Interpolated CORIQR from',fontsize=10);plt.text(0.4,-0.0024,'Melissas Data ',fontsize=10);plt.text(0.5,0.005,'12 Bins',fontsize=15)\n",
    "\n",
    "#plt.text(0.42,-0.007,'LW_Interp_M = Interpolated CORIQR from',fontsize=10);plt.text(0.42,-0.009,'Melissas Data ',fontsize=10);plt.text(0.6,0.005,'24 Bins',fontsize=15)\n",
    "\n",
    "plt.tight_layout()\n",
    "#plt.savefig('../Plot/Core_Bias_Compare_w_Melissa_24b.pdf',bbox_inches='tight')"
   ]
  },
  {
   "cell_type": "code",
   "execution_count": 20,
   "metadata": {},
   "outputs": [],
   "source": [
    "f_t = (LW_outlier.F+b_w.fcore) # Adding the fraction bin by bin for the outlier and the core"
   ]
  },
  {
   "cell_type": "code",
   "execution_count": 21,
   "metadata": {},
   "outputs": [
    {
     "name": "stdout",
     "output_type": "stream",
     "text": [
      "***The Net sum of the fractions, i.e. f_total :***\n"
     ]
    },
    {
     "data": {
      "text/plain": [
       "0.9995286416980722"
      ]
     },
     "execution_count": 21,
     "metadata": {},
     "output_type": "execute_result"
    }
   ],
   "source": [
    "print('***The Net sum of the fractions, i.e. f_total :***')\n",
    "f_t.sum()/24"
   ]
  },
  {
   "cell_type": "code",
   "execution_count": 22,
   "metadata": {},
   "outputs": [
    {
     "data": {
      "text/plain": [
       "0.9995286416980721"
      ]
     },
     "execution_count": 22,
     "metadata": {},
     "output_type": "execute_result"
    }
   ],
   "source": [
    "(LW_outlier.F/24.+b_w.fcore/24.).sum()"
   ]
  },
  {
   "cell_type": "code",
   "execution_count": 37,
   "metadata": {},
   "outputs": [
    {
     "data": {
      "image/png": "[encoded data removed]",
      "text/plain": [
       "<Figure size 432x288 with 1 Axes>"
      ]
     },
     "metadata": {
      "needs_background": "light"
     },
     "output_type": "display_data"
    }
   ],
   "source": [
    "fig, ax = plt.subplots()\n",
    "plt.plot(np.linspace(1,24,24),b_w.fcore/1.,'o',label='f_core (LW) ')\n",
    "plt.plot(np.linspace(1,24,24),LW_outlier.F/1.,'o',label='f_out LW ')\n",
    "plt.plot(np.linspace(1,24,24),LW_outlier.F/1.+b_w.fcore/1.,'v',label='f_total LW ')\n",
    "plt.legend()\n",
    "plt.xlabel('Bins')\n",
    "plt.ylabel('Fractions')\n",
    "plt.tight_layout()\n",
    "ax.minorticks_on()\n",
    "ax.yaxis.set_ticks_position('both')\n",
    "ax.xaxis.set_ticks_position('both')"
   ]
  },
  {
   "cell_type": "code",
   "execution_count": 24,
   "metadata": {},
   "outputs": [
    {
     "name": "stdout",
     "output_type": "stream",
     "text": [
      "1.0\n",
      "1.0\n",
      "0.9989583333333333\n",
      "1.0\n",
      "0.9994670929922729\n",
      "0.999832242912263\n",
      "0.9990093124628492\n",
      "0.9968400583373845\n",
      "0.9974120870756584\n",
      "0.9990850869167429\n",
      "0.999866968205401\n",
      "0.9998824497472669\n",
      "0.999904452512899\n",
      "0.9998530060267529\n",
      "1.0\n",
      "0.9997543902738548\n",
      "0.999869007073618\n",
      "1.0\n",
      "0.9998456075343524\n",
      "0.9995761514552134\n",
      "0.9997926601700187\n",
      "1.0\n",
      "0.9997384937238494\n",
      "1.0\n"
     ]
    }
   ],
   "source": [
    "for i in range(24):\n",
    "    print(b_w.fcore[i]+LW_outlier.F[i])"
   ]
  },
  {
   "cell_type": "code",
   "execution_count": null,
   "metadata": {},
   "outputs": [],
   "source": []
  }
 ],
 "metadata": {
  "kernelspec": {
   "display_name": "Python 3",
   "language": "python",
   "name": "python3"
  },
  "language_info": {
   "codemirror_mode": {
    "name": "ipython",
    "version": 3
   },
   "file_extension": ".py",
   "mimetype": "text/x-python",
   "name": "python",
   "nbconvert_exporter": "python",
   "pygments_lexer": "ipython3",
   "version": "3.7.6"
  }
 },
 "nbformat": 4,
 "nbformat_minor": 4
}
