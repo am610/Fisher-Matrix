{
 "cells": [
  {
   "cell_type": "code",
   "execution_count": 1,
   "metadata": {},
   "outputs": [],
   "source": [
    "import pandas as pd\n",
    "import numpy as np\n",
    "import matplotlib.pyplot as plt"
   ]
  },
  {
   "cell_type": "code",
   "execution_count": 106,
   "metadata": {},
   "outputs": [],
   "source": [
    "b = pd.read_csv('f_input.csv')"
   ]
  },
  {
   "cell_type": "code",
   "execution_count": 151,
   "metadata": {},
   "outputs": [],
   "source": [
    "b = pd.read_csv('Catastrophic/f_input.csv')"
   ]
  },
  {
   "cell_type": "code",
   "execution_count": 166,
   "metadata": {},
   "outputs": [],
   "source": [
    "out = pd.read_csv('out_photoz.dat')"
   ]
  },
  {
   "cell_type": "code",
   "execution_count": 169,
   "metadata": {},
   "outputs": [],
   "source": [
    "out = out.iloc[0:8,:]"
   ]
  },
  {
   "cell_type": "code",
   "execution_count": 172,
   "metadata": {},
   "outputs": [
    {
     "data": {
      "text/html": [
       "<div>\n",
       "<style scoped>\n",
       "    .dataframe tbody tr th:only-of-type {\n",
       "        vertical-align: middle;\n",
       "    }\n",
       "\n",
       "    .dataframe tbody tr th {\n",
       "        vertical-align: top;\n",
       "    }\n",
       "\n",
       "    .dataframe thead th {\n",
       "        text-align: right;\n",
       "    }\n",
       "</style>\n",
       "<table border=\"1\" class=\"dataframe\">\n",
       "  <thead>\n",
       "    <tr style=\"text-align: right;\">\n",
       "      <th></th>\n",
       "      <th>zbin1</th>\n",
       "      <th>zbin2</th>\n",
       "      <th>meanz</th>\n",
       "      <th>CORmeanz</th>\n",
       "      <th>fout</th>\n",
       "      <th>CORfout</th>\n",
       "      <th>CORoutbias</th>\n",
       "      <th>err_CORoutbias</th>\n",
       "      <th>CORb</th>\n",
       "      <th>err_CORb</th>\n",
       "      <th>CORs</th>\n",
       "      <th>err_CORs</th>\n",
       "      <th>CORIQRs</th>\n",
       "      <th>CORIQRb</th>\n",
       "      <th>err_CORIQRs</th>\n",
       "      <th>err_CORIQRb</th>\n",
       "    </tr>\n",
       "  </thead>\n",
       "  <tbody>\n",
       "    <tr>\n",
       "      <th>0</th>\n",
       "      <td>0.00</td>\n",
       "      <td>0.30</td>\n",
       "      <td>0.2224</td>\n",
       "      <td>0.2241</td>\n",
       "      <td>0.0667</td>\n",
       "      <td>0.0442</td>\n",
       "      <td>0.1307</td>\n",
       "      <td>0.0121</td>\n",
       "      <td>0.0057</td>\n",
       "      <td>0.0008</td>\n",
       "      <td>0.0409</td>\n",
       "      <td>0.0026</td>\n",
       "      <td>0.0151</td>\n",
       "      <td>0.0005</td>\n",
       "      <td>0.0005</td>\n",
       "      <td>0.0003</td>\n",
       "    </tr>\n",
       "    <tr>\n",
       "      <th>1</th>\n",
       "      <td>0.15</td>\n",
       "      <td>0.45</td>\n",
       "      <td>0.3253</td>\n",
       "      <td>0.3259</td>\n",
       "      <td>0.0588</td>\n",
       "      <td>0.0533</td>\n",
       "      <td>0.0697</td>\n",
       "      <td>0.0060</td>\n",
       "      <td>0.0040</td>\n",
       "      <td>0.0005</td>\n",
       "      <td>0.0338</td>\n",
       "      <td>0.0011</td>\n",
       "      <td>0.0177</td>\n",
       "      <td>0.0010</td>\n",
       "      <td>0.0004</td>\n",
       "      <td>0.0003</td>\n",
       "    </tr>\n",
       "    <tr>\n",
       "      <th>2</th>\n",
       "      <td>0.30</td>\n",
       "      <td>0.60</td>\n",
       "      <td>0.4533</td>\n",
       "      <td>0.4533</td>\n",
       "      <td>0.0611</td>\n",
       "      <td>0.0608</td>\n",
       "      <td>-0.0382</td>\n",
       "      <td>0.0050</td>\n",
       "      <td>-0.0034</td>\n",
       "      <td>0.0004</td>\n",
       "      <td>0.0332</td>\n",
       "      <td>0.0007</td>\n",
       "      <td>0.0165</td>\n",
       "      <td>-0.0013</td>\n",
       "      <td>0.0003</td>\n",
       "      <td>0.0002</td>\n",
       "    </tr>\n",
       "    <tr>\n",
       "      <th>3</th>\n",
       "      <td>0.45</td>\n",
       "      <td>0.75</td>\n",
       "      <td>0.5987</td>\n",
       "      <td>0.5987</td>\n",
       "      <td>0.0325</td>\n",
       "      <td>0.0325</td>\n",
       "      <td>-0.1047</td>\n",
       "      <td>0.0048</td>\n",
       "      <td>-0.0048</td>\n",
       "      <td>0.0003</td>\n",
       "      <td>0.0267</td>\n",
       "      <td>0.0008</td>\n",
       "      <td>0.0117</td>\n",
       "      <td>-0.0015</td>\n",
       "      <td>0.0002</td>\n",
       "      <td>0.0002</td>\n",
       "    </tr>\n",
       "    <tr>\n",
       "      <th>4</th>\n",
       "      <td>0.60</td>\n",
       "      <td>0.90</td>\n",
       "      <td>0.7470</td>\n",
       "      <td>0.7470</td>\n",
       "      <td>0.0048</td>\n",
       "      <td>0.0048</td>\n",
       "      <td>0.0219</td>\n",
       "      <td>0.0117</td>\n",
       "      <td>-0.0004</td>\n",
       "      <td>0.0002</td>\n",
       "      <td>0.0163</td>\n",
       "      <td>0.0002</td>\n",
       "      <td>0.0121</td>\n",
       "      <td>-0.0006</td>\n",
       "      <td>0.0002</td>\n",
       "      <td>0.0002</td>\n",
       "    </tr>\n",
       "    <tr>\n",
       "      <th>5</th>\n",
       "      <td>0.75</td>\n",
       "      <td>1.05</td>\n",
       "      <td>0.8875</td>\n",
       "      <td>0.8875</td>\n",
       "      <td>0.0092</td>\n",
       "      <td>0.0092</td>\n",
       "      <td>0.1255</td>\n",
       "      <td>0.0245</td>\n",
       "      <td>0.0001</td>\n",
       "      <td>0.0003</td>\n",
       "      <td>0.0265</td>\n",
       "      <td>0.0018</td>\n",
       "      <td>0.0131</td>\n",
       "      <td>-0.0009</td>\n",
       "      <td>0.0002</td>\n",
       "      <td>0.0002</td>\n",
       "    </tr>\n",
       "    <tr>\n",
       "      <th>6</th>\n",
       "      <td>0.90</td>\n",
       "      <td>1.20</td>\n",
       "      <td>1.0389</td>\n",
       "      <td>1.0389</td>\n",
       "      <td>0.0250</td>\n",
       "      <td>0.0250</td>\n",
       "      <td>0.1108</td>\n",
       "      <td>0.0139</td>\n",
       "      <td>0.0031</td>\n",
       "      <td>0.0005</td>\n",
       "      <td>0.0336</td>\n",
       "      <td>0.0021</td>\n",
       "      <td>0.0132</td>\n",
       "      <td>0.0002</td>\n",
       "      <td>0.0003</td>\n",
       "      <td>0.0002</td>\n",
       "    </tr>\n",
       "    <tr>\n",
       "      <th>7</th>\n",
       "      <td>1.05</td>\n",
       "      <td>1.35</td>\n",
       "      <td>1.1932</td>\n",
       "      <td>1.1932</td>\n",
       "      <td>0.0424</td>\n",
       "      <td>0.0424</td>\n",
       "      <td>0.0510</td>\n",
       "      <td>0.0094</td>\n",
       "      <td>0.0025</td>\n",
       "      <td>0.0005</td>\n",
       "      <td>0.0345</td>\n",
       "      <td>0.0021</td>\n",
       "      <td>0.0183</td>\n",
       "      <td>0.0005</td>\n",
       "      <td>0.0004</td>\n",
       "      <td>0.0003</td>\n",
       "    </tr>\n",
       "  </tbody>\n",
       "</table>\n",
       "</div>"
      ],
      "text/plain": [
       "   zbin1  zbin2   meanz  CORmeanz    fout  CORfout  CORoutbias  \\\n",
       "0   0.00   0.30  0.2224    0.2241  0.0667   0.0442      0.1307   \n",
       "1   0.15   0.45  0.3253    0.3259  0.0588   0.0533      0.0697   \n",
       "2   0.30   0.60  0.4533    0.4533  0.0611   0.0608     -0.0382   \n",
       "3   0.45   0.75  0.5987    0.5987  0.0325   0.0325     -0.1047   \n",
       "4   0.60   0.90  0.7470    0.7470  0.0048   0.0048      0.0219   \n",
       "5   0.75   1.05  0.8875    0.8875  0.0092   0.0092      0.1255   \n",
       "6   0.90   1.20  1.0389    1.0389  0.0250   0.0250      0.1108   \n",
       "7   1.05   1.35  1.1932    1.1932  0.0424   0.0424      0.0510   \n",
       "\n",
       "   err_CORoutbias    CORb  err_CORb    CORs  err_CORs  CORIQRs  CORIQRb  \\\n",
       "0          0.0121  0.0057    0.0008  0.0409    0.0026   0.0151   0.0005   \n",
       "1          0.0060  0.0040    0.0005  0.0338    0.0011   0.0177   0.0010   \n",
       "2          0.0050 -0.0034    0.0004  0.0332    0.0007   0.0165  -0.0013   \n",
       "3          0.0048 -0.0048    0.0003  0.0267    0.0008   0.0117  -0.0015   \n",
       "4          0.0117 -0.0004    0.0002  0.0163    0.0002   0.0121  -0.0006   \n",
       "5          0.0245  0.0001    0.0003  0.0265    0.0018   0.0131  -0.0009   \n",
       "6          0.0139  0.0031    0.0005  0.0336    0.0021   0.0132   0.0002   \n",
       "7          0.0094  0.0025    0.0005  0.0345    0.0021   0.0183   0.0005   \n",
       "\n",
       "   err_CORIQRs  err_CORIQRb  \n",
       "0       0.0005       0.0003  \n",
       "1       0.0004       0.0003  \n",
       "2       0.0003       0.0002  \n",
       "3       0.0002       0.0002  \n",
       "4       0.0002       0.0002  \n",
       "5       0.0002       0.0002  \n",
       "6       0.0003       0.0002  \n",
       "7       0.0004       0.0003  "
      ]
     },
     "execution_count": 172,
     "metadata": {},
     "output_type": "execute_result"
    }
   ],
   "source": [
    "b"
   ]
  },
  {
   "cell_type": "code",
   "execution_count": 177,
   "metadata": {},
   "outputs": [],
   "source": [
    "z_true = b.zbin1 + (b.zbin2-b.zbin1)/2."
   ]
  },
  {
   "cell_type": "code",
   "execution_count": 178,
   "metadata": {},
   "outputs": [
    {
     "data": {
      "text/plain": [
       "0    0.15\n",
       "1    0.30\n",
       "2    0.45\n",
       "3    0.60\n",
       "4    0.75\n",
       "5    0.90\n",
       "6    1.05\n",
       "7    1.20\n",
       "dtype: float64"
      ]
     },
     "execution_count": 178,
     "metadata": {},
     "output_type": "execute_result"
    }
   ],
   "source": [
    "z_true"
   ]
  },
  {
   "cell_type": "code",
   "execution_count": 196,
   "metadata": {},
   "outputs": [
    {
     "data": {
      "image/png": "[encoded data removed]",
      "text/plain": [
       "<Figure size 504x360 with 1 Axes>"
      ]
     },
     "metadata": {
      "needs_background": "light"
     },
     "output_type": "display_data"
    }
   ],
   "source": [
    "plt.plot(z_true, out,'o',c='r',label='outlier_z')\n",
    "plt.plot(z_true, b.meanz,'*',label='mean_z')\n",
    "plt.plot(z_true, b.CORmeanz,'v',label='COR_mean_z')\n",
    "plt.xlabel('true_z');plt.ylabel('z')\n",
    "plt.legend()\n",
    "plt.tight_layout()\n",
    "plt.title('Before Interpolation')\n",
    "plt.savefig('NEW_LSST/compare-1.pdf',bbox_inches='tight')"
   ]
  },
  {
   "cell_type": "code",
   "execution_count": 188,
   "metadata": {},
   "outputs": [
    {
     "data": {
      "text/html": [
       "<div>\n",
       "<style scoped>\n",
       "    .dataframe tbody tr th:only-of-type {\n",
       "        vertical-align: middle;\n",
       "    }\n",
       "\n",
       "    .dataframe tbody tr th {\n",
       "        vertical-align: top;\n",
       "    }\n",
       "\n",
       "    .dataframe thead th {\n",
       "        text-align: right;\n",
       "    }\n",
       "</style>\n",
       "<table border=\"1\" class=\"dataframe\">\n",
       "  <thead>\n",
       "    <tr style=\"text-align: right;\">\n",
       "      <th></th>\n",
       "      <th>out_photoz</th>\n",
       "    </tr>\n",
       "  </thead>\n",
       "  <tbody>\n",
       "    <tr>\n",
       "      <th>0</th>\n",
       "      <td>0.228474</td>\n",
       "    </tr>\n",
       "    <tr>\n",
       "      <th>1</th>\n",
       "      <td>0.329221</td>\n",
       "    </tr>\n",
       "    <tr>\n",
       "      <th>2</th>\n",
       "      <td>0.435428</td>\n",
       "    </tr>\n",
       "    <tr>\n",
       "      <th>3</th>\n",
       "      <td>0.513386</td>\n",
       "    </tr>\n",
       "    <tr>\n",
       "      <th>4</th>\n",
       "      <td>0.784457</td>\n",
       "    </tr>\n",
       "    <tr>\n",
       "      <th>5</th>\n",
       "      <td>0.933698</td>\n",
       "    </tr>\n",
       "    <tr>\n",
       "      <th>6</th>\n",
       "      <td>1.071473</td>\n",
       "    </tr>\n",
       "    <tr>\n",
       "      <th>7</th>\n",
       "      <td>1.205248</td>\n",
       "    </tr>\n",
       "  </tbody>\n",
       "</table>\n",
       "</div>"
      ],
      "text/plain": [
       "   out_photoz\n",
       "0    0.228474\n",
       "1    0.329221\n",
       "2    0.435428\n",
       "3    0.513386\n",
       "4    0.784457\n",
       "5    0.933698\n",
       "6    1.071473\n",
       "7    1.205248"
      ]
     },
     "execution_count": 188,
     "metadata": {},
     "output_type": "execute_result"
    }
   ],
   "source": [
    "out"
   ]
  },
  {
   "cell_type": "code",
   "execution_count": 199,
   "metadata": {},
   "outputs": [
    {
     "data": {
      "image/png": "[encoded data removed]",
      "text/plain": [
       "<Figure size 504x360 with 1 Axes>"
      ]
     },
     "metadata": {
      "needs_background": "light"
     },
     "output_type": "display_data"
    }
   ],
   "source": [
    "plt.plot(z_true, out.out_photoz-b.meanz,c='r')\n",
    "plt.plot(z_true, out.out_photoz-b.meanz,'o',c='black')\n",
    "plt.xlabel('z_true');plt.ylabel('outlier_z - mean_z')\n",
    "plt.tight_layout()\n",
    "plt.title('Before Interpolation')\n",
    "plt.savefig('NEW_LSST/compare-2.pdf',bbox_inches='tight')"
   ]
  },
  {
   "cell_type": "code",
   "execution_count": 154,
   "metadata": {},
   "outputs": [
    {
     "data": {
      "text/plain": [
       "0.683575"
      ]
     },
     "execution_count": 154,
     "metadata": {},
     "output_type": "execute_result"
    }
   ],
   "source": [
    "np.mean(b.meanz)"
   ]
  },
  {
   "cell_type": "code",
   "execution_count": 86,
   "metadata": {},
   "outputs": [
    {
     "data": {
      "text/plain": [
       "0.683825"
      ]
     },
     "execution_count": 86,
     "metadata": {},
     "output_type": "execute_result"
    }
   ],
   "source": [
    "np.mean(b.CORmeanz)"
   ]
  },
  {
   "cell_type": "code",
   "execution_count": 232,
   "metadata": {},
   "outputs": [
    {
     "data": {
      "text/plain": [
       "Text(0, 0.5, 'z')"
      ]
     },
     "execution_count": 232,
     "metadata": {},
     "output_type": "execute_result"
    },
    {
     "data": {
      "image/png": "[encoded data removed]",
      "text/plain": [
       "<Figure size 504x360 with 1 Axes>"
      ]
     },
     "metadata": {
      "needs_background": "light"
     },
     "output_type": "display_data"
    }
   ],
   "source": [
    "#plt.subplot(2,1,1)\n",
    "#plt.rcParams['figure.figsize'] = [7, 5]\n",
    "plt.plot(np.linspace(1,8,8),b.meanz,'o',label='meanz')\n",
    "plt.plot(np.linspace(1,8,8),b.CORmeanz,'v',label='CORmeanz')\n",
    "#plt.plot(np.linspace(1,8,8),b.CORoutbias,'v',label='CORoutlier_bias')\n",
    "plt.plot(np.linspace(1,8,8),z_true,'*',label='z_spec')\n",
    "plt.plot(np.linspace(1,8,8),out,'*',label='out z_p')\n",
    "plt.legend()\n",
    "plt.xlabel('Bin')\n",
    "plt.ylabel('z')"
   ]
  },
  {
   "cell_type": "code",
   "execution_count": 101,
   "metadata": {},
   "outputs": [
    {
     "data": {
      "text/plain": [
       "Text(0, 0.5, '$z\\\\left(\\\\frac{|COR\\\\_mean-mean|}{mean}\\\\right)*100$')"
      ]
     },
     "execution_count": 101,
     "metadata": {},
     "output_type": "execute_result"
    },
    {
     "data": {
      "image/png": "[encoded data removed]",
      "text/plain": [
       "<Figure size 504x360 with 1 Axes>"
      ]
     },
     "metadata": {
      "needs_background": "light"
     },
     "output_type": "display_data"
    }
   ],
   "source": [
    "plt.plot(np.linspace(1,8,8),abs(b.CORmeanz-b.meanz)*100/b.meanz,'v')\n",
    "plt.xlabel('Bin')\n",
    "plt.ylabel(r'$z\\left(\\frac{|COR\\_mean-mean|}{mean}\\right)*100$')"
   ]
  },
  {
   "cell_type": "code",
   "execution_count": 54,
   "metadata": {},
   "outputs": [
    {
     "data": {
      "text/plain": [
       "5.3"
      ]
     },
     "execution_count": 54,
     "metadata": {},
     "output_type": "execute_result"
    }
   ],
   "source": [
    "np.median(b.CORb)/np.median(b.err_CORb)"
   ]
  },
  {
   "cell_type": "code",
   "execution_count": 55,
   "metadata": {},
   "outputs": [
    {
     "data": {
      "text/plain": [
       "5.75"
      ]
     },
     "execution_count": 55,
     "metadata": {},
     "output_type": "execute_result"
    }
   ],
   "source": [
    "np.median(b.CORb/b.err_CORb)"
   ]
  },
  {
   "cell_type": "code",
   "execution_count": 159,
   "metadata": {
    "scrolled": true
   },
   "outputs": [
    {
     "name": "stdout",
     "output_type": "stream",
     "text": [
      "5.0\n"
     ]
    }
   ],
   "source": [
    "yy = np.median(b.CORoutbias/b.err_CORoutbias)\n",
    "print(round(yy))"
   ]
  },
  {
   "cell_type": "code",
   "execution_count": 12,
   "metadata": {},
   "outputs": [
    {
     "name": "stdout",
     "output_type": "stream",
     "text": [
      "/Volumes/HDD Data 750GB/Programs/Fisher/github\r\n"
     ]
    }
   ],
   "source": [
    "!pwd"
   ]
  },
  {
   "cell_type": "code",
   "execution_count": 160,
   "metadata": {},
   "outputs": [
    {
     "data": {
      "image/png": "[encoded data removed]",
      "text/plain": [
       "<Figure size 504x360 with 1 Axes>"
      ]
     },
     "metadata": {
      "needs_background": "light"
     },
     "output_type": "display_data"
    }
   ],
   "source": [
    "plt.plot(b.meanz,(b.CORb/b.err_CORb),'o',c='r')\n",
    "plt.axhline(np.median(b.CORoutbias/b.err_CORoutbias),linestyle='--',c='lime',label=r'$median\\left(\\frac{Bias}{\\sigma (Bias)}\\right) = %s$'%yy)\n",
    "plt.ylabel(r'$\\frac{Bias}{\\sigma (Bias)}$',size=20)\n",
    "plt.xlabel('z')\n",
    "plt.legend(prop={'size': 15})\n",
    "plt.tight_layout()\n",
    "#plt.savefig('Scale_factor.pdf',bbox_inches='tight')"
   ]
  },
  {
   "cell_type": "code",
   "execution_count": 14,
   "metadata": {},
   "outputs": [],
   "source": [
    "#b.to_csv('melissa.csv',sep = ' ',index=False)"
   ]
  },
  {
   "cell_type": "code",
   "execution_count": 58,
   "metadata": {},
   "outputs": [
    {
     "data": {
      "text/plain": [
       "Text(0, 0.5, 'Mean Redshift (z)')"
      ]
     },
     "execution_count": 58,
     "metadata": {},
     "output_type": "execute_result"
    },
    {
     "data": {
      "image/png": "[encoded data removed]",
      "text/plain": [
       "<Figure size 432x288 with 1 Axes>"
      ]
     },
     "metadata": {
      "needs_background": "light"
     },
     "output_type": "display_data"
    }
   ],
   "source": [
    "plt.plot(b.meanz, 'o')\n",
    "plt.xlabel('No. of Bins');plt.ylabel('Mean Redshift (z)')"
   ]
  },
  {
   "cell_type": "code",
   "execution_count": 108,
   "metadata": {},
   "outputs": [
    {
     "data": {
      "text/html": [
       "<div>\n",
       "<style scoped>\n",
       "    .dataframe tbody tr th:only-of-type {\n",
       "        vertical-align: middle;\n",
       "    }\n",
       "\n",
       "    .dataframe tbody tr th {\n",
       "        vertical-align: top;\n",
       "    }\n",
       "\n",
       "    .dataframe thead th {\n",
       "        text-align: right;\n",
       "    }\n",
       "</style>\n",
       "<table border=\"1\" class=\"dataframe\">\n",
       "  <thead>\n",
       "    <tr style=\"text-align: right;\">\n",
       "      <th></th>\n",
       "      <th>zbin1</th>\n",
       "      <th>zbin2</th>\n",
       "      <th>meanz</th>\n",
       "      <th>CORmeanz</th>\n",
       "      <th>fout</th>\n",
       "      <th>CORb</th>\n",
       "      <th>err_CORb</th>\n",
       "      <th>CORs</th>\n",
       "      <th>err_CORs</th>\n",
       "      <th>CORIQRs</th>\n",
       "      <th>CORIQRb</th>\n",
       "      <th>err_CORIQRs</th>\n",
       "      <th>err_CORIQRb</th>\n",
       "    </tr>\n",
       "  </thead>\n",
       "  <tbody>\n",
       "    <tr>\n",
       "      <th>0</th>\n",
       "      <td>0.00</td>\n",
       "      <td>0.30</td>\n",
       "      <td>0.2212</td>\n",
       "      <td>0.2230</td>\n",
       "      <td>0.1980</td>\n",
       "      <td>0.0260</td>\n",
       "      <td>0.0015</td>\n",
       "      <td>0.0688</td>\n",
       "      <td>0.0025</td>\n",
       "      <td>0.0229</td>\n",
       "      <td>0.0064</td>\n",
       "      <td>0.0007</td>\n",
       "      <td>0.0006</td>\n",
       "    </tr>\n",
       "    <tr>\n",
       "      <th>1</th>\n",
       "      <td>0.15</td>\n",
       "      <td>0.45</td>\n",
       "      <td>0.3289</td>\n",
       "      <td>0.3301</td>\n",
       "      <td>0.1672</td>\n",
       "      <td>0.0154</td>\n",
       "      <td>0.0008</td>\n",
       "      <td>0.0536</td>\n",
       "      <td>0.0012</td>\n",
       "      <td>0.0247</td>\n",
       "      <td>0.0055</td>\n",
       "      <td>0.0005</td>\n",
       "      <td>0.0004</td>\n",
       "    </tr>\n",
       "    <tr>\n",
       "      <th>2</th>\n",
       "      <td>0.30</td>\n",
       "      <td>0.60</td>\n",
       "      <td>0.4535</td>\n",
       "      <td>0.4544</td>\n",
       "      <td>0.1312</td>\n",
       "      <td>-0.0004</td>\n",
       "      <td>0.0005</td>\n",
       "      <td>0.0434</td>\n",
       "      <td>0.0008</td>\n",
       "      <td>0.0213</td>\n",
       "      <td>0.0014</td>\n",
       "      <td>0.0004</td>\n",
       "      <td>0.0003</td>\n",
       "    </tr>\n",
       "  </tbody>\n",
       "</table>\n",
       "</div>"
      ],
      "text/plain": [
       "   zbin1  zbin2   meanz  CORmeanz    fout    CORb  err_CORb    CORs  err_CORs  \\\n",
       "0   0.00   0.30  0.2212    0.2230  0.1980  0.0260    0.0015  0.0688    0.0025   \n",
       "1   0.15   0.45  0.3289    0.3301  0.1672  0.0154    0.0008  0.0536    0.0012   \n",
       "2   0.30   0.60  0.4535    0.4544  0.1312 -0.0004    0.0005  0.0434    0.0008   \n",
       "\n",
       "   CORIQRs  CORIQRb  err_CORIQRs  err_CORIQRb  \n",
       "0   0.0229   0.0064       0.0007       0.0006  \n",
       "1   0.0247   0.0055       0.0005       0.0004  \n",
       "2   0.0213   0.0014       0.0004       0.0003  "
      ]
     },
     "execution_count": 108,
     "metadata": {},
     "output_type": "execute_result"
    }
   ],
   "source": [
    "b.head(3)"
   ]
  },
  {
   "cell_type": "code",
   "execution_count": 17,
   "metadata": {},
   "outputs": [
    {
     "data": {
      "text/plain": [
       "[<matplotlib.lines.Line2D at 0x11a754b10>]"
      ]
     },
     "execution_count": 17,
     "metadata": {},
     "output_type": "execute_result"
    },
    {
     "data": {
      "image/png": "[encoded data removed]",
      "text/plain": [
       "<Figure size 432x288 with 1 Axes>"
      ]
     },
     "metadata": {
      "needs_background": "light"
     },
     "output_type": "display_data"
    }
   ],
   "source": [
    "plt.plot(np.linspace(1,19,19), a.meanz )"
   ]
  },
  {
   "cell_type": "code",
   "execution_count": 109,
   "metadata": {},
   "outputs": [],
   "source": [
    "c = b.iloc[: , [3,10]]"
   ]
  },
  {
   "cell_type": "code",
   "execution_count": 112,
   "metadata": {},
   "outputs": [
    {
     "data": {
      "text/html": [
       "<div>\n",
       "<style scoped>\n",
       "    .dataframe tbody tr th:only-of-type {\n",
       "        vertical-align: middle;\n",
       "    }\n",
       "\n",
       "    .dataframe tbody tr th {\n",
       "        vertical-align: top;\n",
       "    }\n",
       "\n",
       "    .dataframe thead th {\n",
       "        text-align: right;\n",
       "    }\n",
       "</style>\n",
       "<table border=\"1\" class=\"dataframe\">\n",
       "  <thead>\n",
       "    <tr style=\"text-align: right;\">\n",
       "      <th></th>\n",
       "      <th>CORmeanz</th>\n",
       "      <th>CORIQRb</th>\n",
       "    </tr>\n",
       "  </thead>\n",
       "  <tbody>\n",
       "    <tr>\n",
       "      <th>0</th>\n",
       "      <td>0.223</td>\n",
       "      <td>0.0064</td>\n",
       "    </tr>\n",
       "  </tbody>\n",
       "</table>\n",
       "</div>"
      ],
      "text/plain": [
       "   CORmeanz  CORIQRb\n",
       "0     0.223   0.0064"
      ]
     },
     "execution_count": 112,
     "metadata": {},
     "output_type": "execute_result"
    }
   ],
   "source": [
    "c.head(1)"
   ]
  },
  {
   "cell_type": "code",
   "execution_count": 19,
   "metadata": {},
   "outputs": [],
   "source": [
    "#c.to_csv('meliisa_reduced_bias.csv',sep = ' ')"
   ]
  },
  {
   "cell_type": "code",
   "execution_count": 113,
   "metadata": {},
   "outputs": [],
   "source": [
    "c.columns = ['meanz','CORIQRb']"
   ]
  },
  {
   "cell_type": "code",
   "execution_count": 65,
   "metadata": {},
   "outputs": [
    {
     "data": {
      "text/plain": [
       "[<matplotlib.lines.Line2D at 0xb1e6bd1d0>]"
      ]
     },
     "execution_count": 65,
     "metadata": {},
     "output_type": "execute_result"
    },
    {
     "data": {
      "image/png": "[encoded data removed]",
      "text/plain": [
       "<Figure size 432x288 with 1 Axes>"
      ]
     },
     "metadata": {
      "needs_background": "light"
     },
     "output_type": "display_data"
    }
   ],
   "source": [
    "plt.plot(c.meanz, c.CORIQRb, '*')"
   ]
  },
  {
   "cell_type": "code",
   "execution_count": 67,
   "metadata": {},
   "outputs": [
    {
     "data": {
      "text/plain": [
       "[<matplotlib.lines.Line2D at 0xb1e53a310>]"
      ]
     },
     "execution_count": 67,
     "metadata": {},
     "output_type": "execute_result"
    },
    {
     "data": {
      "image/png": "[encoded data removed]",
      "text/plain": [
       "<Figure size 432x288 with 1 Axes>"
      ]
     },
     "metadata": {
      "needs_background": "light"
     },
     "output_type": "display_data"
    }
   ],
   "source": [
    "plt.plot(b.CORmeanz, b.fout, '*')"
   ]
  },
  {
   "cell_type": "code",
   "execution_count": 23,
   "metadata": {},
   "outputs": [],
   "source": [
    "from scipy.interpolate import interp1d"
   ]
  },
  {
   "cell_type": "code",
   "execution_count": 208,
   "metadata": {},
   "outputs": [
    {
     "data": {
      "image/png": "[encoded data removed]",
      "text/plain": [
       "<Figure size 504x360 with 1 Axes>"
      ]
     },
     "metadata": {
      "needs_background": "light"
     },
     "output_type": "display_data"
    }
   ],
   "source": [
    "f2 = interp1d(b.CORmeanz, c.CORIQRb, kind='nearest',fill_value=\"extrapolate\") # nearest\n",
    "##f2 = interp1d(b.meanz, b.err_CORIQRb, kind='nearest',fill_value=\"extrapolate\") # cubic\n",
    "f3 = interp1d(b.CORmeanz, b.err_CORIQRb, kind='nearest',fill_value=\"extrapolate\") # cubic\n",
    "f4 = interp1d(b.CORmeanz, b.CORfout, kind='cubic',fill_value=\"extrapolate\") # cubic\n",
    "f5 = interp1d(b.CORmeanz, out.out_photoz, kind='cubic',fill_value=\"extrapolate\") # cubic\n",
    "f6 = interp1d(b.CORmeanz, b.CORoutbias, kind='cubic',fill_value=\"extrapolate\") # cubic\n",
    "\n",
    "xnew = np.linspace(0.05,1.15,12, endpoint=True)\n",
    "#np.linspace(0.05,1.15,12)\n",
    "\n",
    "plt.plot(xnew,f5(xnew),'o', label = 'interpolated')\n",
    "#plt.plot(c.meanz, c.CORIQRb, '*', label = 'Original')\n",
    "#plt.plot(b.CORmeanz, b.err_CORIQRb, '*', label = 'Original')\n",
    "#plt.plot(b.CORmeanz, b.CORfout, '*', label = 'Original')\n",
    "plt.plot(b.CORmeanz, out.out_photoz, '*', label = 'Original')\n",
    "plt.xlabel('z')\n",
    "plt.ylabel('Robust bias(error) \"CORIQRb\" ' )\n",
    "plt.ylabel('Fraction of Outlier')\n",
    "plt.ylabel('Outlier Photo-z')\n",
    "\n",
    "plt.legend()\n",
    "plt.tight_layout()\n",
    "#plt.savefig('Outlier_f.pdf',bbox_inches='tight')"
   ]
  },
  {
   "cell_type": "code",
   "execution_count": 220,
   "metadata": {},
   "outputs": [
    {
     "data": {
      "image/png": "[encoded data removed]",
      "text/plain": [
       "<Figure size 504x360 with 1 Axes>"
      ]
     },
     "metadata": {
      "needs_background": "light"
     },
     "output_type": "display_data"
    }
   ],
   "source": [
    "plt.plot(xnew,f5(xnew)-xnew,'o', label = 'interpolated')\n",
    "plt.plot(xnew,f6(xnew),'*', label = 'interpolated CORoutlier bias')\n",
    "#plt.plot(c.meanz, c.CORIQRb, '*', label = 'Original')\n",
    "#plt.plot(b.CORmeanz, b.err_CORIQRb, '*', label = 'Original')\n",
    "#plt.plot(b.CORmeanz, b.CORfout, '*', label = 'Original')\n",
    "#plt.plot(b.CORmeanz, out.out_photoz, '*', label = 'Original')\n",
    "plt.xlabel('z')\n",
    "plt.ylabel('Robust bias(error) \"CORIQRb\" ' )\n",
    "plt.ylabel('Fraction of Outlier')\n",
    "plt.ylabel('Outlier Photo-z')\n",
    "\n",
    "plt.legend()\n",
    "plt.tight_layout()"
   ]
  },
  {
   "cell_type": "code",
   "execution_count": 25,
   "metadata": {},
   "outputs": [
    {
     "data": {
      "text/plain": [
       "array([0.05, 0.15, 0.25, 0.35, 0.45, 0.55, 0.65, 0.75, 0.85, 0.95, 1.05,\n",
       "       1.15])"
      ]
     },
     "execution_count": 25,
     "metadata": {},
     "output_type": "execute_result"
    }
   ],
   "source": [
    "xnew"
   ]
  },
  {
   "cell_type": "code",
   "execution_count": 26,
   "metadata": {},
   "outputs": [
    {
     "data": {
      "text/plain": [
       "array([0.0066, 0.0066, 0.0066, 0.0066, 0.0017, 0.0003, 0.0003, 0.0006,\n",
       "       0.0003, 0.0003, 0.0009, 0.001 ])"
      ]
     },
     "execution_count": 26,
     "metadata": {},
     "output_type": "execute_result"
    }
   ],
   "source": [
    "f2(xnew)"
   ]
  },
  {
   "cell_type": "code",
   "execution_count": 27,
   "metadata": {},
   "outputs": [
    {
     "data": {
      "text/plain": [
       "array([0.0002, 0.0002, 0.0002, 0.0002, 0.0001, 0.0001, 0.0001, 0.0001,\n",
       "       0.0001, 0.0001, 0.0001, 0.0002])"
      ]
     },
     "execution_count": 27,
     "metadata": {},
     "output_type": "execute_result"
    }
   ],
   "source": [
    "f3(xnew)"
   ]
  },
  {
   "cell_type": "code",
   "execution_count": 28,
   "metadata": {},
   "outputs": [],
   "source": [
    "y4 = np.median(f2(xnew)/f3(xnew))"
   ]
  },
  {
   "cell_type": "code",
   "execution_count": 29,
   "metadata": {},
   "outputs": [
    {
     "data": {
      "text/plain": [
       "array([0.05, 0.15, 0.25, 0.35, 0.45, 0.55, 0.65, 0.75, 0.85, 0.95, 1.05,\n",
       "       1.15])"
      ]
     },
     "execution_count": 29,
     "metadata": {},
     "output_type": "execute_result"
    }
   ],
   "source": [
    "xnew"
   ]
  },
  {
   "cell_type": "code",
   "execution_count": 70,
   "metadata": {},
   "outputs": [
    {
     "data": {
      "image/png": "[encoded data removed]",
      "text/plain": [
       "<Figure size 432x288 with 1 Axes>"
      ]
     },
     "metadata": {
      "needs_background": "light"
     },
     "output_type": "display_data"
    }
   ],
   "source": [
    "plt.plot(xnew,f2(xnew)/f3(xnew),'o',c='r')\n",
    "plt.axhline(np.median(f2(xnew)/f3(xnew)),linestyle='--',c='lime',label=r'$median\\left(\\frac{Bias}{\\sigma (Bias)}\\right) = %s$'%y4)\n",
    "plt.ylabel(r'$\\frac{Bias}{\\sigma (Bias)}$',size=20)\n",
    "plt.xlabel('z')\n",
    "plt.legend(prop={'size': 15})\n",
    "plt.tight_layout()\n",
    "#plt.savefig('Scale_factorII.pdf',bbox_inches='tight')"
   ]
  },
  {
   "cell_type": "code",
   "execution_count": 227,
   "metadata": {},
   "outputs": [],
   "source": [
    "inter2 = np.array(list(zip(xnew,f5(xnew),f6(xnew),f4(xnew)))) # f4 = outlier fraction\n",
    "d2 = pd.DataFrame(inter2, columns=['z_true','z_photo','outlier_bias','F'])\n",
    "#d2.to_csv('interpolated_fout_new.csv',sep = ' ',index = False)"
   ]
  },
  {
   "cell_type": "code",
   "execution_count": 234,
   "metadata": {},
   "outputs": [
    {
     "data": {
      "text/html": [
       "<div>\n",
       "<style scoped>\n",
       "    .dataframe tbody tr th:only-of-type {\n",
       "        vertical-align: middle;\n",
       "    }\n",
       "\n",
       "    .dataframe tbody tr th {\n",
       "        vertical-align: top;\n",
       "    }\n",
       "\n",
       "    .dataframe thead th {\n",
       "        text-align: right;\n",
       "    }\n",
       "</style>\n",
       "<table border=\"1\" class=\"dataframe\">\n",
       "  <thead>\n",
       "    <tr style=\"text-align: right;\">\n",
       "      <th></th>\n",
       "      <th>z_true</th>\n",
       "      <th>z_photo</th>\n",
       "      <th>outlier_bias</th>\n",
       "      <th>F</th>\n",
       "    </tr>\n",
       "  </thead>\n",
       "  <tbody>\n",
       "    <tr>\n",
       "      <th>0</th>\n",
       "      <td>0.05</td>\n",
       "      <td>0.203506</td>\n",
       "      <td>0.093116</td>\n",
       "      <td>0.091933</td>\n",
       "    </tr>\n",
       "    <tr>\n",
       "      <th>1</th>\n",
       "      <td>0.15</td>\n",
       "      <td>0.183006</td>\n",
       "      <td>0.142650</td>\n",
       "      <td>0.050062</td>\n",
       "    </tr>\n",
       "    <tr>\n",
       "      <th>2</th>\n",
       "      <td>0.25</td>\n",
       "      <td>0.251730</td>\n",
       "      <td>0.119162</td>\n",
       "      <td>0.045339</td>\n",
       "    </tr>\n",
       "    <tr>\n",
       "      <th>3</th>\n",
       "      <td>0.35</td>\n",
       "      <td>0.353920</td>\n",
       "      <td>0.050524</td>\n",
       "      <td>0.056178</td>\n",
       "    </tr>\n",
       "    <tr>\n",
       "      <th>4</th>\n",
       "      <td>0.45</td>\n",
       "      <td>0.433815</td>\n",
       "      <td>-0.035392</td>\n",
       "      <td>0.060993</td>\n",
       "    </tr>\n",
       "    <tr>\n",
       "      <th>5</th>\n",
       "      <td>0.55</td>\n",
       "      <td>0.471496</td>\n",
       "      <td>-0.101744</td>\n",
       "      <td>0.044635</td>\n",
       "    </tr>\n",
       "    <tr>\n",
       "      <th>6</th>\n",
       "      <td>0.65</td>\n",
       "      <td>0.596429</td>\n",
       "      <td>-0.076595</td>\n",
       "      <td>0.020190</td>\n",
       "    </tr>\n",
       "    <tr>\n",
       "      <th>7</th>\n",
       "      <td>0.75</td>\n",
       "      <td>0.789309</td>\n",
       "      <td>0.025034</td>\n",
       "      <td>0.004586</td>\n",
       "    </tr>\n",
       "    <tr>\n",
       "      <th>8</th>\n",
       "      <td>0.85</td>\n",
       "      <td>0.902699</td>\n",
       "      <td>0.108485</td>\n",
       "      <td>0.006027</td>\n",
       "    </tr>\n",
       "    <tr>\n",
       "      <th>9</th>\n",
       "      <td>0.95</td>\n",
       "      <td>0.988488</td>\n",
       "      <td>0.132778</td>\n",
       "      <td>0.015328</td>\n",
       "    </tr>\n",
       "    <tr>\n",
       "      <th>10</th>\n",
       "      <td>1.05</td>\n",
       "      <td>1.081869</td>\n",
       "      <td>0.106466</td>\n",
       "      <td>0.026254</td>\n",
       "    </tr>\n",
       "    <tr>\n",
       "      <th>11</th>\n",
       "      <td>1.15</td>\n",
       "      <td>1.171144</td>\n",
       "      <td>0.064781</td>\n",
       "      <td>0.037622</td>\n",
       "    </tr>\n",
       "  </tbody>\n",
       "</table>\n",
       "</div>"
      ],
      "text/plain": [
       "    z_true   z_photo  outlier_bias         F\n",
       "0     0.05  0.203506      0.093116  0.091933\n",
       "1     0.15  0.183006      0.142650  0.050062\n",
       "2     0.25  0.251730      0.119162  0.045339\n",
       "3     0.35  0.353920      0.050524  0.056178\n",
       "4     0.45  0.433815     -0.035392  0.060993\n",
       "5     0.55  0.471496     -0.101744  0.044635\n",
       "6     0.65  0.596429     -0.076595  0.020190\n",
       "7     0.75  0.789309      0.025034  0.004586\n",
       "8     0.85  0.902699      0.108485  0.006027\n",
       "9     0.95  0.988488      0.132778  0.015328\n",
       "10    1.05  1.081869      0.106466  0.026254\n",
       "11    1.15  1.171144      0.064781  0.037622"
      ]
     },
     "execution_count": 234,
     "metadata": {},
     "output_type": "execute_result"
    }
   ],
   "source": [
    "d2"
   ]
  },
  {
   "cell_type": "code",
   "execution_count": 163,
   "metadata": {},
   "outputs": [],
   "source": [
    "inter = np.array(list(zip(xnew,f4(xnew)))) # f4 = outlier fraction"
   ]
  },
  {
   "cell_type": "code",
   "execution_count": 164,
   "metadata": {},
   "outputs": [],
   "source": [
    "d = pd.DataFrame(inter, columns=['z','bias'])"
   ]
  },
  {
   "cell_type": "code",
   "execution_count": 149,
   "metadata": {},
   "outputs": [],
   "source": [
    "d.to_csv('interpolated_error_new.csv',sep = ' ',index = False)\n",
    "#d.to_csv('interpolated_new_2.csv',sep=' ',index=False)\n",
    "#d.to_csv('interpolated_fout.csv',sep = ' ',index = False)"
   ]
  },
  {
   "cell_type": "code",
   "execution_count": 233,
   "metadata": {},
   "outputs": [
    {
     "data": {
      "text/html": [
       "<div>\n",
       "<style scoped>\n",
       "    .dataframe tbody tr th:only-of-type {\n",
       "        vertical-align: middle;\n",
       "    }\n",
       "\n",
       "    .dataframe tbody tr th {\n",
       "        vertical-align: top;\n",
       "    }\n",
       "\n",
       "    .dataframe thead th {\n",
       "        text-align: right;\n",
       "    }\n",
       "</style>\n",
       "<table border=\"1\" class=\"dataframe\">\n",
       "  <thead>\n",
       "    <tr style=\"text-align: right;\">\n",
       "      <th></th>\n",
       "      <th>z</th>\n",
       "      <th>bias</th>\n",
       "    </tr>\n",
       "  </thead>\n",
       "  <tbody>\n",
       "    <tr>\n",
       "      <th>0</th>\n",
       "      <td>0.05</td>\n",
       "      <td>0.091933</td>\n",
       "    </tr>\n",
       "    <tr>\n",
       "      <th>1</th>\n",
       "      <td>0.15</td>\n",
       "      <td>0.050062</td>\n",
       "    </tr>\n",
       "    <tr>\n",
       "      <th>2</th>\n",
       "      <td>0.25</td>\n",
       "      <td>0.045339</td>\n",
       "    </tr>\n",
       "    <tr>\n",
       "      <th>3</th>\n",
       "      <td>0.35</td>\n",
       "      <td>0.056178</td>\n",
       "    </tr>\n",
       "    <tr>\n",
       "      <th>4</th>\n",
       "      <td>0.45</td>\n",
       "      <td>0.060993</td>\n",
       "    </tr>\n",
       "    <tr>\n",
       "      <th>5</th>\n",
       "      <td>0.55</td>\n",
       "      <td>0.044635</td>\n",
       "    </tr>\n",
       "    <tr>\n",
       "      <th>6</th>\n",
       "      <td>0.65</td>\n",
       "      <td>0.020190</td>\n",
       "    </tr>\n",
       "    <tr>\n",
       "      <th>7</th>\n",
       "      <td>0.75</td>\n",
       "      <td>0.004586</td>\n",
       "    </tr>\n",
       "    <tr>\n",
       "      <th>8</th>\n",
       "      <td>0.85</td>\n",
       "      <td>0.006027</td>\n",
       "    </tr>\n",
       "    <tr>\n",
       "      <th>9</th>\n",
       "      <td>0.95</td>\n",
       "      <td>0.015328</td>\n",
       "    </tr>\n",
       "    <tr>\n",
       "      <th>10</th>\n",
       "      <td>1.05</td>\n",
       "      <td>0.026254</td>\n",
       "    </tr>\n",
       "    <tr>\n",
       "      <th>11</th>\n",
       "      <td>1.15</td>\n",
       "      <td>0.037622</td>\n",
       "    </tr>\n",
       "  </tbody>\n",
       "</table>\n",
       "</div>"
      ],
      "text/plain": [
       "       z      bias\n",
       "0   0.05  0.091933\n",
       "1   0.15  0.050062\n",
       "2   0.25  0.045339\n",
       "3   0.35  0.056178\n",
       "4   0.45  0.060993\n",
       "5   0.55  0.044635\n",
       "6   0.65  0.020190\n",
       "7   0.75  0.004586\n",
       "8   0.85  0.006027\n",
       "9   0.95  0.015328\n",
       "10  1.05  0.026254\n",
       "11  1.15  0.037622"
      ]
     },
     "execution_count": 233,
     "metadata": {},
     "output_type": "execute_result"
    }
   ],
   "source": [
    "d"
   ]
  },
  {
   "cell_type": "markdown",
   "metadata": {},
   "source": [
    "### Estimating the z' for outliers from the figure 5a, by estimting a median for each z slice"
   ]
  },
  {
   "cell_type": "code",
   "execution_count": 35,
   "metadata": {},
   "outputs": [],
   "source": [
    "from random import randint,  uniform"
   ]
  },
  {
   "cell_type": "code",
   "execution_count": 36,
   "metadata": {},
   "outputs": [
    {
     "name": "stdout",
     "output_type": "stream",
     "text": [
      "Median z for  z[0.05-0.15] =  2.364880635490321\n",
      "Median z for  z[0.15-0.25] =  0.6014331710753977\n",
      "Median z for  z[0.25-0.35] =  0.5822839426184279\n",
      "Median z for  z[0.35-0.45] =  0.5029403316548645\n",
      "Median z for  z[0.45-0.55] =  0.6623966247838058\n",
      "Median z for  z[0545-0.65] =  0.6803974408744055\n",
      "Median z for  z[0.65-0.75] =  0.742210688545553\n",
      "Median z for  z[0.75-0.85] =  0.816492801994408\n",
      "Median z for  z[0.85-0.95] =  1.1783498119502083\n",
      "Median z for  z[0.95-1.05] =  1.3610707231049979\n",
      "Median z for  z[1.05-1.15] =  1.5656012254287284\n"
     ]
    }
   ],
   "source": [
    "x00 = 2.51\n",
    "# 0.15\n",
    "# For bin z = [0.05-0.15]\n",
    "# roughly 15% points on the left side and ~ 75% on right side\n",
    "x_left = [uniform(0.25, 0.65) for p in range(0, 15)]\n",
    "x_right = [uniform(2.0, 3.0) for p in range(0, 70)]\n",
    "x = np.concatenate([x_left,x_right])\n",
    "#print(np.shape(x))\n",
    "x1 = np.median(x)\n",
    "print('Median z for  z[0.05-0.15] = ',x1)\n",
    "\n",
    "# 0.25\n",
    "# For bin z = [0.15-0.25]\n",
    "\n",
    "x_left = [uniform(0.25, 0.65) for p in range(0, 115)]\n",
    "x_right = [uniform(2.1, 3.0) for p in range(0, 100)]\n",
    "x = np.concatenate([x_left,x_right])\n",
    "#print(np.shape(x))\n",
    "x2 = np.median(x)\n",
    "print('Median z for  z[0.15-0.25] = ',x2)\n",
    "\n",
    "# 0.35\n",
    "# For bin z = [0.25-0.35]\n",
    "\n",
    "x_left = [uniform(0.33, 0.6) for p in range(0, 115)]\n",
    "x_right = [uniform(2.3, 3.0) for p in range(0, 100)]\n",
    "x = np.concatenate([x_left,x_right])\n",
    "#print(np.shape(x))\n",
    "x3 = np.median(x)\n",
    "print('Median z for  z[0.25-0.35] = ',x3)\n",
    "\n",
    "# 0.45\n",
    "# For bin z = [0.35-0.45]\n",
    "\n",
    "x_left = [uniform(0.3, 0.65) for p in range(0, 500)]\n",
    "x_right = [uniform(2.3, 3.0) for p in range(0, 100)]\n",
    "x = np.concatenate([x_left,x_right])\n",
    "#print(np.shape(x))\n",
    "x4 = np.median(x)\n",
    "print('Median z for  z[0.35-0.45] = ',x4)\n",
    "\n",
    "# 0.55\n",
    "# For bin z = [0.45-0.55]\n",
    "\n",
    "x_left = [uniform(0.3, 0.98) for p in range(0, 1000)]\n",
    "x_right = [uniform(2.25, 2.98) for p in range(0, 70)]\n",
    "x = np.concatenate([x_left,x_right])\n",
    "#print(np.shape(x))\n",
    "x5 = np.median(x)\n",
    "print('Median z for  z[0.45-0.55] = ',x5)\n",
    "\n",
    "# 0.65\n",
    "# For bin z = [0.55-0.65]\n",
    "x_left = [uniform(0.4, 0.95) for p in range(0, 1000)]\n",
    "x_right = [uniform(1.6, 2.99) for p in range(0, 30)]\n",
    "x = np.concatenate([x_left,x_right])\n",
    "#print(np.shape(x))\n",
    "x6 = np.median(x)\n",
    "print('Median z for  z[0545-0.65] = ',x6)\n",
    "\n",
    "# 0.75\n",
    "# For bin z = [0.65-0.75]\n",
    "x_left = [uniform(0.5, 0.97) for p in range(0, 1000)]\n",
    "x_right = [uniform(2.0, 2.99) for p in range(0, 30)]\n",
    "x = np.concatenate([x_left,x_right])\n",
    "#print(np.shape(x))\n",
    "x7 = np.median(x)\n",
    "print('Median z for  z[0.65-0.75] = ',x7)\n",
    "\n",
    "# 0.85\n",
    "# For bin z = [0.75-0.85]\n",
    "\n",
    "x_left = [uniform(0.3, 1.3) for p in range(0, 1000)]\n",
    "x_right = [uniform(1.3, 2.99) for p in range(0, 30)]\n",
    "x = np.concatenate([x_left,x_right])\n",
    "#print(np.shape(x))\n",
    "x8 = np.median(x)\n",
    "print('Median z for  z[0.75-0.85] = ',x8)\n",
    "\n",
    "# 0.95\n",
    "# For bin z = [0.85-0.95]\n",
    "\n",
    "x_left = [uniform(0.6, 1.7) for p in range(0, 800)]\n",
    "x_right = [uniform(1.7, 2.99) for p in range(0, 15)]\n",
    "x = np.concatenate([x_left,x_right])\n",
    "#print(np.shape(x))\n",
    "x9 = np.median(x)\n",
    "print('Median z for  z[0.85-0.95] = ',x9)\n",
    "\n",
    "# 1.05\n",
    "# For bin z = [0.95-1.05]\n",
    "\n",
    "x_left = [uniform(0.75, 2.0) for p in range(0, 900)]\n",
    "x_right = [uniform(2.0, 2.5) for p in range(0, 5)]\n",
    "x = np.concatenate([x_left,x_right])\n",
    "#print(np.shape(x))\n",
    "x10 = np.median(x)\n",
    "print('Median z for  z[0.95-1.05] = ',x10)\n",
    "\n",
    "# 1.15\n",
    "# For bin z = [1.05-1.15]\n",
    "\n",
    "x_left = [uniform(0.9, 2.25) for p in range(0, 900)]\n",
    "x_right = [uniform(2.25, 2.35) for p in range(0, 2)]\n",
    "x = np.concatenate([x_left,x_right])\n",
    "#print(np.shape(x))\n",
    "x11 = np.median(x)\n",
    "print('Median z for  z[1.05-1.15] = ',x11)"
   ]
  },
  {
   "cell_type": "code",
   "execution_count": 37,
   "metadata": {},
   "outputs": [],
   "source": [
    "x_t = [x00,x1,x2,x3,x4,x5,x6,x7,x8,x9,x10,x11]"
   ]
  },
  {
   "cell_type": "code",
   "execution_count": 38,
   "metadata": {},
   "outputs": [
    {
     "data": {
      "text/plain": [
       "[2.51,\n",
       " 2.364880635490321,\n",
       " 0.6014331710753977,\n",
       " 0.5822839426184279,\n",
       " 0.5029403316548645,\n",
       " 0.6623966247838058,\n",
       " 0.6803974408744055,\n",
       " 0.742210688545553,\n",
       " 0.816492801994408,\n",
       " 1.1783498119502083,\n",
       " 1.3610707231049979,\n",
       " 1.5656012254287284]"
      ]
     },
     "execution_count": 38,
     "metadata": {},
     "output_type": "execute_result"
    }
   ],
   "source": [
    "x_t"
   ]
  },
  {
   "cell_type": "code",
   "execution_count": 39,
   "metadata": {},
   "outputs": [
    {
     "data": {
      "text/plain": [
       "[<matplotlib.lines.Line2D at 0xb1c394b10>]"
      ]
     },
     "execution_count": 39,
     "metadata": {},
     "output_type": "execute_result"
    },
    {
     "data": {
      "image/png": "[encoded data removed]",
      "text/plain": [
       "<Figure size 432x288 with 1 Axes>"
      ]
     },
     "metadata": {
      "needs_background": "light"
     },
     "output_type": "display_data"
    }
   ],
   "source": [
    "plt.plot(np.linspace(1,12,12),x_t,'o')\n",
    "plt.plot(np.linspace(1,12,12),np.linspace(0.05,1.15,12),'x')"
   ]
  },
  {
   "cell_type": "code",
   "execution_count": 40,
   "metadata": {},
   "outputs": [],
   "source": [
    "catash = np.array(list(zip(np.linspace(0.05,1.15,12),x_t,d.bias)))"
   ]
  },
  {
   "cell_type": "code",
   "execution_count": 41,
   "metadata": {},
   "outputs": [
    {
     "data": {
      "text/plain": [
       "array([[5.00000000e-02, 2.51000000e+00, 6.60000000e-03],\n",
       "       [1.50000000e-01, 2.36488064e+00, 6.60000000e-03],\n",
       "       [2.50000000e-01, 6.01433171e-01, 6.60000000e-03],\n",
       "       [3.50000000e-01, 5.82283943e-01, 6.60000000e-03],\n",
       "       [4.50000000e-01, 5.02940332e-01, 1.70000000e-03],\n",
       "       [5.50000000e-01, 6.62396625e-01, 3.00000000e-04],\n",
       "       [6.50000000e-01, 6.80397441e-01, 3.00000000e-04],\n",
       "       [7.50000000e-01, 7.42210689e-01, 6.00000000e-04],\n",
       "       [8.50000000e-01, 8.16492802e-01, 3.00000000e-04],\n",
       "       [9.50000000e-01, 1.17834981e+00, 3.00000000e-04],\n",
       "       [1.05000000e+00, 1.36107072e+00, 9.00000000e-04],\n",
       "       [1.15000000e+00, 1.56560123e+00, 1.00000000e-03]])"
      ]
     },
     "execution_count": 41,
     "metadata": {},
     "output_type": "execute_result"
    }
   ],
   "source": [
    "catash"
   ]
  },
  {
   "cell_type": "code",
   "execution_count": 42,
   "metadata": {},
   "outputs": [
    {
     "data": {
      "image/jpeg": "[encoded data removed]",
      "text/plain": [
       "<IPython.core.display.Image object>"
      ]
     },
     "execution_count": 42,
     "metadata": {},
     "output_type": "execute_result"
    }
   ],
   "source": [
    "from IPython.display import Image\n",
    "from IPython.core.display import HTML \n",
    "Image(\"Catastrophic/superposed2.jpg\")"
   ]
  },
  {
   "cell_type": "code",
   "execution_count": 72,
   "metadata": {},
   "outputs": [],
   "source": [
    "catash = pd.DataFrame(catash,columns=['z_true','z_photo','F'])\n",
    "#catash.to_csv('Catastrophic/f2.csv',index = False)"
   ]
  },
  {
   "cell_type": "code",
   "execution_count": 73,
   "metadata": {},
   "outputs": [],
   "source": [
    "catash.z_photo[0] = 0.09 # bin 0.05 [0 - 0.1] ??? What to do here\n",
    "catash.z_photo[1] = 0.40 # 0.15\n",
    "catash.z_photo[2] = 0.45 # 0.25\n",
    "catash.z_photo[3] = 0.48 # 0.35\n",
    "catash.z_photo[4] = 0.38 # 0.45\n",
    "catash.z_photo[5] = 0.50 # 0.55\n",
    "catash.z_photo[6] = 0.60 # 0.65\n",
    "catash.z_photo[7] = 0.65 # 0.75\n",
    "catash.z_photo[8] = 0.95 # 0.85\n",
    "catash.z_photo[9] = 1.10 # 0.95\n",
    "catash.z_photo[10]= 1.21 # 1.05, \n",
    "catash.z_photo[11]= 1.25 # 1.15"
   ]
  },
  {
   "cell_type": "code",
   "execution_count": 74,
   "metadata": {},
   "outputs": [
    {
     "data": {
      "text/plain": [
       "0     0.09\n",
       "1     0.40\n",
       "2     0.45\n",
       "3     0.48\n",
       "4     0.38\n",
       "5     0.50\n",
       "6     0.60\n",
       "7     0.65\n",
       "8     0.95\n",
       "9     1.10\n",
       "10    1.21\n",
       "11    1.25\n",
       "Name: z_photo, dtype: float64"
      ]
     },
     "execution_count": 74,
     "metadata": {},
     "output_type": "execute_result"
    }
   ],
   "source": [
    "catash.z_photo"
   ]
  },
  {
   "cell_type": "code",
   "execution_count": 75,
   "metadata": {},
   "outputs": [
    {
     "data": {
      "text/plain": [
       "[<matplotlib.lines.Line2D at 0xb1e8bb590>]"
      ]
     },
     "execution_count": 75,
     "metadata": {},
     "output_type": "execute_result"
    },
    {
     "data": {
      "image/png": "[encoded data removed]",
      "text/plain": [
       "<Figure size 432x288 with 1 Axes>"
      ]
     },
     "metadata": {
      "needs_background": "light"
     },
     "output_type": "display_data"
    }
   ],
   "source": [
    "plt.plot(catash.z_true,catash.z_photo)\n",
    "plt.plot(catash.z_true,catash.F)"
   ]
  },
  {
   "cell_type": "code",
   "execution_count": null,
   "metadata": {},
   "outputs": [],
   "source": [
    "catash"
   ]
  },
  {
   "cell_type": "code",
   "execution_count": null,
   "metadata": {},
   "outputs": [],
   "source": []
  }
 ],
 "metadata": {
  "kernelspec": {
   "display_name": "Python 3",
   "language": "python",
   "name": "python3"
  },
  "language_info": {
   "codemirror_mode": {
    "name": "ipython",
    "version": 3
   },
   "file_extension": ".py",
   "mimetype": "text/x-python",
   "name": "python",
   "nbconvert_exporter": "python",
   "pygments_lexer": "ipython3",
   "version": "3.7.6"
  }
 },
 "nbformat": 4,
 "nbformat_minor": 2
}
