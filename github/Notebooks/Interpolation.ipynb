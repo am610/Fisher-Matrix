{
 "cells": [
  {
   "cell_type": "code",
   "execution_count": 10,
   "metadata": {},
   "outputs": [],
   "source": [
    "import pandas as pd\n",
    "import numpy as np\n",
    "import matplotlib.pyplot as plt"
   ]
  },
  {
   "cell_type": "code",
   "execution_count": 5,
   "metadata": {},
   "outputs": [],
   "source": [
    "a = pd.read_csv('tt0_2.csv',sep=' ')"
   ]
  },
  {
   "cell_type": "code",
   "execution_count": 7,
   "metadata": {},
   "outputs": [],
   "source": [
    "a = a.iloc[: ,0:-1 ]"
   ]
  },
  {
   "cell_type": "code",
   "execution_count": 8,
   "metadata": {},
   "outputs": [],
   "source": [
    "a.to_csv('tt0_2.csv',sep = ' ',index = False)"
   ]
  },
  {
   "cell_type": "code",
   "execution_count": 15,
   "metadata": {},
   "outputs": [],
   "source": [
    "a = a.iloc[ 1: , : ]"
   ]
  },
  {
   "cell_type": "code",
   "execution_count": 18,
   "metadata": {},
   "outputs": [
    {
     "data": {
      "text/plain": [
       "(19, 8)"
      ]
     },
     "execution_count": 18,
     "metadata": {},
     "output_type": "execute_result"
    }
   ],
   "source": [
    "np.shape(a)"
   ]
  },
  {
   "cell_type": "code",
   "execution_count": 30,
   "metadata": {},
   "outputs": [],
   "source": [
    "b = a.iloc[ 0:8 : , : ]"
   ]
  },
  {
   "cell_type": "code",
   "execution_count": 31,
   "metadata": {},
   "outputs": [
    {
     "data": {
      "text/html": [
       "<div>\n",
       "<style scoped>\n",
       "    .dataframe tbody tr th:only-of-type {\n",
       "        vertical-align: middle;\n",
       "    }\n",
       "\n",
       "    .dataframe tbody tr th {\n",
       "        vertical-align: top;\n",
       "    }\n",
       "\n",
       "    .dataframe thead th {\n",
       "        text-align: right;\n",
       "    }\n",
       "</style>\n",
       "<table border=\"1\" class=\"dataframe\">\n",
       "  <thead>\n",
       "    <tr style=\"text-align: right;\">\n",
       "      <th></th>\n",
       "      <th>zbin1</th>\n",
       "      <th>zbin2</th>\n",
       "      <th>meanz</th>\n",
       "      <th>fout</th>\n",
       "      <th>CORIQRb</th>\n",
       "      <th>CORIQRs</th>\n",
       "      <th>err_CORIQRb</th>\n",
       "      <th>err_CORIQRs</th>\n",
       "    </tr>\n",
       "  </thead>\n",
       "  <tbody>\n",
       "    <tr>\n",
       "      <th>1</th>\n",
       "      <td>0.00</td>\n",
       "      <td>0.30</td>\n",
       "      <td>0.2177</td>\n",
       "      <td>0.2054</td>\n",
       "      <td>0.0066</td>\n",
       "      <td>0.0238</td>\n",
       "      <td>0.0002</td>\n",
       "      <td>0.0005</td>\n",
       "    </tr>\n",
       "    <tr>\n",
       "      <th>2</th>\n",
       "      <td>0.15</td>\n",
       "      <td>0.45</td>\n",
       "      <td>0.3219</td>\n",
       "      <td>0.1843</td>\n",
       "      <td>0.0066</td>\n",
       "      <td>0.0258</td>\n",
       "      <td>0.0002</td>\n",
       "      <td>0.0003</td>\n",
       "    </tr>\n",
       "    <tr>\n",
       "      <th>3</th>\n",
       "      <td>0.30</td>\n",
       "      <td>0.60</td>\n",
       "      <td>0.4678</td>\n",
       "      <td>0.1317</td>\n",
       "      <td>0.0017</td>\n",
       "      <td>0.0220</td>\n",
       "      <td>0.0001</td>\n",
       "      <td>0.0002</td>\n",
       "    </tr>\n",
       "    <tr>\n",
       "      <th>4</th>\n",
       "      <td>0.45</td>\n",
       "      <td>0.75</td>\n",
       "      <td>0.5952</td>\n",
       "      <td>0.0718</td>\n",
       "      <td>0.0003</td>\n",
       "      <td>0.0158</td>\n",
       "      <td>0.0001</td>\n",
       "      <td>0.0001</td>\n",
       "    </tr>\n",
       "    <tr>\n",
       "      <th>5</th>\n",
       "      <td>0.60</td>\n",
       "      <td>0.90</td>\n",
       "      <td>0.7379</td>\n",
       "      <td>0.0295</td>\n",
       "      <td>0.0006</td>\n",
       "      <td>0.0150</td>\n",
       "      <td>0.0001</td>\n",
       "      <td>0.0001</td>\n",
       "    </tr>\n",
       "    <tr>\n",
       "      <th>6</th>\n",
       "      <td>0.75</td>\n",
       "      <td>1.05</td>\n",
       "      <td>0.8907</td>\n",
       "      <td>0.0337</td>\n",
       "      <td>0.0003</td>\n",
       "      <td>0.0156</td>\n",
       "      <td>0.0001</td>\n",
       "      <td>0.0001</td>\n",
       "    </tr>\n",
       "    <tr>\n",
       "      <th>7</th>\n",
       "      <td>0.90</td>\n",
       "      <td>1.20</td>\n",
       "      <td>1.0301</td>\n",
       "      <td>0.0524</td>\n",
       "      <td>0.0009</td>\n",
       "      <td>0.0163</td>\n",
       "      <td>0.0001</td>\n",
       "      <td>0.0001</td>\n",
       "    </tr>\n",
       "    <tr>\n",
       "      <th>8</th>\n",
       "      <td>1.05</td>\n",
       "      <td>1.35</td>\n",
       "      <td>1.1959</td>\n",
       "      <td>0.0811</td>\n",
       "      <td>0.0010</td>\n",
       "      <td>0.0222</td>\n",
       "      <td>0.0002</td>\n",
       "      <td>0.0002</td>\n",
       "    </tr>\n",
       "  </tbody>\n",
       "</table>\n",
       "</div>"
      ],
      "text/plain": [
       "   zbin1  zbin2   meanz    fout  CORIQRb  CORIQRs  err_CORIQRb  err_CORIQRs\n",
       "1   0.00   0.30  0.2177  0.2054   0.0066   0.0238       0.0002       0.0005\n",
       "2   0.15   0.45  0.3219  0.1843   0.0066   0.0258       0.0002       0.0003\n",
       "3   0.30   0.60  0.4678  0.1317   0.0017   0.0220       0.0001       0.0002\n",
       "4   0.45   0.75  0.5952  0.0718   0.0003   0.0158       0.0001       0.0001\n",
       "5   0.60   0.90  0.7379  0.0295   0.0006   0.0150       0.0001       0.0001\n",
       "6   0.75   1.05  0.8907  0.0337   0.0003   0.0156       0.0001       0.0001\n",
       "7   0.90   1.20  1.0301  0.0524   0.0009   0.0163       0.0001       0.0001\n",
       "8   1.05   1.35  1.1959  0.0811   0.0010   0.0222       0.0002       0.0002"
      ]
     },
     "execution_count": 31,
     "metadata": {},
     "output_type": "execute_result"
    }
   ],
   "source": [
    "b"
   ]
  },
  {
   "cell_type": "code",
   "execution_count": 313,
   "metadata": {},
   "outputs": [
    {
     "data": {
      "text/plain": [
       "9.5"
      ]
     },
     "execution_count": 313,
     "metadata": {},
     "output_type": "execute_result"
    }
   ],
   "source": [
    "np.median(b.CORIQRb)/np.median(b.err_CORIQRb)"
   ]
  },
  {
   "cell_type": "code",
   "execution_count": 310,
   "metadata": {},
   "outputs": [
    {
     "data": {
      "text/plain": [
       "7.5"
      ]
     },
     "execution_count": 310,
     "metadata": {},
     "output_type": "execute_result"
    }
   ],
   "source": [
    "np.median(b.CORIQRb/b.err_CORIQRb)"
   ]
  },
  {
   "cell_type": "code",
   "execution_count": 333,
   "metadata": {
    "scrolled": true
   },
   "outputs": [
    {
     "name": "stdout",
     "output_type": "stream",
     "text": [
      "8.0\n"
     ]
    }
   ],
   "source": [
    "yy = np.median(b.CORIQRb/b.err_CORIQRb)\n",
    "print(round(yy))"
   ]
  },
  {
   "cell_type": "code",
   "execution_count": 338,
   "metadata": {},
   "outputs": [
    {
     "name": "stdout",
     "output_type": "stream",
     "text": [
      "/Users/am/Programs/Fisher/github\r\n"
     ]
    }
   ],
   "source": [
    "!pwd"
   ]
  },
  {
   "cell_type": "code",
   "execution_count": 337,
   "metadata": {},
   "outputs": [
    {
     "data": {
      "image/png": "[encoded data removed]",
      "text/plain": [
       "<Figure size 432x288 with 1 Axes>"
      ]
     },
     "metadata": {
      "needs_background": "light"
     },
     "output_type": "display_data"
    }
   ],
   "source": [
    "plt.plot(b.meanz,(b.CORIQRb/b.err_CORIQRb),'o',c='r')\n",
    "plt.axhline(np.median(b.CORIQRb/b.err_CORIQRb),linestyle='--',c='lime',label=r'$median\\left(\\frac{Bias}{\\sigma (Bias)}\\right) = %s$'%yy)\n",
    "plt.ylabel(r'$\\frac{Bias}{\\sigma (Bias)}$',size=20)\n",
    "plt.xlabel('z')\n",
    "plt.legend(prop={'size': 15})\n",
    "plt.tight_layout()\n",
    "#plt.savefig('Scale_factor.pdf',bbox_inches='tight')"
   ]
  },
  {
   "cell_type": "code",
   "execution_count": 33,
   "metadata": {},
   "outputs": [],
   "source": [
    "#b.to_csv('melissa.csv',sep = ' ',index=False)"
   ]
  },
  {
   "cell_type": "code",
   "execution_count": 32,
   "metadata": {},
   "outputs": [
    {
     "data": {
      "text/plain": [
       "Text(0, 0.5, 'Mean Redshift (z)')"
      ]
     },
     "execution_count": 32,
     "metadata": {},
     "output_type": "execute_result"
    },
    {
     "data": {
      "image/png": "[encoded data removed]",
      "text/plain": [
       "<Figure size 432x288 with 1 Axes>"
      ]
     },
     "metadata": {
      "needs_background": "light"
     },
     "output_type": "display_data"
    }
   ],
   "source": [
    "plt.plot(b.meanz, 'o')\n",
    "plt.xlabel('No. of Bins');plt.ylabel('Mean Redshift (z)')"
   ]
  },
  {
   "cell_type": "code",
   "execution_count": 17,
   "metadata": {},
   "outputs": [
    {
     "data": {
      "text/html": [
       "<div>\n",
       "<style scoped>\n",
       "    .dataframe tbody tr th:only-of-type {\n",
       "        vertical-align: middle;\n",
       "    }\n",
       "\n",
       "    .dataframe tbody tr th {\n",
       "        vertical-align: top;\n",
       "    }\n",
       "\n",
       "    .dataframe thead th {\n",
       "        text-align: right;\n",
       "    }\n",
       "</style>\n",
       "<table border=\"1\" class=\"dataframe\">\n",
       "  <thead>\n",
       "    <tr style=\"text-align: right;\">\n",
       "      <th></th>\n",
       "      <th>zbin1</th>\n",
       "      <th>zbin2</th>\n",
       "      <th>meanz</th>\n",
       "      <th>fout</th>\n",
       "      <th>CORIQRb</th>\n",
       "      <th>CORIQRs</th>\n",
       "      <th>err_CORIQRb</th>\n",
       "      <th>err_CORIQRs</th>\n",
       "    </tr>\n",
       "  </thead>\n",
       "  <tbody>\n",
       "    <tr>\n",
       "      <th>1</th>\n",
       "      <td>0.00</td>\n",
       "      <td>0.30</td>\n",
       "      <td>0.2177</td>\n",
       "      <td>0.2054</td>\n",
       "      <td>0.0066</td>\n",
       "      <td>0.0238</td>\n",
       "      <td>0.0002</td>\n",
       "      <td>0.0005</td>\n",
       "    </tr>\n",
       "    <tr>\n",
       "      <th>2</th>\n",
       "      <td>0.15</td>\n",
       "      <td>0.45</td>\n",
       "      <td>0.3219</td>\n",
       "      <td>0.1843</td>\n",
       "      <td>0.0066</td>\n",
       "      <td>0.0258</td>\n",
       "      <td>0.0002</td>\n",
       "      <td>0.0003</td>\n",
       "    </tr>\n",
       "    <tr>\n",
       "      <th>3</th>\n",
       "      <td>0.30</td>\n",
       "      <td>0.60</td>\n",
       "      <td>0.4678</td>\n",
       "      <td>0.1317</td>\n",
       "      <td>0.0017</td>\n",
       "      <td>0.0220</td>\n",
       "      <td>0.0001</td>\n",
       "      <td>0.0002</td>\n",
       "    </tr>\n",
       "  </tbody>\n",
       "</table>\n",
       "</div>"
      ],
      "text/plain": [
       "   zbin1  zbin2   meanz    fout  CORIQRb  CORIQRs  err_CORIQRb  err_CORIQRs\n",
       "1   0.00   0.30  0.2177  0.2054   0.0066   0.0238       0.0002       0.0005\n",
       "2   0.15   0.45  0.3219  0.1843   0.0066   0.0258       0.0002       0.0003\n",
       "3   0.30   0.60  0.4678  0.1317   0.0017   0.0220       0.0001       0.0002"
      ]
     },
     "execution_count": 17,
     "metadata": {},
     "output_type": "execute_result"
    }
   ],
   "source": [
    "a.head(3)"
   ]
  },
  {
   "cell_type": "code",
   "execution_count": 34,
   "metadata": {},
   "outputs": [
    {
     "data": {
      "text/plain": [
       "[<matplotlib.lines.Line2D at 0x11876ea90>]"
      ]
     },
     "execution_count": 34,
     "metadata": {},
     "output_type": "execute_result"
    },
    {
     "data": {
      "image/png": "[encoded data removed]",
      "text/plain": [
       "<Figure size 432x288 with 1 Axes>"
      ]
     },
     "metadata": {
      "needs_background": "light"
     },
     "output_type": "display_data"
    }
   ],
   "source": [
    "plt.plot(np.linspace(1,19,19), a.meanz )"
   ]
  },
  {
   "cell_type": "code",
   "execution_count": 41,
   "metadata": {},
   "outputs": [],
   "source": [
    "c = b.iloc[: , [2,4]]"
   ]
  },
  {
   "cell_type": "code",
   "execution_count": 42,
   "metadata": {},
   "outputs": [],
   "source": [
    "#c.to_csv('meliisa_reduced_bias.csv',sep = ' ')"
   ]
  },
  {
   "cell_type": "code",
   "execution_count": 43,
   "metadata": {},
   "outputs": [
    {
     "data": {
      "text/html": [
       "<div>\n",
       "<style scoped>\n",
       "    .dataframe tbody tr th:only-of-type {\n",
       "        vertical-align: middle;\n",
       "    }\n",
       "\n",
       "    .dataframe tbody tr th {\n",
       "        vertical-align: top;\n",
       "    }\n",
       "\n",
       "    .dataframe thead th {\n",
       "        text-align: right;\n",
       "    }\n",
       "</style>\n",
       "<table border=\"1\" class=\"dataframe\">\n",
       "  <thead>\n",
       "    <tr style=\"text-align: right;\">\n",
       "      <th></th>\n",
       "      <th>meanz</th>\n",
       "      <th>CORIQRb</th>\n",
       "    </tr>\n",
       "  </thead>\n",
       "  <tbody>\n",
       "    <tr>\n",
       "      <th>1</th>\n",
       "      <td>0.2177</td>\n",
       "      <td>0.0066</td>\n",
       "    </tr>\n",
       "    <tr>\n",
       "      <th>2</th>\n",
       "      <td>0.3219</td>\n",
       "      <td>0.0066</td>\n",
       "    </tr>\n",
       "    <tr>\n",
       "      <th>3</th>\n",
       "      <td>0.4678</td>\n",
       "      <td>0.0017</td>\n",
       "    </tr>\n",
       "    <tr>\n",
       "      <th>4</th>\n",
       "      <td>0.5952</td>\n",
       "      <td>0.0003</td>\n",
       "    </tr>\n",
       "    <tr>\n",
       "      <th>5</th>\n",
       "      <td>0.7379</td>\n",
       "      <td>0.0006</td>\n",
       "    </tr>\n",
       "    <tr>\n",
       "      <th>6</th>\n",
       "      <td>0.8907</td>\n",
       "      <td>0.0003</td>\n",
       "    </tr>\n",
       "    <tr>\n",
       "      <th>7</th>\n",
       "      <td>1.0301</td>\n",
       "      <td>0.0009</td>\n",
       "    </tr>\n",
       "    <tr>\n",
       "      <th>8</th>\n",
       "      <td>1.1959</td>\n",
       "      <td>0.0010</td>\n",
       "    </tr>\n",
       "  </tbody>\n",
       "</table>\n",
       "</div>"
      ],
      "text/plain": [
       "    meanz  CORIQRb\n",
       "1  0.2177   0.0066\n",
       "2  0.3219   0.0066\n",
       "3  0.4678   0.0017\n",
       "4  0.5952   0.0003\n",
       "5  0.7379   0.0006\n",
       "6  0.8907   0.0003\n",
       "7  1.0301   0.0009\n",
       "8  1.1959   0.0010"
      ]
     },
     "execution_count": 43,
     "metadata": {},
     "output_type": "execute_result"
    }
   ],
   "source": [
    "c"
   ]
  },
  {
   "cell_type": "code",
   "execution_count": 46,
   "metadata": {},
   "outputs": [
    {
     "data": {
      "text/plain": [
       "[<matplotlib.lines.Line2D at 0x11895cf90>]"
      ]
     },
     "execution_count": 46,
     "metadata": {},
     "output_type": "execute_result"
    },
    {
     "data": {
      "image/png": "[encoded data removed]",
      "text/plain": [
       "<Figure size 432x288 with 1 Axes>"
      ]
     },
     "metadata": {
      "needs_background": "light"
     },
     "output_type": "display_data"
    }
   ],
   "source": [
    "plt.plot(c.meanz, c.CORIQRb, '*')"
   ]
  },
  {
   "cell_type": "code",
   "execution_count": 89,
   "metadata": {},
   "outputs": [
    {
     "data": {
      "text/plain": [
       "[<matplotlib.lines.Line2D at 0x126de9550>]"
      ]
     },
     "execution_count": 89,
     "metadata": {},
     "output_type": "execute_result"
    },
    {
     "data": {
      "image/png": "[encoded data removed]",
      "text/plain": [
       "<Figure size 432x288 with 1 Axes>"
      ]
     },
     "metadata": {
      "needs_background": "light"
     },
     "output_type": "display_data"
    }
   ],
   "source": [
    "plt.plot(b.meanz, b.fout, '*')"
   ]
  },
  {
   "cell_type": "code",
   "execution_count": 47,
   "metadata": {},
   "outputs": [],
   "source": [
    "from scipy.interpolate import interp1d"
   ]
  },
  {
   "cell_type": "code",
   "execution_count": 345,
   "metadata": {},
   "outputs": [
    {
     "data": {
      "image/png": "[encoded data removed]",
      "text/plain": [
       "<Figure size 432x288 with 1 Axes>"
      ]
     },
     "metadata": {
      "needs_background": "light"
     },
     "output_type": "display_data"
    }
   ],
   "source": [
    "f2 = interp1d(c.meanz, c.CORIQRb, kind='nearest',fill_value=\"extrapolate\") # nearest\n",
    "#f2 = interp1d(b.meanz, b.err_CORIQRb, kind='nearest',fill_value=\"extrapolate\") # cubic\n",
    "f3 = interp1d(b.meanz, b.err_CORIQRb, kind='nearest',fill_value=\"extrapolate\") # cubic\n",
    "#f2 = interp1d(b.meanz, b.fout, kind='cubic',fill_value=\"extrapolate\") # cubic\n",
    "\n",
    "xnew = np.linspace(0.05,1.15,12, endpoint=True)\n",
    "#np.linspace(0.05,1.15,12)\n",
    "\n",
    "plt.plot(xnew,f2(xnew),'o', label = 'interpolated')\n",
    "plt.plot(c.meanz, c.CORIQRb, '*', label = 'Original')\n",
    "#plt.plot(b.meanz, b.err_CORIQRb, '*', label = 'Original')\n",
    "#plt.plot(b.meanz, b.fout, '*', label = 'Original')\n",
    "plt.xlabel('z')\n",
    "plt.ylabel('Robust bias(error) \"CORIQRb\" ' )\n",
    "plt.ylabel('Fraction of Outlier')\n",
    "plt.legend()\n",
    "plt.tight_layout()\n",
    "#plt.savefig('Outlier_f.pdf',bbox_inches='tight')"
   ]
  },
  {
   "cell_type": "code",
   "execution_count": 61,
   "metadata": {},
   "outputs": [
    {
     "data": {
      "text/plain": [
       "array([0.05, 0.15, 0.25, 0.35, 0.45, 0.55, 0.65, 0.75, 0.85, 0.95, 1.05,\n",
       "       1.15])"
      ]
     },
     "execution_count": 61,
     "metadata": {},
     "output_type": "execute_result"
    }
   ],
   "source": [
    "xnew"
   ]
  },
  {
   "cell_type": "code",
   "execution_count": 95,
   "metadata": {},
   "outputs": [
    {
     "data": {
      "text/plain": [
       "array([0.20912123, 0.21147878, 0.20036467, 0.17622811, 0.13951835,\n",
       "       0.09257723, 0.05048396, 0.02818498, 0.02944854, 0.04100926,\n",
       "       0.05548971, 0.07250039])"
      ]
     },
     "execution_count": 95,
     "metadata": {},
     "output_type": "execute_result"
    }
   ],
   "source": [
    "f2(xnew)"
   ]
  },
  {
   "cell_type": "code",
   "execution_count": 346,
   "metadata": {},
   "outputs": [
    {
     "data": {
      "text/plain": [
       "array([0.0002, 0.0002, 0.0002, 0.0002, 0.0001, 0.0001, 0.0001, 0.0001,\n",
       "       0.0001, 0.0001, 0.0001, 0.0002])"
      ]
     },
     "execution_count": 346,
     "metadata": {},
     "output_type": "execute_result"
    }
   ],
   "source": [
    "f3(xnew)"
   ]
  },
  {
   "cell_type": "code",
   "execution_count": 350,
   "metadata": {},
   "outputs": [],
   "source": [
    "y4 = np.median(f2(xnew)/f3(xnew))"
   ]
  },
  {
   "cell_type": "code",
   "execution_count": 352,
   "metadata": {},
   "outputs": [
    {
     "data": {
      "text/plain": [
       "array([0.05, 0.15, 0.25, 0.35, 0.45, 0.55, 0.65, 0.75, 0.85, 0.95, 1.05,\n",
       "       1.15])"
      ]
     },
     "execution_count": 352,
     "metadata": {},
     "output_type": "execute_result"
    }
   ],
   "source": [
    "xnew"
   ]
  },
  {
   "cell_type": "code",
   "execution_count": 351,
   "metadata": {},
   "outputs": [
    {
     "data": {
      "image/png": "[encoded data removed]",
      "text/plain": [
       "<Figure size 432x288 with 1 Axes>"
      ]
     },
     "metadata": {
      "needs_background": "light"
     },
     "output_type": "display_data"
    }
   ],
   "source": [
    "plt.plot(xnew,f2(xnew)/f3(xnew),'o',c='r')\n",
    "plt.axhline(np.median(f2(xnew)/f3(xnew)),linestyle='--',c='lime',label=r'$median\\left(\\frac{Bias}{\\sigma (Bias)}\\right) = %s$'%y4)\n",
    "plt.ylabel(r'$\\frac{Bias}{\\sigma (Bias)}$',size=20)\n",
    "plt.xlabel('z')\n",
    "plt.legend(prop={'size': 15})\n",
    "plt.tight_layout()\n",
    "#plt.savefig('Scale_factorII.pdf',bbox_inches='tight')"
   ]
  },
  {
   "cell_type": "code",
   "execution_count": 96,
   "metadata": {},
   "outputs": [],
   "source": [
    "inter = np.array(list(zip(xnew,f2(xnew))))"
   ]
  },
  {
   "cell_type": "code",
   "execution_count": 97,
   "metadata": {},
   "outputs": [],
   "source": [
    "d = pd.DataFrame(inter, columns=['z','bias'])"
   ]
  },
  {
   "cell_type": "code",
   "execution_count": 98,
   "metadata": {},
   "outputs": [],
   "source": [
    "#d.to_csv('interpolated_error.csv',sep = ' ',index = False)\n",
    "#d.to_csv('interpolated_fout.csv',sep = ' ',index = False)"
   ]
  },
  {
   "cell_type": "code",
   "execution_count": 176,
   "metadata": {},
   "outputs": [
    {
     "data": {
      "text/html": [
       "<div>\n",
       "<style scoped>\n",
       "    .dataframe tbody tr th:only-of-type {\n",
       "        vertical-align: middle;\n",
       "    }\n",
       "\n",
       "    .dataframe tbody tr th {\n",
       "        vertical-align: top;\n",
       "    }\n",
       "\n",
       "    .dataframe thead th {\n",
       "        text-align: right;\n",
       "    }\n",
       "</style>\n",
       "<table border=\"1\" class=\"dataframe\">\n",
       "  <thead>\n",
       "    <tr style=\"text-align: right;\">\n",
       "      <th></th>\n",
       "      <th>z</th>\n",
       "      <th>bias</th>\n",
       "    </tr>\n",
       "  </thead>\n",
       "  <tbody>\n",
       "    <tr>\n",
       "      <th>0</th>\n",
       "      <td>0.05</td>\n",
       "      <td>0.209121</td>\n",
       "    </tr>\n",
       "    <tr>\n",
       "      <th>1</th>\n",
       "      <td>0.15</td>\n",
       "      <td>0.211479</td>\n",
       "    </tr>\n",
       "    <tr>\n",
       "      <th>2</th>\n",
       "      <td>0.25</td>\n",
       "      <td>0.200365</td>\n",
       "    </tr>\n",
       "    <tr>\n",
       "      <th>3</th>\n",
       "      <td>0.35</td>\n",
       "      <td>0.176228</td>\n",
       "    </tr>\n",
       "    <tr>\n",
       "      <th>4</th>\n",
       "      <td>0.45</td>\n",
       "      <td>0.139518</td>\n",
       "    </tr>\n",
       "    <tr>\n",
       "      <th>5</th>\n",
       "      <td>0.55</td>\n",
       "      <td>0.092577</td>\n",
       "    </tr>\n",
       "    <tr>\n",
       "      <th>6</th>\n",
       "      <td>0.65</td>\n",
       "      <td>0.050484</td>\n",
       "    </tr>\n",
       "    <tr>\n",
       "      <th>7</th>\n",
       "      <td>0.75</td>\n",
       "      <td>0.028185</td>\n",
       "    </tr>\n",
       "    <tr>\n",
       "      <th>8</th>\n",
       "      <td>0.85</td>\n",
       "      <td>0.029449</td>\n",
       "    </tr>\n",
       "    <tr>\n",
       "      <th>9</th>\n",
       "      <td>0.95</td>\n",
       "      <td>0.041009</td>\n",
       "    </tr>\n",
       "    <tr>\n",
       "      <th>10</th>\n",
       "      <td>1.05</td>\n",
       "      <td>0.055490</td>\n",
       "    </tr>\n",
       "    <tr>\n",
       "      <th>11</th>\n",
       "      <td>1.15</td>\n",
       "      <td>0.072500</td>\n",
       "    </tr>\n",
       "  </tbody>\n",
       "</table>\n",
       "</div>"
      ],
      "text/plain": [
       "       z      bias\n",
       "0   0.05  0.209121\n",
       "1   0.15  0.211479\n",
       "2   0.25  0.200365\n",
       "3   0.35  0.176228\n",
       "4   0.45  0.139518\n",
       "5   0.55  0.092577\n",
       "6   0.65  0.050484\n",
       "7   0.75  0.028185\n",
       "8   0.85  0.029449\n",
       "9   0.95  0.041009\n",
       "10  1.05  0.055490\n",
       "11  1.15  0.072500"
      ]
     },
     "execution_count": 176,
     "metadata": {},
     "output_type": "execute_result"
    }
   ],
   "source": [
    "d"
   ]
  },
  {
   "cell_type": "markdown",
   "metadata": {},
   "source": [
    "### Estimating the z' for outliers from the figure 5a, by estimting a median for each z slice"
   ]
  },
  {
   "cell_type": "code",
   "execution_count": null,
   "metadata": {},
   "outputs": [],
   "source": [
    "from random import randint,  uniform"
   ]
  },
  {
   "cell_type": "code",
   "execution_count": 168,
   "metadata": {},
   "outputs": [
    {
     "name": "stdout",
     "output_type": "stream",
     "text": [
      "Median z for  z[0.05-0.15] =  2.3261989393677087\n",
      "Median z for  z[0.15-0.25] =  0.6315262491486663\n",
      "Median z for  z[0.25-0.35] =  0.5943978007210633\n",
      "Median z for  z[0.35-0.45] =  0.5220605736215939\n",
      "Median z for  z[0.45-0.55] =  0.661142910528888\n",
      "Median z for  z[0545-0.65] =  0.6899686369245691\n",
      "Median z for  z[0.65-0.75] =  0.7431625684235628\n",
      "Median z for  z[0.75-0.85] =  0.8253339770308706\n",
      "Median z for  z[0.85-0.95] =  1.1669048749497501\n",
      "Median z for  z[0.95-1.05] =  1.379700650878486\n",
      "Median z for  z[1.05-1.15] =  1.5603061948677124\n"
     ]
    }
   ],
   "source": [
    "x00 = 2.51\n",
    "# 0.15\n",
    "# For bin z = [0.05-0.15]\n",
    "# roughly 15% points on the left side and ~ 75% on right side\n",
    "x_left = [uniform(0.25, 0.65) for p in range(0, 15)]\n",
    "x_right = [uniform(2.0, 3.0) for p in range(0, 70)]\n",
    "x = np.concatenate([x_left,x_right])\n",
    "#print(np.shape(x))\n",
    "x1 = np.median(x)\n",
    "print('Median z for  z[0.05-0.15] = ',x1)\n",
    "\n",
    "# 0.25\n",
    "# For bin z = [0.15-0.25]\n",
    "\n",
    "x_left = [uniform(0.25, 0.65) for p in range(0, 115)]\n",
    "x_right = [uniform(2.1, 3.0) for p in range(0, 100)]\n",
    "x = np.concatenate([x_left,x_right])\n",
    "#print(np.shape(x))\n",
    "x2 = np.median(x)\n",
    "print('Median z for  z[0.15-0.25] = ',x2)\n",
    "\n",
    "# 0.35\n",
    "# For bin z = [0.25-0.35]\n",
    "\n",
    "x_left = [uniform(0.33, 0.6) for p in range(0, 115)]\n",
    "x_right = [uniform(2.3, 3.0) for p in range(0, 100)]\n",
    "x = np.concatenate([x_left,x_right])\n",
    "#print(np.shape(x))\n",
    "x3 = np.median(x)\n",
    "print('Median z for  z[0.25-0.35] = ',x3)\n",
    "\n",
    "# 0.45\n",
    "# For bin z = [0.35-0.45]\n",
    "\n",
    "x_left = [uniform(0.3, 0.65) for p in range(0, 500)]\n",
    "x_right = [uniform(2.3, 3.0) for p in range(0, 100)]\n",
    "x = np.concatenate([x_left,x_right])\n",
    "#print(np.shape(x))\n",
    "x4 = np.median(x)\n",
    "print('Median z for  z[0.35-0.45] = ',x4)\n",
    "\n",
    "# 0.55\n",
    "# For bin z = [0.45-0.55]\n",
    "\n",
    "x_left = [uniform(0.3, 0.98) for p in range(0, 1000)]\n",
    "x_right = [uniform(2.25, 2.98) for p in range(0, 70)]\n",
    "x = np.concatenate([x_left,x_right])\n",
    "#print(np.shape(x))\n",
    "x5 = np.median(x)\n",
    "print('Median z for  z[0.45-0.55] = ',x5)\n",
    "\n",
    "# 0.65\n",
    "# For bin z = [0.55-0.65]\n",
    "x_left = [uniform(0.4, 0.95) for p in range(0, 1000)]\n",
    "x_right = [uniform(1.6, 2.99) for p in range(0, 30)]\n",
    "x = np.concatenate([x_left,x_right])\n",
    "#print(np.shape(x))\n",
    "x6 = np.median(x)\n",
    "print('Median z for  z[0545-0.65] = ',x6)\n",
    "\n",
    "# 0.75\n",
    "# For bin z = [0.65-0.75]\n",
    "x_left = [uniform(0.5, 0.97) for p in range(0, 1000)]\n",
    "x_right = [uniform(2.0, 2.99) for p in range(0, 30)]\n",
    "x = np.concatenate([x_left,x_right])\n",
    "#print(np.shape(x))\n",
    "x7 = np.median(x)\n",
    "print('Median z for  z[0.65-0.75] = ',x7)\n",
    "\n",
    "# 0.85\n",
    "# For bin z = [0.75-0.85]\n",
    "\n",
    "x_left = [uniform(0.3, 1.3) for p in range(0, 1000)]\n",
    "x_right = [uniform(1.3, 2.99) for p in range(0, 30)]\n",
    "x = np.concatenate([x_left,x_right])\n",
    "#print(np.shape(x))\n",
    "x8 = np.median(x)\n",
    "print('Median z for  z[0.75-0.85] = ',x8)\n",
    "\n",
    "# 0.95\n",
    "# For bin z = [0.85-0.95]\n",
    "\n",
    "x_left = [uniform(0.6, 1.7) for p in range(0, 800)]\n",
    "x_right = [uniform(1.7, 2.99) for p in range(0, 15)]\n",
    "x = np.concatenate([x_left,x_right])\n",
    "#print(np.shape(x))\n",
    "x9 = np.median(x)\n",
    "print('Median z for  z[0.85-0.95] = ',x9)\n",
    "\n",
    "# 1.05\n",
    "# For bin z = [0.95-1.05]\n",
    "\n",
    "x_left = [uniform(0.75, 2.0) for p in range(0, 900)]\n",
    "x_right = [uniform(2.0, 2.5) for p in range(0, 5)]\n",
    "x = np.concatenate([x_left,x_right])\n",
    "#print(np.shape(x))\n",
    "x10 = np.median(x)\n",
    "print('Median z for  z[0.95-1.05] = ',x10)\n",
    "\n",
    "# 1.15\n",
    "# For bin z = [1.05-1.15]\n",
    "\n",
    "x_left = [uniform(0.9, 2.25) for p in range(0, 900)]\n",
    "x_right = [uniform(2.25, 2.35) for p in range(0, 2)]\n",
    "x = np.concatenate([x_left,x_right])\n",
    "#print(np.shape(x))\n",
    "x11 = np.median(x)\n",
    "print('Median z for  z[1.05-1.15] = ',x11)"
   ]
  },
  {
   "cell_type": "code",
   "execution_count": 169,
   "metadata": {},
   "outputs": [],
   "source": [
    "x_t = [x00,x1,x2,x3,x4,x5,x6,x7,x8,x9,x10,x11]"
   ]
  },
  {
   "cell_type": "code",
   "execution_count": 170,
   "metadata": {},
   "outputs": [
    {
     "data": {
      "text/plain": [
       "[2.51,\n",
       " 2.3261989393677087,\n",
       " 0.6315262491486663,\n",
       " 0.5943978007210633,\n",
       " 0.5220605736215939,\n",
       " 0.661142910528888,\n",
       " 0.6899686369245691,\n",
       " 0.7431625684235628,\n",
       " 0.8253339770308706,\n",
       " 1.1669048749497501,\n",
       " 1.379700650878486,\n",
       " 1.5603061948677124]"
      ]
     },
     "execution_count": 170,
     "metadata": {},
     "output_type": "execute_result"
    }
   ],
   "source": [
    "x_t"
   ]
  },
  {
   "cell_type": "code",
   "execution_count": 174,
   "metadata": {},
   "outputs": [
    {
     "data": {
      "text/plain": [
       "[<matplotlib.lines.Line2D at 0x1277cb110>]"
      ]
     },
     "execution_count": 174,
     "metadata": {},
     "output_type": "execute_result"
    },
    {
     "data": {
      "image/png": "[encoded data removed]",
      "text/plain": [
       "<Figure size 432x288 with 1 Axes>"
      ]
     },
     "metadata": {
      "needs_background": "light"
     },
     "output_type": "display_data"
    }
   ],
   "source": [
    "plt.plot(np.linspace(1,12,12),x_t,'o')\n",
    "plt.plot(np.linspace(1,12,12),np.linspace(0.05,1.15,12),'x')"
   ]
  },
  {
   "cell_type": "code",
   "execution_count": 186,
   "metadata": {},
   "outputs": [],
   "source": [
    "catash = np.array(list(zip(np.linspace(0.05,1.15,12),x_t,d.bias)))"
   ]
  },
  {
   "cell_type": "code",
   "execution_count": 189,
   "metadata": {},
   "outputs": [
    {
     "data": {
      "text/html": [
       "<div>\n",
       "<style scoped>\n",
       "    .dataframe tbody tr th:only-of-type {\n",
       "        vertical-align: middle;\n",
       "    }\n",
       "\n",
       "    .dataframe tbody tr th {\n",
       "        vertical-align: top;\n",
       "    }\n",
       "\n",
       "    .dataframe thead th {\n",
       "        text-align: right;\n",
       "    }\n",
       "</style>\n",
       "<table border=\"1\" class=\"dataframe\">\n",
       "  <thead>\n",
       "    <tr style=\"text-align: right;\">\n",
       "      <th></th>\n",
       "      <th>z_true</th>\n",
       "      <th>z_photo</th>\n",
       "      <th>F</th>\n",
       "    </tr>\n",
       "  </thead>\n",
       "  <tbody>\n",
       "    <tr>\n",
       "      <th>0</th>\n",
       "      <td>0.05</td>\n",
       "      <td>2.510000</td>\n",
       "      <td>0.209121</td>\n",
       "    </tr>\n",
       "    <tr>\n",
       "      <th>1</th>\n",
       "      <td>0.15</td>\n",
       "      <td>2.326199</td>\n",
       "      <td>0.211479</td>\n",
       "    </tr>\n",
       "    <tr>\n",
       "      <th>2</th>\n",
       "      <td>0.25</td>\n",
       "      <td>0.631526</td>\n",
       "      <td>0.200365</td>\n",
       "    </tr>\n",
       "    <tr>\n",
       "      <th>3</th>\n",
       "      <td>0.35</td>\n",
       "      <td>0.594398</td>\n",
       "      <td>0.176228</td>\n",
       "    </tr>\n",
       "    <tr>\n",
       "      <th>4</th>\n",
       "      <td>0.45</td>\n",
       "      <td>0.522061</td>\n",
       "      <td>0.139518</td>\n",
       "    </tr>\n",
       "    <tr>\n",
       "      <th>5</th>\n",
       "      <td>0.55</td>\n",
       "      <td>0.661143</td>\n",
       "      <td>0.092577</td>\n",
       "    </tr>\n",
       "    <tr>\n",
       "      <th>6</th>\n",
       "      <td>0.65</td>\n",
       "      <td>0.689969</td>\n",
       "      <td>0.050484</td>\n",
       "    </tr>\n",
       "    <tr>\n",
       "      <th>7</th>\n",
       "      <td>0.75</td>\n",
       "      <td>0.743163</td>\n",
       "      <td>0.028185</td>\n",
       "    </tr>\n",
       "    <tr>\n",
       "      <th>8</th>\n",
       "      <td>0.85</td>\n",
       "      <td>0.825334</td>\n",
       "      <td>0.029449</td>\n",
       "    </tr>\n",
       "    <tr>\n",
       "      <th>9</th>\n",
       "      <td>0.95</td>\n",
       "      <td>1.166905</td>\n",
       "      <td>0.041009</td>\n",
       "    </tr>\n",
       "    <tr>\n",
       "      <th>10</th>\n",
       "      <td>1.05</td>\n",
       "      <td>1.379701</td>\n",
       "      <td>0.055490</td>\n",
       "    </tr>\n",
       "    <tr>\n",
       "      <th>11</th>\n",
       "      <td>1.15</td>\n",
       "      <td>1.560306</td>\n",
       "      <td>0.072500</td>\n",
       "    </tr>\n",
       "  </tbody>\n",
       "</table>\n",
       "</div>"
      ],
      "text/plain": [
       "    z_true   z_photo         F\n",
       "0     0.05  2.510000  0.209121\n",
       "1     0.15  2.326199  0.211479\n",
       "2     0.25  0.631526  0.200365\n",
       "3     0.35  0.594398  0.176228\n",
       "4     0.45  0.522061  0.139518\n",
       "5     0.55  0.661143  0.092577\n",
       "6     0.65  0.689969  0.050484\n",
       "7     0.75  0.743163  0.028185\n",
       "8     0.85  0.825334  0.029449\n",
       "9     0.95  1.166905  0.041009\n",
       "10    1.05  1.379701  0.055490\n",
       "11    1.15  1.560306  0.072500"
      ]
     },
     "execution_count": 189,
     "metadata": {},
     "output_type": "execute_result"
    }
   ],
   "source": [
    "catash"
   ]
  },
  {
   "cell_type": "code",
   "execution_count": 282,
   "metadata": {},
   "outputs": [
    {
     "data": {
      "image/jpeg": "[encoded data removed]",
      "text/plain": [
       "<IPython.core.display.Image object>"
      ]
     },
     "execution_count": 282,
     "metadata": {},
     "output_type": "execute_result"
    }
   ],
   "source": [
    "from IPython.display import Image\n",
    "from IPython.core.display import HTML \n",
    "Image(\"Catastrophic/superposed2.jpg\")"
   ]
  },
  {
   "cell_type": "code",
   "execution_count": 303,
   "metadata": {},
   "outputs": [],
   "source": [
    "catash.z_photo[0] = 0.09 # bin 0.05 [0 - 0.1] ??? What to do here\n",
    "catash.z_photo[1] = 0.40 # 0.15\n",
    "catash.z_photo[2] = 0.45 # 0.25\n",
    "catash.z_photo[3] = 0.48 # 0.35\n",
    "catash.z_photo[4] = 0.38 # 0.45\n",
    "catash.z_photo[5] = 0.50 # 0.55\n",
    "catash.z_photo[6] = 0.60 # 0.65\n",
    "catash.z_photo[7] = 0.65 # 0.75\n",
    "catash.z_photo[8] = 0.95 # 0.85\n",
    "catash.z_photo[9] = 1.10 # 0.95\n",
    "catash.z_photo[10]= 1.21 # 1.05, \n",
    "catash.z_photo[11]= 1.25 # 1.15"
   ]
  },
  {
   "cell_type": "code",
   "execution_count": 304,
   "metadata": {},
   "outputs": [
    {
     "data": {
      "text/plain": [
       "0     0.09\n",
       "1     0.40\n",
       "2     0.45\n",
       "3     0.48\n",
       "4     0.38\n",
       "5     0.50\n",
       "6     0.60\n",
       "7     0.65\n",
       "8     0.95\n",
       "9     1.10\n",
       "10    1.21\n",
       "11    1.25\n",
       "Name: z_photo, dtype: float64"
      ]
     },
     "execution_count": 304,
     "metadata": {},
     "output_type": "execute_result"
    }
   ],
   "source": [
    "catash.z_photo"
   ]
  },
  {
   "cell_type": "code",
   "execution_count": 305,
   "metadata": {},
   "outputs": [],
   "source": [
    "catash = pd.DataFrame(catash,columns=['z_true','z_photo','F'])\n",
    "catash.to_csv('Catastrophic/f2.csv',index = False)"
   ]
  },
  {
   "cell_type": "code",
   "execution_count": 188,
   "metadata": {},
   "outputs": [
    {
     "data": {
      "text/plain": [
       "[<matplotlib.lines.Line2D at 0x1283910d0>]"
      ]
     },
     "execution_count": 188,
     "metadata": {},
     "output_type": "execute_result"
    },
    {
     "data": {
      "image/png": "[encoded data removed]",
      "text/plain": [
       "<Figure size 432x288 with 1 Axes>"
      ]
     },
     "metadata": {
      "needs_background": "light"
     },
     "output_type": "display_data"
    }
   ],
   "source": [
    "plt.plot(catash.z_true,catash.z_photo)\n",
    "plt.plot(catash.z_true,catash.F)"
   ]
  },
  {
   "cell_type": "code",
   "execution_count": 306,
   "metadata": {},
   "outputs": [
    {
     "data": {
      "text/html": [
       "<div>\n",
       "<style scoped>\n",
       "    .dataframe tbody tr th:only-of-type {\n",
       "        vertical-align: middle;\n",
       "    }\n",
       "\n",
       "    .dataframe tbody tr th {\n",
       "        vertical-align: top;\n",
       "    }\n",
       "\n",
       "    .dataframe thead th {\n",
       "        text-align: right;\n",
       "    }\n",
       "</style>\n",
       "<table border=\"1\" class=\"dataframe\">\n",
       "  <thead>\n",
       "    <tr style=\"text-align: right;\">\n",
       "      <th></th>\n",
       "      <th>z_true</th>\n",
       "      <th>z_photo</th>\n",
       "      <th>F</th>\n",
       "    </tr>\n",
       "  </thead>\n",
       "  <tbody>\n",
       "    <tr>\n",
       "      <th>0</th>\n",
       "      <td>0.05</td>\n",
       "      <td>0.09</td>\n",
       "      <td>0.209121</td>\n",
       "    </tr>\n",
       "    <tr>\n",
       "      <th>1</th>\n",
       "      <td>0.15</td>\n",
       "      <td>0.40</td>\n",
       "      <td>0.211479</td>\n",
       "    </tr>\n",
       "    <tr>\n",
       "      <th>2</th>\n",
       "      <td>0.25</td>\n",
       "      <td>0.45</td>\n",
       "      <td>0.200365</td>\n",
       "    </tr>\n",
       "    <tr>\n",
       "      <th>3</th>\n",
       "      <td>0.35</td>\n",
       "      <td>0.48</td>\n",
       "      <td>0.176228</td>\n",
       "    </tr>\n",
       "    <tr>\n",
       "      <th>4</th>\n",
       "      <td>0.45</td>\n",
       "      <td>0.38</td>\n",
       "      <td>0.139518</td>\n",
       "    </tr>\n",
       "    <tr>\n",
       "      <th>5</th>\n",
       "      <td>0.55</td>\n",
       "      <td>0.50</td>\n",
       "      <td>0.092577</td>\n",
       "    </tr>\n",
       "    <tr>\n",
       "      <th>6</th>\n",
       "      <td>0.65</td>\n",
       "      <td>0.60</td>\n",
       "      <td>0.050484</td>\n",
       "    </tr>\n",
       "    <tr>\n",
       "      <th>7</th>\n",
       "      <td>0.75</td>\n",
       "      <td>0.65</td>\n",
       "      <td>0.028185</td>\n",
       "    </tr>\n",
       "    <tr>\n",
       "      <th>8</th>\n",
       "      <td>0.85</td>\n",
       "      <td>0.95</td>\n",
       "      <td>0.029449</td>\n",
       "    </tr>\n",
       "    <tr>\n",
       "      <th>9</th>\n",
       "      <td>0.95</td>\n",
       "      <td>1.10</td>\n",
       "      <td>0.041009</td>\n",
       "    </tr>\n",
       "    <tr>\n",
       "      <th>10</th>\n",
       "      <td>1.05</td>\n",
       "      <td>1.21</td>\n",
       "      <td>0.055490</td>\n",
       "    </tr>\n",
       "    <tr>\n",
       "      <th>11</th>\n",
       "      <td>1.15</td>\n",
       "      <td>1.25</td>\n",
       "      <td>0.072500</td>\n",
       "    </tr>\n",
       "  </tbody>\n",
       "</table>\n",
       "</div>"
      ],
      "text/plain": [
       "    z_true  z_photo         F\n",
       "0     0.05     0.09  0.209121\n",
       "1     0.15     0.40  0.211479\n",
       "2     0.25     0.45  0.200365\n",
       "3     0.35     0.48  0.176228\n",
       "4     0.45     0.38  0.139518\n",
       "5     0.55     0.50  0.092577\n",
       "6     0.65     0.60  0.050484\n",
       "7     0.75     0.65  0.028185\n",
       "8     0.85     0.95  0.029449\n",
       "9     0.95     1.10  0.041009\n",
       "10    1.05     1.21  0.055490\n",
       "11    1.15     1.25  0.072500"
      ]
     },
     "execution_count": 306,
     "metadata": {},
     "output_type": "execute_result"
    }
   ],
   "source": [
    "catash"
   ]
  },
  {
   "cell_type": "code",
   "execution_count": null,
   "metadata": {},
   "outputs": [],
   "source": []
  }
 ],
 "metadata": {
  "kernelspec": {
   "display_name": "Python 3",
   "language": "python",
   "name": "python3"
  },
  "language_info": {
   "codemirror_mode": {
    "name": "ipython",
    "version": 3
   },
   "file_extension": ".py",
   "mimetype": "text/x-python",
   "name": "python",
   "nbconvert_exporter": "python",
   "pygments_lexer": "ipython3",
   "version": "3.7.6"
  }
 },
 "nbformat": 4,
 "nbformat_minor": 2
}
