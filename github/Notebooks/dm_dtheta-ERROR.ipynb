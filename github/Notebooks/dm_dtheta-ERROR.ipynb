{
 "cells": [
  {
   "cell_type": "code",
   "execution_count": 81,
   "metadata": {
    "button": false,
    "new_sheet": false,
    "run_control": {
     "read_only": false
    }
   },
   "outputs": [],
   "source": [
    "import numpy as np\n",
    "from scipy.integrate import simps\n",
    "from scipy.integrate import quad\n",
    "import pandas as pd \n",
    "\n",
    "import numpy as np\n",
    "#import fisher_ayan_function as f\n",
    "#import dmdtheta_ayan_function as dm\n",
    "#import fisher_ayan_function_LSST as f\n",
    "#import fisher_ayan_function_LSST_CMBPrior as f\n",
    "import sys\n",
    "import matplotlib.pyplot as plt\n",
    "import math\n",
    "from matplotlib.patches import Ellipse\n",
    "import matplotlib as mpl\n",
    "import matplotlib.pyplot as plt\n",
    "#import Fisher_Ellipse_LSST_CMBPrior as F\n",
    "from matplotlib.ticker import (MultipleLocator, FormatStrFormatter,AutoMinorLocator)\n",
    "from copy import copy"
   ]
  },
  {
   "cell_type": "code",
   "execution_count": 82,
   "metadata": {},
   "outputs": [
    {
     "name": "stdout",
     "output_type": "stream",
     "text": [
      "/Volumes/HDD750GB/Programs/Fisher/github\r\n"
     ]
    }
   ],
   "source": [
    "! pwd"
   ]
  },
  {
   "cell_type": "code",
   "execution_count": 83,
   "metadata": {
    "button": false,
    "new_sheet": false,
    "run_control": {
     "read_only": false
    }
   },
   "outputs": [],
   "source": [
    "b = pd.read_csv('interpolated_error.csv',sep =' ' )\n",
    "#b = pd.read_csv('interpolated_error_new.csv',sep =' ' ) # V ++ "
   ]
  },
  {
   "cell_type": "code",
   "execution_count": 84,
   "metadata": {
    "button": false,
    "new_sheet": false,
    "run_control": {
     "read_only": false
    },
    "scrolled": false
   },
   "outputs": [
    {
     "data": {
      "text/html": [
       "<div>\n",
       "<style scoped>\n",
       "    .dataframe tbody tr th:only-of-type {\n",
       "        vertical-align: middle;\n",
       "    }\n",
       "\n",
       "    .dataframe tbody tr th {\n",
       "        vertical-align: top;\n",
       "    }\n",
       "\n",
       "    .dataframe thead th {\n",
       "        text-align: right;\n",
       "    }\n",
       "</style>\n",
       "<table border=\"1\" class=\"dataframe\">\n",
       "  <thead>\n",
       "    <tr style=\"text-align: right;\">\n",
       "      <th></th>\n",
       "      <th>z</th>\n",
       "      <th>bias</th>\n",
       "    </tr>\n",
       "  </thead>\n",
       "  <tbody>\n",
       "    <tr>\n",
       "      <th>0</th>\n",
       "      <td>0.05</td>\n",
       "      <td>0.0002</td>\n",
       "    </tr>\n",
       "    <tr>\n",
       "      <th>1</th>\n",
       "      <td>0.15</td>\n",
       "      <td>0.0002</td>\n",
       "    </tr>\n",
       "    <tr>\n",
       "      <th>2</th>\n",
       "      <td>0.25</td>\n",
       "      <td>0.0002</td>\n",
       "    </tr>\n",
       "    <tr>\n",
       "      <th>3</th>\n",
       "      <td>0.35</td>\n",
       "      <td>0.0002</td>\n",
       "    </tr>\n",
       "    <tr>\n",
       "      <th>4</th>\n",
       "      <td>0.45</td>\n",
       "      <td>0.0001</td>\n",
       "    </tr>\n",
       "    <tr>\n",
       "      <th>5</th>\n",
       "      <td>0.55</td>\n",
       "      <td>0.0001</td>\n",
       "    </tr>\n",
       "    <tr>\n",
       "      <th>6</th>\n",
       "      <td>0.65</td>\n",
       "      <td>0.0001</td>\n",
       "    </tr>\n",
       "    <tr>\n",
       "      <th>7</th>\n",
       "      <td>0.75</td>\n",
       "      <td>0.0001</td>\n",
       "    </tr>\n",
       "    <tr>\n",
       "      <th>8</th>\n",
       "      <td>0.85</td>\n",
       "      <td>0.0001</td>\n",
       "    </tr>\n",
       "    <tr>\n",
       "      <th>9</th>\n",
       "      <td>0.95</td>\n",
       "      <td>0.0001</td>\n",
       "    </tr>\n",
       "    <tr>\n",
       "      <th>10</th>\n",
       "      <td>1.05</td>\n",
       "      <td>0.0001</td>\n",
       "    </tr>\n",
       "    <tr>\n",
       "      <th>11</th>\n",
       "      <td>1.15</td>\n",
       "      <td>0.0002</td>\n",
       "    </tr>\n",
       "  </tbody>\n",
       "</table>\n",
       "</div>"
      ],
      "text/plain": [
       "       z    bias\n",
       "0   0.05  0.0002\n",
       "1   0.15  0.0002\n",
       "2   0.25  0.0002\n",
       "3   0.35  0.0002\n",
       "4   0.45  0.0001\n",
       "5   0.55  0.0001\n",
       "6   0.65  0.0001\n",
       "7   0.75  0.0001\n",
       "8   0.85  0.0001\n",
       "9   0.95  0.0001\n",
       "10  1.05  0.0001\n",
       "11  1.15  0.0002"
      ]
     },
     "execution_count": 84,
     "metadata": {},
     "output_type": "execute_result"
    }
   ],
   "source": [
    "b"
   ]
  },
  {
   "cell_type": "code",
   "execution_count": 104,
   "metadata": {
    "button": false,
    "new_sheet": false,
    "run_control": {
     "read_only": false
    }
   },
   "outputs": [
    {
     "data": {
      "text/plain": [
       "Text(0, 0.5, '$\\\\sigma$(Robust bias)')"
      ]
     },
     "execution_count": 104,
     "metadata": {},
     "output_type": "execute_result"
    },
    {
     "data": {
      "image/png": "[encoded data removed]",
      "text/plain": [
       "<Figure size 504x432 with 1 Axes>"
      ]
     },
     "metadata": {
      "needs_background": "light"
     },
     "output_type": "display_data"
    }
   ],
   "source": [
    "plt.rcParams['figure.figsize'] = [7,6] \n",
    "plt.plot(b.z,b.bias,'o')\n",
    "plt.xlabel('z')\n",
    "plt.ylabel(r'$\\sigma$(Robust bias)' )\n",
    "#plt.legend()"
   ]
  },
  {
   "cell_type": "code",
   "execution_count": 86,
   "metadata": {
    "button": false,
    "code_folding": [],
    "new_sheet": false,
    "run_control": {
     "read_only": false
    }
   },
   "outputs": [
    {
     "name": "stdout",
     "output_type": "stream",
     "text": [
      "w0, wa used :  -1 0\n"
     ]
    }
   ],
   "source": [
    "Om = 0.3  # Omega Matter\n",
    "Omatter = (1-Om)\n",
    "w0 = -1\n",
    "wa = 0\n",
    "#w0 = -1.2;wa = -0.9;\n",
    "#w0 = -0.8;wa = 0.9;\n",
    "#a = (1+z)**(-1)\n",
    "# 1\n",
    "print ('w0, wa used : ', w0, wa)\n",
    "# Not Required\n",
    "#---------------------------------\n",
    "\n",
    "def X(z):\n",
    "    a = (1+z)**(-1)\n",
    "    return Om*(a**-3)+((1-Om)*a**(-3)*(a**(-3*(w0+wa))*np.exp(3*wa*(a-1))))\n",
    "\n",
    "\n",
    "def dxdm(z, wa, w0):\n",
    "    a = (1+z)**(-1)\n",
    "    zt = (1+z)\n",
    "    w = (wa+w0)\n",
    "    X3 = np.exp(3*wa*(a-1))\n",
    "    X2 = zt**(3*w)\n",
    "    X1 = X2*X3\n",
    "    X4 = 1.-X1\n",
    "    X = Om*(a**-3)+((1-Om)*a**(-3)*(a**(-3*(w0+wa))*np.exp(3*wa*(a-1))))\n",
    "    A = (X**(-1.5))*X4*(zt**3)\n",
    "    #A  = [1-zt**(-3*w)*np.exp(-3*wa*z/zt)]*zt**3\n",
    "    return A\n",
    "\n",
    "# 2\n",
    "\n",
    "\n",
    "def dxdw0(z, wa, w0):\n",
    "    a = (1+z)**(-1)\n",
    "    zt = (1+z)\n",
    "    ztt = z/zt  # z/1+z\n",
    "    a_a = a**(3*wa)\n",
    "    a_0 = a**(3*w0)\n",
    "    e_a = np.exp(3*wa*(-ztt))\n",
    "    A3 = (a_a**-1)*(-3*np.log(a)/a_0)\n",
    "    A4 = e_a*A3\n",
    "    X = Om*(a**-3)+((1-Om)*a**(-3)*(a**(-3*(w0+wa))*np.exp(3*wa*(a-1))))\n",
    "    A = (X**(-1.5))*Omatter*zt**3*(A4)\n",
    "    return A\n",
    "\n",
    "\n",
    "# 3\n",
    "def dxdwa(z, wa, w0):\n",
    "    a = (1+z)**(-1)\n",
    "    a2 = a-1\n",
    "    zt = (1+z)\n",
    "    ztt = z/zt\n",
    "    a_a = a**(3*wa)\n",
    "    a_0 = a**(3*w0)\n",
    "    e_a = np.exp(3*wa*(-ztt))\n",
    "    A3 = e_a*(-3*np.log(a)/a_a)\n",
    "    A2 = 3*(a-1)*e_a/(a_a)\n",
    "    A4 = A2+A3\n",
    "    X = Om*(a**-3)+((1-Om)*a**(-3)*(a**(-3*(w0+wa))*np.exp(3*wa*(a-1))))\n",
    "    A = (X**(-1.5))*(Omatter)*(zt**3)*(a_0**-1)*(A4)\n",
    "    return A\n",
    "\n",
    "# dxdM = 1 \n",
    "\n",
    "# PRINTING CHECKS\n",
    "#print 'Redshift  dx/dm      dx/dwo      dx/dwa'\n",
    "#print '---------------------------------------'\n",
    "# for i in (np.linspace(0.05,1.65,17)):\n",
    "#          print(\"%.4f    %.4f    %.4f     %.4f \" %(i,dxdm(i,0,-1),dxdw0(i,0,-1),dxdwa(i,0,-1)) )\n",
    "# ************************************************************\n",
    "# ************************************************************\n",
    "\n",
    "\n",
    "# Integration Part : STARTS FROmatter BELOW\n",
    "\n",
    "def H_0D_L(z):  # THIS WILL BE THEN INTEGRATED IN LINE NO. 106\n",
    "    a = (1+z)**(-1)\n",
    "    sec = (1-Om)*(a**-3)*(a**(-3*(w0+wa))*np.exp(3*(wa*(a-1))))\n",
    "    fir = (Om*(a**-3))\n",
    "    return((fir+sec)**(-0.5))\n",
    "\n",
    "\n",
    "# ADDITIONAL FUNCTION DECLARATION\n",
    "def fu1(z):\n",
    "    return dxdm(z, wa, w0)\n",
    "\n",
    "\n",
    "def fu2(z):\n",
    "    return dxdw0(z, wa, w0)\n",
    "\n",
    "\n",
    "def fu3(z):\n",
    "    return dxdwa(z, wa, w0)"
   ]
  },
  {
   "cell_type": "code",
   "execution_count": 87,
   "metadata": {
    "button": false,
    "new_sheet": false,
    "run_control": {
     "read_only": false
    }
   },
   "outputs": [],
   "source": [
    "# Z BINS\n",
    "z = np.array(b.z)\n",
    "#z = np.linspace(0.15,1.15,12)\n",
    "\n",
    "# VARIABLE DECLARATION\n",
    "I_om = []\n",
    "I_wa = []\n",
    "I_wo = []\n",
    "hdl = []\n",
    "prefactor1 = []\n",
    "dx_domega = []\n",
    "dx_dwa = []\n",
    "dx_dw0 = []\n",
    "\n",
    "# INTEGRATIONS RUNNING FROM LIMIT [0,Z_BIN[i]]\n",
    "# THE fu FUNCTION CALLS THE OTHER FUNCTION : DX/DTHETA\n",
    "# QUAD IS A PYTHON INTEGRATION FUNCTION WITH 3 ARGUMENTS :\n",
    "# FUNCTION TO INTEGRATE, LOWER LIMIT, UPPER LIMIT\n",
    "\n",
    "for ii in range(len(z[:])):\n",
    "    I_om.append(quad(fu1, 0, z[ii])[0])\n",
    "    I_wo.append(quad(fu2, 0, z[ii])[0])\n",
    "    I_wa.append(quad(fu3, 0, z[ii])[0])\n",
    "    hdl.append((1+z[ii])*quad(H_0D_L, 0, z[ii])[0])  # H0_Dl INTEGRATION\n",
    "    # PREFACTOR WITHOUT THE H0_Dl TERM. THE 1* STANDS FOR 'c'\n",
    "    prefactor1.append((-5/np.log(10))*(1*(1+z[ii]))/2)\n",
    "\n",
    "\n",
    "# STORING THE VALUES IN ARRAYS\n",
    "for i in range(len(I_om)):\n",
    "    dx_domega.append((prefactor1[i]/hdl[i])*I_om[i])\n",
    "    dx_dw0.append((prefactor1[i]/hdl[i])*I_wo[i])\n",
    "    dx_dwa.append((prefactor1[i]/hdl[i])*I_wa[i])\n",
    "    dx_dM = np.ones(17)\n",
    "# WRITING TO A FILE\n",
    "DXDT = pd.DataFrame(zip(z, dx_domega, dx_dw0, dx_dwa, dx_dM))\n",
    "DXDT.columns = ['z', 'dmdom', 'dmdwo', 'dmdwa', 'dmdM']\n",
    "#DXDT.to_csv('Fisher_Table_LSST.csv', index=False)\n",
    "\n",
    "def func():\n",
    "    return DXDT"
   ]
  },
  {
   "cell_type": "code",
   "execution_count": 88,
   "metadata": {
    "button": false,
    "new_sheet": false,
    "run_control": {
     "read_only": false
    }
   },
   "outputs": [
    {
     "data": {
      "text/plain": [
       "array([0.05, 0.15, 0.25, 0.35, 0.45, 0.55, 0.65, 0.75, 0.85, 0.95, 1.05,\n",
       "       1.15])"
      ]
     },
     "execution_count": 88,
     "metadata": {},
     "output_type": "execute_result"
    }
   ],
   "source": [
    "z"
   ]
  },
  {
   "cell_type": "markdown",
   "metadata": {
    "button": false,
    "new_sheet": false,
    "run_control": {
     "read_only": false
    }
   },
   "source": [
    "# Fisher_function with CMB Prior for LSST"
   ]
  },
  {
   "cell_type": "code",
   "execution_count": 89,
   "metadata": {
    "button": false,
    "new_sheet": false,
    "run_control": {
     "read_only": false
    }
   },
   "outputs": [
    {
     "data": {
      "text/html": [
       "<div>\n",
       "<style scoped>\n",
       "    .dataframe tbody tr th:only-of-type {\n",
       "        vertical-align: middle;\n",
       "    }\n",
       "\n",
       "    .dataframe tbody tr th {\n",
       "        vertical-align: top;\n",
       "    }\n",
       "\n",
       "    .dataframe thead th {\n",
       "        text-align: right;\n",
       "    }\n",
       "</style>\n",
       "<table border=\"1\" class=\"dataframe\">\n",
       "  <thead>\n",
       "    <tr style=\"text-align: right;\">\n",
       "      <th></th>\n",
       "      <th>z</th>\n",
       "      <th>dmdom</th>\n",
       "      <th>dmdwo</th>\n",
       "      <th>dmdwa</th>\n",
       "      <th>dmdM</th>\n",
       "    </tr>\n",
       "  </thead>\n",
       "  <tbody>\n",
       "    <tr>\n",
       "      <th>0</th>\n",
       "      <td>0.05</td>\n",
       "      <td>-0.081321</td>\n",
       "      <td>-0.054186</td>\n",
       "      <td>-0.000869</td>\n",
       "      <td>1.0</td>\n",
       "    </tr>\n",
       "    <tr>\n",
       "      <th>1</th>\n",
       "      <td>0.15</td>\n",
       "      <td>-0.242046</td>\n",
       "      <td>-0.146750</td>\n",
       "      <td>-0.006559</td>\n",
       "      <td>1.0</td>\n",
       "    </tr>\n",
       "    <tr>\n",
       "      <th>2</th>\n",
       "      <td>0.25</td>\n",
       "      <td>-0.397791</td>\n",
       "      <td>-0.220662</td>\n",
       "      <td>-0.015324</td>\n",
       "      <td>1.0</td>\n",
       "    </tr>\n",
       "    <tr>\n",
       "      <th>3</th>\n",
       "      <td>0.35</td>\n",
       "      <td>-0.546340</td>\n",
       "      <td>-0.278789</td>\n",
       "      <td>-0.025348</td>\n",
       "      <td>1.0</td>\n",
       "    </tr>\n",
       "    <tr>\n",
       "      <th>4</th>\n",
       "      <td>0.45</td>\n",
       "      <td>-0.686247</td>\n",
       "      <td>-0.323817</td>\n",
       "      <td>-0.035502</td>\n",
       "      <td>1.0</td>\n",
       "    </tr>\n",
       "    <tr>\n",
       "      <th>5</th>\n",
       "      <td>0.55</td>\n",
       "      <td>-0.816734</td>\n",
       "      <td>-0.358155</td>\n",
       "      <td>-0.045128</td>\n",
       "      <td>1.0</td>\n",
       "    </tr>\n",
       "    <tr>\n",
       "      <th>6</th>\n",
       "      <td>0.65</td>\n",
       "      <td>-0.937555</td>\n",
       "      <td>-0.383891</td>\n",
       "      <td>-0.053883</td>\n",
       "      <td>1.0</td>\n",
       "    </tr>\n",
       "    <tr>\n",
       "      <th>7</th>\n",
       "      <td>0.75</td>\n",
       "      <td>-1.048852</td>\n",
       "      <td>-0.402782</td>\n",
       "      <td>-0.061624</td>\n",
       "      <td>1.0</td>\n",
       "    </tr>\n",
       "    <tr>\n",
       "      <th>8</th>\n",
       "      <td>0.85</td>\n",
       "      <td>-1.151025</td>\n",
       "      <td>-0.416276</td>\n",
       "      <td>-0.068332</td>\n",
       "      <td>1.0</td>\n",
       "    </tr>\n",
       "    <tr>\n",
       "      <th>9</th>\n",
       "      <td>0.95</td>\n",
       "      <td>-1.244629</td>\n",
       "      <td>-0.425548</td>\n",
       "      <td>-0.074056</td>\n",
       "      <td>1.0</td>\n",
       "    </tr>\n",
       "    <tr>\n",
       "      <th>10</th>\n",
       "      <td>1.05</td>\n",
       "      <td>-1.330300</td>\n",
       "      <td>-0.431535</td>\n",
       "      <td>-0.078882</td>\n",
       "      <td>1.0</td>\n",
       "    </tr>\n",
       "    <tr>\n",
       "      <th>11</th>\n",
       "      <td>1.15</td>\n",
       "      <td>-1.408703</td>\n",
       "      <td>-0.434985</td>\n",
       "      <td>-0.082907</td>\n",
       "      <td>1.0</td>\n",
       "    </tr>\n",
       "  </tbody>\n",
       "</table>\n",
       "</div>"
      ],
      "text/plain": [
       "       z     dmdom     dmdwo     dmdwa  dmdM\n",
       "0   0.05 -0.081321 -0.054186 -0.000869   1.0\n",
       "1   0.15 -0.242046 -0.146750 -0.006559   1.0\n",
       "2   0.25 -0.397791 -0.220662 -0.015324   1.0\n",
       "3   0.35 -0.546340 -0.278789 -0.025348   1.0\n",
       "4   0.45 -0.686247 -0.323817 -0.035502   1.0\n",
       "5   0.55 -0.816734 -0.358155 -0.045128   1.0\n",
       "6   0.65 -0.937555 -0.383891 -0.053883   1.0\n",
       "7   0.75 -1.048852 -0.402782 -0.061624   1.0\n",
       "8   0.85 -1.151025 -0.416276 -0.068332   1.0\n",
       "9   0.95 -1.244629 -0.425548 -0.074056   1.0\n",
       "10  1.05 -1.330300 -0.431535 -0.078882   1.0\n",
       "11  1.15 -1.408703 -0.434985 -0.082907   1.0"
      ]
     },
     "execution_count": 89,
     "metadata": {},
     "output_type": "execute_result"
    }
   ],
   "source": [
    "DXDT"
   ]
  },
  {
   "cell_type": "code",
   "execution_count": 90,
   "metadata": {
    "button": false,
    "new_sheet": false,
    "run_control": {
     "read_only": false
    }
   },
   "outputs": [],
   "source": [
    "np.set_printoptions(precision=4)\n",
    "# Produced by dmdtheta_ayan_function.py\n",
    "P = DXDT #pd.read_csv('Fisher_Table_LSST.csv')\n",
    "#P = pd.read_csv('Fisher_Table_LSST_old.csv')\n",
    "dmdom = np.array(P['dmdom'])\n",
    "dmdwo = np.array(P['dmdwo'])\n",
    "dmdwa = np.array(P['dmdwa'])\n",
    "dmdM = np.array(P['dmdM'])\n",
    "z = np.array(P['z'])\n",
    "dmdtheta = np.array(list(zip(dmdom, dmdwa, dmdwo, dmdM)))\n",
    "N_parms = np.shape(dmdtheta)[1]\n",
    "\n",
    "# ****LSST*****\n",
    "s = 300*np.ones(np.shape(b)[0]-2)\n",
    "s2 = np.array([150, 150])\n",
    "s2 = np.ndarray.tolist(s2)\n",
    "s = np.ndarray.tolist(s)\n",
    "N = np.array(s+s2)\n",
    "sigma_int_sq = 0.15*0.15\n",
    "sigma_sys_sq = (0.01*(1+z))*(0.01*(1+z))\n",
    "sigma_sq = sigma_int_sq/N + sigma_sys_sq\n",
    "# ****LSST*****\n",
    "\n",
    "F = np.zeros([N_parms, N_parms])\n",
    "# since its scalar product, so order of the terms doesn't matter\n",
    "dmdM_dmdM = (np.sum(np.multiply(np.multiply(dmdM, dmdM), (1/sigma_sq))))\n",
    "dmdom_dmdom = (np.sum(np.multiply(np.multiply(dmdom, dmdom), (1/sigma_sq))))\n",
    "dmdwa_dmdwa = (np.sum(np.multiply(np.multiply(dmdwa, dmdwa), (1/sigma_sq))))\n",
    "dmdwo_dmdwo = (np.sum(np.multiply(np.multiply(dmdwo, dmdwo), (1/sigma_sq))))\n",
    "dmdM_dmdom = (np.sum(np.multiply(np.multiply(dmdM, dmdom), (1/sigma_sq))))\n",
    "dmdM_dmdwo = (np.sum(np.multiply(np.multiply(dmdM, dmdwo), (1/sigma_sq))))\n",
    "dmdM_dmdwa = (np.sum(np.multiply(np.multiply(dmdM, dmdwa), (1/sigma_sq))))\n",
    "dmdom_dmdwa = (np.sum(np.multiply(np.multiply(dmdom, dmdwa), (1/sigma_sq))))\n",
    "dmdom_dmdwo = (np.sum(np.multiply(np.multiply(dmdom, dmdwo), (1/sigma_sq))))\n",
    "dmdwa_dmdwo = (np.sum(np.multiply(np.multiply(dmdwa, dmdwo), (1/sigma_sq))))\n",
    "\n",
    "F_I = np.array([dmdM_dmdM,  dmdM_dmdom,  dmdM_dmdwo,  dmdM_dmdwa, \n",
    "                dmdM_dmdom, dmdom_dmdom, dmdom_dmdwo, dmdom_dmdwa,\n",
    "                dmdM_dmdwo, dmdom_dmdwo, dmdwo_dmdwo, dmdwa_dmdwo, \n",
    "                dmdM_dmdwa, dmdom_dmdwa, dmdwa_dmdwo, dmdwa_dmdwa])\n",
    "\n",
    "Fisher_Matrix = F_I.reshape(4, 4)\n",
    "Cov_Matrix = np.linalg.pinv(Fisher_Matrix)\n",
    "C_ij = np.sqrt(np.diag(Cov_Matrix))"
   ]
  },
  {
   "cell_type": "code",
   "execution_count": 91,
   "metadata": {
    "button": false,
    "new_sheet": false,
    "run_control": {
     "read_only": false
    }
   },
   "outputs": [
    {
     "data": {
      "text/plain": [
       "array([0.0231, 0.2613, 0.1939, 3.395 ])"
      ]
     },
     "execution_count": 91,
     "metadata": {},
     "output_type": "execute_result"
    }
   ],
   "source": [
    "C_ij"
   ]
  },
  {
   "cell_type": "markdown",
   "metadata": {
    "button": false,
    "new_sheet": false,
    "run_control": {
     "read_only": false
    }
   },
   "source": [
    "#### CMB Prior"
   ]
  },
  {
   "cell_type": "code",
   "execution_count": 92,
   "metadata": {
    "button": false,
    "new_sheet": false,
    "run_control": {
     "read_only": false
    }
   },
   "outputs": [],
   "source": [
    "F_OmOm = 26282.777992634321\n",
    "F_Omw0 = -7211.5106699248900\n",
    "F_Omwa = -1974.3936330616734\n",
    "F_w0w0 = 1978.7058337978979\n",
    "F_w0wa = 541.73728345787083\n",
    "F_wawa = 148.31880478414203\n",
    "F1 = [F_OmOm, F_Omw0, F_Omwa, F_Omw0, F_w0w0, F_w0wa, F_Omwa, F_w0wa, F_wawa]\n",
    "F1 = np.reshape(F1, (3, 3))\n",
    "A1 = np.zeros(16)\n",
    "A1 = np.reshape(A1, (4, 4))\n",
    "for row in range(1, np.shape(A1)[0]):\n",
    "    for col in range(1, np.shape(A1)[1]):\n",
    "        A1[row][col] += F1[row-1][col-1]\n",
    "F_Ext = A1 # CMB Matrix"
   ]
  },
  {
   "cell_type": "markdown",
   "metadata": {
    "button": false,
    "new_sheet": false,
    "run_control": {
     "read_only": false
    }
   },
   "source": [
    "#### Adding all together "
   ]
  },
  {
   "cell_type": "code",
   "execution_count": 93,
   "metadata": {
    "button": false,
    "new_sheet": false,
    "run_control": {
     "read_only": false
    }
   },
   "outputs": [],
   "source": [
    "Fisher_Matrix_PRIOR = Fisher_Matrix +  F_Ext # Adding Prior, you can add an additional matrix also, like Euclid\n",
    "Cov_Matrix_PRIOR = np.linalg.pinv(Fisher_Matrix_PRIOR)\n",
    "C_ij_PRIOR = np.sqrt(np.abs(np.diag(Cov_Matrix_PRIOR)))\n",
    "#print np.matrix(F_I)\n",
    "'''\n",
    "print('\\n\\n The ORDER IS : dM_dM, domega_m_domega_m, dw0_dw0, dwa_dwa]\\n\\n')\n",
    "print ('\\n\\nFisher Matrix with prior \\n', Fisher_Matrix_PRIOR)\n",
    "#print '\\n\\n*****************************\\n\\n'\n",
    "print ('Covariance Matrix with prior\\n', Cov_Matrix_PRIOR)\n",
    "#print '\\n\\n*****************************\\n\\n'\n",
    "print ('sigma_ii with prior\\n', C_ij_PRIOR)\n",
    "'''\n",
    "\n",
    "def fisher_matrix():\n",
    "    return Fisher_Matrix_PRIOR\n",
    "\n",
    "\n",
    "def covariance_matrix():\n",
    "    return Cov_Matrix_PRIOR\n",
    "\n",
    "def func():\n",
    "    return DXDT"
   ]
  },
  {
   "cell_type": "code",
   "execution_count": 96,
   "metadata": {
    "button": false,
    "new_sheet": false,
    "run_control": {
     "read_only": false
    }
   },
   "outputs": [
    {
     "name": "stdout",
     "output_type": "stream",
     "text": [
      "The Height and Width roughly is 1.63  0.40\n"
     ]
    }
   ],
   "source": [
    "#The Marginalized [2X2] subset of COVARIANCE Matrix.\n",
    "# Here Marginalized over M, omega_m\n",
    "# Obtained from : fisher_ayan_function_LSST_CMBPrior.py\n",
    "#F = [0, -1,C_ij_PRIOR[3]**2 ,C_ij_PRIOR[2]**2 ,Cov_Matrix_PRIOR[3][2] ]\n",
    "F = [0, -1, 2.8902e-01, 1.6886e-02, -6.8702e-02]\n",
    "# F = [wa,wo,wawa,wowo,wowa]  wa, w0, sigma_aa, sigma_00, sigma_a0\n",
    "alpha = 1.52    # arxiv : 0906.4123. 1-s CL\n",
    "print ('The Height and Width roughly is %.2f  %.2f' % (\n",
    "    2*alpha*np.sqrt(F[2]), 2*alpha*np.sqrt(F[3])))\n",
    "\n",
    "def a_square(sigma_x, sigma_y, sigma_xy):\n",
    "    F = sigma_x + sigma_y\n",
    "    G = (sigma_x - sigma_y)**2\n",
    "    H = (G/4) + sigma_xy**2\n",
    "    A = F/2 + np.sqrt(H)\n",
    "    return A\n",
    "\n",
    "def b_square(sigma_x, sigma_y, sigma_xy):\n",
    "    F = sigma_x + sigma_y\n",
    "    G = (sigma_x - sigma_y)**2\n",
    "    H = (G/4) + sigma_xy**2\n",
    "    B = F/2 - np.sqrt(H)\n",
    "    return B\n",
    "\n",
    "def tan_two_theta(sigma_x, sigma_y, sigma_xy):\n",
    "    print ('theta :', -math.degrees(0.5*math.atan(2*sigma_xy/(sigma_x-sigma_y))))\n",
    "    return(0.5*math.atan(2*sigma_xy/(sigma_x-sigma_y)))\n",
    "\n",
    "def area(sigma_x, sigma_y, sigma_xy):\n",
    "    return np.pi*(np.sqrt(a_square(sigma_x, sigma_y, sigma_xy))*alpha)*(np.sqrt(b_square(sigma_x, sigma_y, sigma_xy))*alpha)\n",
    "\n",
    "def par(sigma_x, sigma_y, sigma_xy):\n",
    "    a_star = np.sqrt(np.abs(a_square(sigma_x, sigma_y, sigma_xy)))*2*1.52\n",
    "    b_star = np.sqrt(np.abs(b_square(sigma_x, sigma_y, sigma_xy)))*2*1.52\n",
    "    two_theta = tan_two_theta(sigma_x, sigma_y, sigma_xy)\n",
    "    param = [a_star, b_star, two_theta]\n",
    "    return param"
   ]
  },
  {
   "cell_type": "code",
   "execution_count": 97,
   "metadata": {
    "button": false,
    "new_sheet": false,
    "run_control": {
     "read_only": false
    }
   },
   "outputs": [
    {
     "data": {
      "text/plain": [
       "[0, -1, 0.28902, 0.016886, -0.068702]"
      ]
     },
     "execution_count": 97,
     "metadata": {},
     "output_type": "execute_result"
    }
   ],
   "source": [
    "F"
   ]
  },
  {
   "cell_type": "markdown",
   "metadata": {
    "button": false,
    "new_sheet": false,
    "run_control": {
     "read_only": false
    }
   },
   "source": [
    "#### del_m_fisher_bias"
   ]
  },
  {
   "cell_type": "markdown",
   "metadata": {
    "button": false,
    "new_sheet": false,
    "run_control": {
     "read_only": false
    }
   },
   "source": [
    "#### Now we will compute the Fisher bias from the Fisher matrix. The bias, tells exactly how much is the observable offset due to the bias in the running parameter. In our case this tells how much is the $\\delta m$ due to $\\delta z$. \n",
    "### $\\Delta m_k = m(z+\\delta z) - m(z)$\n",
    "### $\\Delta m_k=\\left[(5\\log_{10}H_0D_L(z+\\delta z)+M) - (5\\log_{10}H_0D_L(z)+M)\\right]$\n",
    "### $\\Delta m_k = 5\\log_{10}\\left(\\frac{D_L(z+\\delta z)}{D_L(z)}\\right)$"
   ]
  },
  {
   "cell_type": "code",
   "execution_count": 98,
   "metadata": {
    "button": false,
    "new_sheet": false,
    "run_control": {
     "read_only": false
    }
   },
   "outputs": [],
   "source": [
    "from scipy.integrate import quad\n",
    "\n",
    "# **************************\n",
    "# This program returns the delta_m_k value\n",
    "# **************************\n",
    "# (5/ln10)*[delz(1/H*(1/int_0^z'delz/H ) + 1/(1+z))] !!NOT USED HERE!!\n",
    "# w_a = 0, w_o = -1 , omega_m = 0.3\n",
    "# H(z) = sqrt(omega_m*(1+z)^3 + (1-omega_m))\n",
    "\n",
    "# D_L = (1+z) integration(dz/H(z))LIMIT:[0,z]\n",
    "\n",
    "const = 5/np.log(10)\n",
    "\n",
    "\n",
    "def H_z(z):\n",
    "    omega_m = 0.3\n",
    "    omega_de = 1-omega_m\n",
    "    hz = omega_m*(1+z)**3+omega_de\n",
    "    return np.sqrt(hz)\n",
    "\n",
    "\n",
    "def H_z_inverse(z):\n",
    "    return 1/(H_z(z))\n",
    "\n",
    "\n",
    "#def del_z(d0, d1, z):\n",
    " #   return (d0+d1*z) # Dont need now\n",
    "\n",
    "def integration_delz_h(z):\n",
    "    I = quad(H_z_inverse, 0, z)[0]\n",
    "    return I\n",
    "\n",
    "\n",
    "def D_l(z):\n",
    "    return (1+z)*integration_delz_h(z)\n",
    "\n",
    "\n",
    "def del_m(i):\n",
    "    scale = 1#b.bias[i]#/0.01\n",
    "    #x = const*np.log(D_l(z+b.bias[c])/D_l(z))\n",
    "    x = const*np.log(D_l(z[i]+b.bias[i]/scale)/D_l(z[i]))\n",
    "    return x\n",
    "\n",
    "\n",
    "for i in (range(len(z))):\n",
    "    del_m(i)"
   ]
  },
  {
   "cell_type": "code",
   "execution_count": 99,
   "metadata": {
    "button": false,
    "new_sheet": false,
    "run_control": {
     "read_only": false
    }
   },
   "outputs": [],
   "source": [
    "#z = np.linspace(0.05, 1.15, 12)\n",
    "dm_dp = func()\n",
    "sum = []\n",
    "#do_d1 = np.array(b.bias) #[[0., 0.], [0.01, 0.], [0., 0.01]]\n",
    "cs1 = []\n",
    "for i in range(len(z)):\n",
    "    #print i    \n",
    "    x1 = del_m(i)  + 1.4/(1+z[i])*(b.bias[i])\n",
    "    cs1.append(x1)    \n",
    "#print ('***********************\\nFull expressions : No Approxiamtion')\n",
    "#print ('************************\\n\\ndel_m with IQR_ bias \\n')\n",
    "#for i in range(len(cs1)):\n",
    " #   print(\"%.4f  \" % (cs1[i]))\n",
    "#print ('***********************')\n",
    "q = sigma_int_sq/N + sigma_sys_sq\n",
    "#print ('N            :  ', N)  # OK\n",
    "#print ('sigma_square :  ', sigma_sq)\n",
    "value = '1'\n",
    "flag = cs1\n",
    "del_m_sigma_sq = flag/sigma_sq  # cs1 is used\n",
    "cov = covariance_matrix()\n",
    "XX_om = 0.\n",
    "XX_wa = 0.\n",
    "XX_w0 = 0.0\n",
    "XX_M = 0.\n",
    "for n in range(len(dm_dp)):\n",
    "    XX_om += dm_dp['dmdom'][n]*del_m_sigma_sq[n]\n",
    "    XX_w0 += dm_dp['dmdwo'][n]*del_m_sigma_sq[n]\n",
    "    XX_wa += dm_dp['dmdwa'][n]*del_m_sigma_sq[n]\n",
    "    XX_M += dm_dp['dmdM'][n] * del_m_sigma_sq[n]\n",
    "arr = [XX_M, XX_om, XX_w0, XX_wa]\n",
    "ide = 'new'\n",
    "#print ('\\ncov : \\n', cov)\n",
    "#print ('\\ndel_m / sigma_sq\\n', del_m_sigma_sq)\n",
    "#print ('array of 4 vectors\\n %s' % arr)\n",
    "del_p2 = cov.dot(arr)\n",
    "#print ('\\ndel_p2 : \\n', (del_p2))\n",
    "name = 'del_p_LSST_New_%s.txt' % ide\n",
    "#np.savetxt(name, np.matrix(del_p2), fmt='%.4f')"
   ]
  },
  {
   "cell_type": "markdown",
   "metadata": {
    "button": false,
    "new_sheet": false,
    "run_control": {
     "read_only": false
    }
   },
   "source": [
    "# Ploting the Fisher Ellipse"
   ]
  },
  {
   "cell_type": "code",
   "execution_count": 100,
   "metadata": {
    "button": false,
    "new_sheet": false,
    "run_control": {
     "read_only": false
    }
   },
   "outputs": [],
   "source": [
    "x=[];y=[];\n",
    "for i in range(0,12):\n",
    "    scale = 1#b.bias[i]#/0.01\n",
    "    apply = i## which bin to apply with dz and omit the rest <<<<-----\n",
    "    #print ('****** z - Bin to work on : ', apply+1)\n",
    "    counter = 0\n",
    "    #z = np.linspace(0.05, 1.15, 12)\n",
    "    dm_dp = func();sum = [];do_d1 = np.array(b.bias/scale); \n",
    "    cs1 = [];cs5 = [];cs6 = [];\n",
    "    cols = ['bias', 'bin_used', 'how']\n",
    "    dat1 = pd.DataFrame(columns=cols)\n",
    "    dat5 = pd.DataFrame(columns=cols)\n",
    "    dat6 = pd.DataFrame(columns=cols)\n",
    "#---------------------------------------------------------------\n",
    "    for i in (range(len(z))): # apply on all bins\n",
    "        x1 = (del_m(i)  + 1.4/(1+z[i])*(b.bias[i]/scale))\n",
    "        cs1.append(x1)\n",
    "    dat1 = dat1.append({'bias': 'all_bias', 'bin_used': str(0), 'how': str(0)}, ignore_index=True)\n",
    "#---------------------------------------------------------------\n",
    "    counter = 0\n",
    "    for i in (range(len(z))):  # APPLY ONLY ON ONE  BIN\n",
    "        if apply == counter:\n",
    "        #        print 'Condition match'\n",
    "        #        print 'counter :',counter\n",
    "        #        print 'apply :',apply\n",
    "            x5 = (del_m(i)  + 1.4/(1+z[i])*(b.bias[i]/scale))  # \n",
    "            bias_flag = b.bias[i]\n",
    "        else:\n",
    "            x5 = 0.#np.zeros(1)#del_m(i, do_d1[0][0], do_d1[0][1])\n",
    "        counter += 1\n",
    "        cs5.append(x5)\n",
    "    dat5 = dat5.append({'bias': str(bias_flag), 'bin_used': str(apply+1), 'how': str(1)}, ignore_index=True)\n",
    "    counter = 0\n",
    "#---------------------------------------------------------------\n",
    "    for i in (range(len(z))):  # APPLY ON ALL BIN EXCEPT ONE\n",
    "    #    print 'All Bin Except One : 6'\n",
    "        if apply != counter:\n",
    "            x6 = (del_m(i)  + 1.4/(1+z[i])*(b.bias[i]/scale))  # \n",
    "            bias_flag = b.bias[i]\n",
    "        else:\n",
    "            x6 = 0.\n",
    "        counter += 1\n",
    "        cs6.append(x6)\n",
    "    dat6 = dat6.append({'bias': str(bias_flag), 'bin_used': str(apply+1), 'how': str(11)}, ignore_index=True)\n",
    "    counter = 0\n",
    "#---------------------------------------------------------------\n",
    "    option = '2'# ******************     <<<<-----\n",
    "    if option == '1': # all bin\n",
    "        flag = cs1\n",
    "        dat = dat1\n",
    "    elif option == '2':  # only one bin \n",
    "        flag = cs5\n",
    "        dat = dat5    \n",
    "    elif option == '3':  # except one bin [0.01,0]\n",
    "        flag = cs6\n",
    "        dat = dat6        \n",
    "#---------------------------------------------------------------  \n",
    "#---------------------------------------------------------------\n",
    "#---------------------------------------------------------------\n",
    "# the first case, will be executed always as a baseline check\n",
    "    del_m_sigma_sq = cs1/sigma_sq  # cs1 is used\n",
    "    cov = covariance_matrix()\n",
    "    XX_om = 0.\n",
    "    XX_wa = 0.\n",
    "    XX_w0 = 0.0\n",
    "    XX_M = 0.\n",
    "    for n in range(len(dm_dp)):\n",
    "        XX_om += dm_dp['dmdom'][n]*del_m_sigma_sq[n]\n",
    "        XX_w0 += dm_dp['dmdwo'][n]*del_m_sigma_sq[n]\n",
    "        XX_wa += dm_dp['dmdwa'][n]*del_m_sigma_sq[n]\n",
    "        XX_M += dm_dp['dmdM'][n] * del_m_sigma_sq[n]\n",
    "    arr = [XX_M, XX_om, XX_w0, XX_wa]   \n",
    "    del_p2_all = cov.dot(arr)\n",
    "    columns = ['M', 'omegam', 'w0', 'wa']\n",
    "    delt0 = pd.DataFrame(columns=columns)\n",
    "    delt0 = delt0.append({'M': del_p2_all[0], 'omegam':  del_p2_all[1],\n",
    "                        'w0':  del_p2_all[2], 'wa':  del_p2_all[3]}, ignore_index=True)\n",
    "    data2 = pd.concat([delt0, dat1], axis=1) \n",
    "    y = np.append(y,del_p2_all)\n",
    "\n",
    "#---------------------------------------------------------------\n",
    "#---------------------------------------------------------------\n",
    "#---------------------------------------------------------------\n",
    "\n",
    "    del_m_sigma_sq = flag/sigma_sq  # cs1 is used\n",
    "    cov = covariance_matrix()\n",
    "    XX_om = 0.\n",
    "    XX_wa = 0.\n",
    "    XX_w0 = 0.0\n",
    "    XX_M = 0.\n",
    "    for n in range(len(dm_dp)):\n",
    "        XX_om += dm_dp['dmdom'][n]*del_m_sigma_sq[n]\n",
    "        XX_w0 += dm_dp['dmdwo'][n]*del_m_sigma_sq[n]\n",
    "        XX_wa += dm_dp['dmdwa'][n]*del_m_sigma_sq[n]\n",
    "        XX_M += dm_dp['dmdM'][n] * del_m_sigma_sq[n]\n",
    "    arr = [XX_M, XX_om, XX_w0, XX_wa]  \n",
    "#--------------------------------------------------------------- \n",
    "    del_p2 = cov.dot(arr)\n",
    "    columns = ['M', 'omegam', 'w0', 'wa']\n",
    "    delt = pd.DataFrame(columns=columns)\n",
    "    delt = delt.append({'M': del_p2[0], 'omegam':  del_p2[1],\n",
    "                        'w0':  del_p2[2], 'wa':  del_p2[3]}, ignore_index=True)\n",
    "    data2 = pd.concat([delt, dat], axis=1)\n",
    "    name = 'del_p_LSST_CMBPrior_Stretch_%s.txt' % ide\n",
    "    name2 = 'del_p_LSST_CMBPrior_Stretch_LONG_%s.txt' % ide\n",
    "    np.savetxt(name, np.matrix(del_p2), fmt='%.4f')\n",
    "    #data2.to_csv(name2, index=False)\n",
    "    #print(del_p2)        \n",
    "    x = np.append(x,del_p2)\n",
    "x = np.append(y[0:4],x)    \n",
    "x = np.reshape(x,(-1,4))   \n",
    "column = ['del_M','del_om','del_w0','del_wa']\n",
    "x = pd.DataFrame(x,columns=column)  # the first line contain the all bin result"
   ]
  },
  {
   "cell_type": "code",
   "execution_count": 101,
   "metadata": {
    "button": false,
    "new_sheet": false,
    "run_control": {
     "read_only": false
    }
   },
   "outputs": [
    {
     "data": {
      "text/plain": [
       "[0, -1, 0.28902, 0.016886, -0.068702]"
      ]
     },
     "execution_count": 101,
     "metadata": {},
     "output_type": "execute_result"
    }
   ],
   "source": [
    "F"
   ]
  },
  {
   "cell_type": "code",
   "execution_count": 102,
   "metadata": {
    "button": false,
    "new_sheet": false,
    "run_control": {
     "read_only": false
    }
   },
   "outputs": [
    {
     "name": "stdout",
     "output_type": "stream",
     "text": [
      "theta : 13.394902309736473\n",
      "Width :  0.06967731906730495\n",
      "Height : 1.679942249247751\n",
      "Angle : 13.394902309736473\n"
     ]
    },
    {
     "data": {
      "image/png": "[encoded data removed]",
      "text/plain": [
       "<Figure size 1080x720 with 1 Axes>"
      ]
     },
     "metadata": {
      "needs_background": "light"
     },
     "output_type": "display_data"
    }
   ],
   "source": [
    "plt.rcParams['figure.figsize'] = [15,10] \n",
    "alpha = 1.52\n",
    "\n",
    "params = par(F[2], F[3], F[4])\n",
    "print ('Width : ', params[1])\n",
    "print ('Height :', params[0])\n",
    "print ('Angle :', -math.degrees(params[2]))\n",
    "\n",
    "\n",
    "\n",
    "ell = mpl.patches.Ellipse(xy=[-1, 0], width=params[1], height=params[0], angle=-math.degrees(params[2]), facecolor='none', edgecolor='b', linewidth=2, label='1-sigma')\n",
    "ell2 = copy(ell)\n",
    "#ell = mpl.patches.Ellipse(xy=[-1, 0], width= 0.0696, height=1.679, angle=13.3949, facecolor='none', edgecolor='b', label='1-sigma')\n",
    "\n",
    "fig, ax = plt.subplots()\n",
    "ax.add_patch(ell)\n",
    "ax.set_aspect('auto')\n",
    "ax.set_facecolor('none')\n",
    "ax.autoscale()  # ''tight\n",
    "ax.scatter(F[1], F[0], c='black', marker='o',s=150, label='($w_0-w_a$) = (-1, 0)')\n",
    "ax.set_xlabel(r'$w_0$',fontsize=20)\n",
    "ax.set_ylabel(r'$w_a$',fontsize=20)\n",
    "ax.yaxis.set_ticks_position('both')\n",
    "ax.xaxis.set_ticks_position('both')\n",
    "ax.set_xlim(-1.35, -0.75)\n",
    "ax.set_ylim(-0.9, 1.2)\n",
    "ax.minorticks_on()\n",
    "r = x.iloc[1:,:] # after first line\n",
    "del_w0_1_all = x['del_w0'].iloc[0]    \n",
    "del_wa_1_all = x['del_wa'].iloc[0] \n",
    "\n",
    "colors = [\"red\", \"grey\" , \"grey\", \"grey\", \"grey\",\"grey\",'grey',\"grey\",\"grey\",\"grey\",\"grey\",\"blue\"]\n",
    "del_w0_1 = r['del_w0']  \n",
    "del_wa_1 = r['del_wa']  \n",
    "x4 = [];y4=[];\n",
    "for i in range(12):\n",
    "    xxx = (del_w0_1.iloc[i]-1);yyy = del_wa_1.iloc[i] \n",
    "    x4.append(xxx);y4.append(yyy)\n",
    "    plt.scatter(xxx,yyy,marker='s',facecolors='none',edgecolors=colors[i],s=150,linewidth=2)#label='%s'%(i+1)\n",
    "    #rect = mpl.patches.Rectangle((xxx,yyy),.02,.06,linewidth=1,edgecolor='r',facecolor='none')\n",
    "    #ax.add_patch(rect)\n",
    "plt.plot(x4,y4,c='red',linewidth=2) \n",
    "plt.scatter(del_w0_1.iloc[0]-1, del_wa_1.iloc[0],marker='s',s=150,linewidth=2,edgecolors='orange',facecolors='none',label = 'z = [0, 0.1]' )\n",
    "plt.scatter(del_w0_1.iloc[-1]-1, del_wa_1.iloc[-1],marker='s',s=150,linewidth=2,edgecolors='b',facecolors='none',label = 'z = [1.1, 1.2]' )\n",
    "a_all = plt.arrow(-1, 0, del_w0_1_all, del_wa_1_all, head_width=0.02, head_length=0.01,length_includes_head=True, color='lime')\n",
    "#a_all = plt.arrow(-1, 0, del_w0_1_all, del_wa_1_all, head_width=0.02, head_length=0.01,length_includes_head=True, color='lime')\n",
    "\n",
    "plt.text(-1.345, -0.4, r'$\\sigma$(Robust Bias)', size=50)\n",
    "\n",
    "plt.legend(loc = 'lower left',prop={'size': 20})\n",
    "'''\n",
    "#------------------- Inset plot\n",
    "left, bottom, width, height = [0.65, 0.7, 0.3, 0.25]\n",
    "ax2 = fig.add_axes([left, bottom, width, height])\n",
    "ax2.add_patch(ell2)\n",
    "ax2.set_aspect('auto')\n",
    "ax2.set_facecolor('none')\n",
    "ax2.autoscale()  # ''tight\n",
    "ax2.scatter(F[1], F[0], c='black', marker='o',s=150, label='($w_0-w_a$) = (-1, 0)')\n",
    "ax2.set_xlabel(r'$w_0$',fontsize=20)\n",
    "ax2.set_ylabel(r'$w_a$',fontsize=20)\n",
    "ax2.yaxis.set_ticks_position('both')\n",
    "ax2.xaxis.set_ticks_position('both')\n",
    "#ax2.set_xlim(-1.025, -0.92)\n",
    "#ax2.set_ylim(-0.3, 0.1)\n",
    "ax2.minorticks_on()\n",
    "for i in range(12):\n",
    "    xxx = (del_w0_1.iloc[i]-1);yyy = del_wa_1.iloc[i] \n",
    "    x4.append(xxx);y4.append(yyy)\n",
    "    print('no = %s, x=%s, y=%s'%(i,xxx,yyy))\n",
    "    #plt.scatter(xxx,yyy,marker='s',facecolors='none',label='%s'%(i+1),edgecolors=colors[i],s=150,linewidth=2)#label='%s'%(i+1)\n",
    "    #rect = mpl.patches.Rectangle((xxx,yyy),.02,.06,linewidth=1,edgecolor='r',facecolor='none')\n",
    "    #ax.add_patch(rect)\n",
    "#plt.scatter((del_w0_1.iloc[9]-1),del_wa_1.iloc[9],'.')    \n",
    "plt.plot(x4,y4,c='red',linewidth=1) \n",
    "plt.scatter(del_w0_1.iloc[0]-1, del_wa_1.iloc[0],marker='s',s=150,linewidth=2,edgecolors='orange',facecolors='none',label = 'z = [0, 0.1]' )\n",
    "plt.scatter(del_w0_1.iloc[-1]-1, del_wa_1.iloc[-1],marker='s',s=150,linewidth=2,edgecolors='b',facecolors='none',label = 'z = [1.1, 1.2]' )\n",
    "a_all = plt.arrow(-1, 0, del_w0_1_all, del_wa_1_all, head_width=0.02, head_length=0.1,length_includes_head=True, color='lime')\n",
    "plt.legend(loc = 'lower left')\n",
    "'''\n",
    "plt.tight_layout()\n",
    "#plt.savefig('new_CORIQRb2.pdf',bbox_inches='tight')"
   ]
  }
 ],
 "metadata": {
  "kernelspec": {
   "display_name": "Python 3",
   "language": "python",
   "name": "python3"
  },
  "language_info": {
   "codemirror_mode": {
    "name": "ipython",
    "version": 3
   },
   "file_extension": ".py",
   "mimetype": "text/x-python",
   "name": "python",
   "nbconvert_exporter": "python",
   "pygments_lexer": "ipython3",
   "version": "3.7.6"
  }
 },
 "nbformat": 4,
 "nbformat_minor": 2
}
