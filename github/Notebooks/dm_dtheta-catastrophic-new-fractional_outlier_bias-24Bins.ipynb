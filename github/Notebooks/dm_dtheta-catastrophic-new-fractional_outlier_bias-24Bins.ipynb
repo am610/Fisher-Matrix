{
 "cells": [
  {
   "cell_type": "markdown",
   "metadata": {},
   "source": [
    "#### This notebook is computed with  24 Bins"
   ]
  },
  {
   "cell_type": "code",
   "execution_count": 325,
   "metadata": {
    "button": false,
    "new_sheet": false,
    "run_control": {
     "read_only": false
    }
   },
   "outputs": [],
   "source": [
    "import numpy as np\n",
    "from scipy.integrate import simps\n",
    "from scipy.integrate import quad\n",
    "import pandas as pd \n",
    "#import del_m_fisher_bias_full as m  # CHECK WHICH D0,D1 IS USED\n",
    "import numpy as np\n",
    "#import fisher_ayan_function as f\n",
    "#import dmdtheta_ayan_function as dm\n",
    "#import fisher_ayan_function_LSST as f\n",
    "#import fisher_ayan_function_LSST_CMBPrior as f\n",
    "import sys\n",
    "import matplotlib.pyplot as plt\n",
    "import math\n",
    "from matplotlib.patches import Ellipse\n",
    "import matplotlib as mpl\n",
    "import matplotlib.pyplot as plt\n",
    "#import Fisher_Ellipse_LSST_CMBPrior as F\n",
    "from matplotlib.ticker import (MultipleLocator, FormatStrFormatter,AutoMinorLocator)\n",
    "from copy import copy"
   ]
  },
  {
   "cell_type": "code",
   "execution_count": 326,
   "metadata": {},
   "outputs": [
    {
     "name": "stdout",
     "output_type": "stream",
     "text": [
      "/Volumes/HDD750GB/Programs/Fisher/github/Notebooks\r\n"
     ]
    }
   ],
   "source": [
    "! pwd"
   ]
  },
  {
   "cell_type": "code",
   "execution_count": 327,
   "metadata": {
    "button": false,
    "new_sheet": false,
    "run_control": {
     "read_only": false
    }
   },
   "outputs": [],
   "source": [
    "b = pd.read_csv('../Data/Catastrophic_tzpz_24bins.csv',sep=' ' )\n",
    "#b = pd.read_csv('../Data/Catastrophic_tzpz.csv',sep=' ' )\n",
    "#b = pd.read_csv('interpolated_fout_new3.csv',sep=' ' )\n",
    "#b = pd.read_csv('Catastrophic/f.csv',sep =',' )\n",
    "#b = pd.read_csv('Catastrophic/f2.csv' )\n",
    "#b = pd.read_csv('interpolated_error.csv',sep =' ' )"
   ]
  },
  {
   "cell_type": "code",
   "execution_count": 328,
   "metadata": {},
   "outputs": [
    {
     "data": {
      "text/html": [
       "<div>\n",
       "<style scoped>\n",
       "    .dataframe tbody tr th:only-of-type {\n",
       "        vertical-align: middle;\n",
       "    }\n",
       "\n",
       "    .dataframe tbody tr th {\n",
       "        vertical-align: top;\n",
       "    }\n",
       "\n",
       "    .dataframe thead th {\n",
       "        text-align: right;\n",
       "    }\n",
       "</style>\n",
       "<table border=\"1\" class=\"dataframe\">\n",
       "  <thead>\n",
       "    <tr style=\"text-align: right;\">\n",
       "      <th></th>\n",
       "      <th>z_true</th>\n",
       "      <th>F</th>\n",
       "      <th>outlier_bias</th>\n",
       "    </tr>\n",
       "  </thead>\n",
       "  <tbody>\n",
       "    <tr>\n",
       "      <th>0</th>\n",
       "      <td>0.025</td>\n",
       "      <td>0.025641</td>\n",
       "      <td>0.234141</td>\n",
       "    </tr>\n",
       "    <tr>\n",
       "      <th>1</th>\n",
       "      <td>0.075</td>\n",
       "      <td>0.036093</td>\n",
       "      <td>0.123019</td>\n",
       "    </tr>\n",
       "    <tr>\n",
       "      <th>2</th>\n",
       "      <td>0.125</td>\n",
       "      <td>0.042316</td>\n",
       "      <td>0.118820</td>\n",
       "    </tr>\n",
       "    <tr>\n",
       "      <th>3</th>\n",
       "      <td>0.175</td>\n",
       "      <td>0.037190</td>\n",
       "      <td>0.072010</td>\n",
       "    </tr>\n",
       "    <tr>\n",
       "      <th>4</th>\n",
       "      <td>0.225</td>\n",
       "      <td>0.026923</td>\n",
       "      <td>0.151421</td>\n",
       "    </tr>\n",
       "    <tr>\n",
       "      <th>5</th>\n",
       "      <td>0.275</td>\n",
       "      <td>0.049296</td>\n",
       "      <td>0.119992</td>\n",
       "    </tr>\n",
       "    <tr>\n",
       "      <th>6</th>\n",
       "      <td>0.325</td>\n",
       "      <td>0.052867</td>\n",
       "      <td>0.083342</td>\n",
       "    </tr>\n",
       "    <tr>\n",
       "      <th>7</th>\n",
       "      <td>0.375</td>\n",
       "      <td>0.058218</td>\n",
       "      <td>0.051338</td>\n",
       "    </tr>\n",
       "    <tr>\n",
       "      <th>8</th>\n",
       "      <td>0.425</td>\n",
       "      <td>0.033685</td>\n",
       "      <td>-0.057120</td>\n",
       "    </tr>\n",
       "    <tr>\n",
       "      <th>9</th>\n",
       "      <td>0.475</td>\n",
       "      <td>0.104436</td>\n",
       "      <td>-0.093467</td>\n",
       "    </tr>\n",
       "    <tr>\n",
       "      <th>10</th>\n",
       "      <td>0.525</td>\n",
       "      <td>0.062038</td>\n",
       "      <td>-0.134704</td>\n",
       "    </tr>\n",
       "    <tr>\n",
       "      <th>11</th>\n",
       "      <td>0.575</td>\n",
       "      <td>0.012356</td>\n",
       "      <td>-0.155020</td>\n",
       "    </tr>\n",
       "    <tr>\n",
       "      <th>12</th>\n",
       "      <td>0.625</td>\n",
       "      <td>0.001329</td>\n",
       "      <td>0.043245</td>\n",
       "    </tr>\n",
       "    <tr>\n",
       "      <th>13</th>\n",
       "      <td>0.675</td>\n",
       "      <td>0.002224</td>\n",
       "      <td>0.099600</td>\n",
       "    </tr>\n",
       "    <tr>\n",
       "      <th>14</th>\n",
       "      <td>0.725</td>\n",
       "      <td>0.003209</td>\n",
       "      <td>0.055384</td>\n",
       "    </tr>\n",
       "    <tr>\n",
       "      <th>15</th>\n",
       "      <td>0.775</td>\n",
       "      <td>0.005689</td>\n",
       "      <td>0.070615</td>\n",
       "    </tr>\n",
       "    <tr>\n",
       "      <th>16</th>\n",
       "      <td>0.825</td>\n",
       "      <td>0.007329</td>\n",
       "      <td>-0.020388</td>\n",
       "    </tr>\n",
       "    <tr>\n",
       "      <th>17</th>\n",
       "      <td>0.875</td>\n",
       "      <td>0.009603</td>\n",
       "      <td>-0.050174</td>\n",
       "    </tr>\n",
       "    <tr>\n",
       "      <th>18</th>\n",
       "      <td>0.925</td>\n",
       "      <td>0.004648</td>\n",
       "      <td>0.002570</td>\n",
       "    </tr>\n",
       "    <tr>\n",
       "      <th>19</th>\n",
       "      <td>0.975</td>\n",
       "      <td>0.010147</td>\n",
       "      <td>0.196604</td>\n",
       "    </tr>\n",
       "    <tr>\n",
       "      <th>20</th>\n",
       "      <td>1.025</td>\n",
       "      <td>0.021100</td>\n",
       "      <td>0.204513</td>\n",
       "    </tr>\n",
       "    <tr>\n",
       "      <th>21</th>\n",
       "      <td>1.075</td>\n",
       "      <td>0.052266</td>\n",
       "      <td>0.117522</td>\n",
       "    </tr>\n",
       "    <tr>\n",
       "      <th>22</th>\n",
       "      <td>1.125</td>\n",
       "      <td>0.038652</td>\n",
       "      <td>0.068724</td>\n",
       "    </tr>\n",
       "    <tr>\n",
       "      <th>23</th>\n",
       "      <td>1.175</td>\n",
       "      <td>0.012518</td>\n",
       "      <td>0.070512</td>\n",
       "    </tr>\n",
       "  </tbody>\n",
       "</table>\n",
       "</div>"
      ],
      "text/plain": [
       "    z_true         F  outlier_bias\n",
       "0    0.025  0.025641      0.234141\n",
       "1    0.075  0.036093      0.123019\n",
       "2    0.125  0.042316      0.118820\n",
       "3    0.175  0.037190      0.072010\n",
       "4    0.225  0.026923      0.151421\n",
       "5    0.275  0.049296      0.119992\n",
       "6    0.325  0.052867      0.083342\n",
       "7    0.375  0.058218      0.051338\n",
       "8    0.425  0.033685     -0.057120\n",
       "9    0.475  0.104436     -0.093467\n",
       "10   0.525  0.062038     -0.134704\n",
       "11   0.575  0.012356     -0.155020\n",
       "12   0.625  0.001329      0.043245\n",
       "13   0.675  0.002224      0.099600\n",
       "14   0.725  0.003209      0.055384\n",
       "15   0.775  0.005689      0.070615\n",
       "16   0.825  0.007329     -0.020388\n",
       "17   0.875  0.009603     -0.050174\n",
       "18   0.925  0.004648      0.002570\n",
       "19   0.975  0.010147      0.196604\n",
       "20   1.025  0.021100      0.204513\n",
       "21   1.075  0.052266      0.117522\n",
       "22   1.125  0.038652      0.068724\n",
       "23   1.175  0.012518      0.070512"
      ]
     },
     "execution_count": 328,
     "metadata": {},
     "output_type": "execute_result"
    }
   ],
   "source": [
    "b "
   ]
  },
  {
   "cell_type": "code",
   "execution_count": 329,
   "metadata": {
    "button": false,
    "new_sheet": false,
    "run_control": {
     "read_only": false
    }
   },
   "outputs": [
    {
     "data": {
      "text/plain": [
       "'\\nb.outlier_bias[0] = 0.00#0.006\\n\\nb.outlier_bias[1] = 0.00\\n\\nb.outlier_bias[2] = 0.0\\n\\nb.F[3] = 0.01\\n\\nb.F[4] = 0.01\\n\\n'"
      ]
     },
     "execution_count": 329,
     "metadata": {},
     "output_type": "execute_result"
    }
   ],
   "source": [
    "\n",
    "# This is for bias in first 6 bins set to f = 0.01\n",
    "#\n",
    "'''\n",
    "b.outlier_bias[0] = 0.00\n",
    "\n",
    "b.outlier_bias[1] = 0.00\n",
    "\n",
    "b.outlier_bias[2] = 0.0\n",
    "\n",
    "b.outlier_bias[3] = 0.0\n",
    "\n",
    "b.outlier_bias[4] = 0.0\n",
    "\n",
    "'''"
   ]
  },
  {
   "cell_type": "code",
   "execution_count": 330,
   "metadata": {
    "button": false,
    "new_sheet": false,
    "run_control": {
     "read_only": false
    }
   },
   "outputs": [],
   "source": [
    "b['bias']=b.F\n",
    "b['z']=b.z_true"
   ]
  },
  {
   "cell_type": "code",
   "execution_count": 331,
   "metadata": {
    "button": false,
    "new_sheet": false,
    "run_control": {
     "read_only": false
    },
    "scrolled": true
   },
   "outputs": [
    {
     "data": {
      "text/html": [
       "<div>\n",
       "<style scoped>\n",
       "    .dataframe tbody tr th:only-of-type {\n",
       "        vertical-align: middle;\n",
       "    }\n",
       "\n",
       "    .dataframe tbody tr th {\n",
       "        vertical-align: top;\n",
       "    }\n",
       "\n",
       "    .dataframe thead th {\n",
       "        text-align: right;\n",
       "    }\n",
       "</style>\n",
       "<table border=\"1\" class=\"dataframe\">\n",
       "  <thead>\n",
       "    <tr style=\"text-align: right;\">\n",
       "      <th></th>\n",
       "      <th>z_true</th>\n",
       "      <th>F</th>\n",
       "      <th>outlier_bias</th>\n",
       "      <th>bias</th>\n",
       "      <th>z</th>\n",
       "    </tr>\n",
       "  </thead>\n",
       "  <tbody>\n",
       "    <tr>\n",
       "      <th>0</th>\n",
       "      <td>0.025</td>\n",
       "      <td>0.025641</td>\n",
       "      <td>0.234141</td>\n",
       "      <td>0.025641</td>\n",
       "      <td>0.025</td>\n",
       "    </tr>\n",
       "    <tr>\n",
       "      <th>1</th>\n",
       "      <td>0.075</td>\n",
       "      <td>0.036093</td>\n",
       "      <td>0.123019</td>\n",
       "      <td>0.036093</td>\n",
       "      <td>0.075</td>\n",
       "    </tr>\n",
       "    <tr>\n",
       "      <th>2</th>\n",
       "      <td>0.125</td>\n",
       "      <td>0.042316</td>\n",
       "      <td>0.118820</td>\n",
       "      <td>0.042316</td>\n",
       "      <td>0.125</td>\n",
       "    </tr>\n",
       "    <tr>\n",
       "      <th>3</th>\n",
       "      <td>0.175</td>\n",
       "      <td>0.037190</td>\n",
       "      <td>0.072010</td>\n",
       "      <td>0.037190</td>\n",
       "      <td>0.175</td>\n",
       "    </tr>\n",
       "    <tr>\n",
       "      <th>4</th>\n",
       "      <td>0.225</td>\n",
       "      <td>0.026923</td>\n",
       "      <td>0.151421</td>\n",
       "      <td>0.026923</td>\n",
       "      <td>0.225</td>\n",
       "    </tr>\n",
       "    <tr>\n",
       "      <th>5</th>\n",
       "      <td>0.275</td>\n",
       "      <td>0.049296</td>\n",
       "      <td>0.119992</td>\n",
       "      <td>0.049296</td>\n",
       "      <td>0.275</td>\n",
       "    </tr>\n",
       "    <tr>\n",
       "      <th>6</th>\n",
       "      <td>0.325</td>\n",
       "      <td>0.052867</td>\n",
       "      <td>0.083342</td>\n",
       "      <td>0.052867</td>\n",
       "      <td>0.325</td>\n",
       "    </tr>\n",
       "    <tr>\n",
       "      <th>7</th>\n",
       "      <td>0.375</td>\n",
       "      <td>0.058218</td>\n",
       "      <td>0.051338</td>\n",
       "      <td>0.058218</td>\n",
       "      <td>0.375</td>\n",
       "    </tr>\n",
       "    <tr>\n",
       "      <th>8</th>\n",
       "      <td>0.425</td>\n",
       "      <td>0.033685</td>\n",
       "      <td>-0.057120</td>\n",
       "      <td>0.033685</td>\n",
       "      <td>0.425</td>\n",
       "    </tr>\n",
       "    <tr>\n",
       "      <th>9</th>\n",
       "      <td>0.475</td>\n",
       "      <td>0.104436</td>\n",
       "      <td>-0.093467</td>\n",
       "      <td>0.104436</td>\n",
       "      <td>0.475</td>\n",
       "    </tr>\n",
       "    <tr>\n",
       "      <th>10</th>\n",
       "      <td>0.525</td>\n",
       "      <td>0.062038</td>\n",
       "      <td>-0.134704</td>\n",
       "      <td>0.062038</td>\n",
       "      <td>0.525</td>\n",
       "    </tr>\n",
       "    <tr>\n",
       "      <th>11</th>\n",
       "      <td>0.575</td>\n",
       "      <td>0.012356</td>\n",
       "      <td>-0.155020</td>\n",
       "      <td>0.012356</td>\n",
       "      <td>0.575</td>\n",
       "    </tr>\n",
       "    <tr>\n",
       "      <th>12</th>\n",
       "      <td>0.625</td>\n",
       "      <td>0.001329</td>\n",
       "      <td>0.043245</td>\n",
       "      <td>0.001329</td>\n",
       "      <td>0.625</td>\n",
       "    </tr>\n",
       "    <tr>\n",
       "      <th>13</th>\n",
       "      <td>0.675</td>\n",
       "      <td>0.002224</td>\n",
       "      <td>0.099600</td>\n",
       "      <td>0.002224</td>\n",
       "      <td>0.675</td>\n",
       "    </tr>\n",
       "    <tr>\n",
       "      <th>14</th>\n",
       "      <td>0.725</td>\n",
       "      <td>0.003209</td>\n",
       "      <td>0.055384</td>\n",
       "      <td>0.003209</td>\n",
       "      <td>0.725</td>\n",
       "    </tr>\n",
       "    <tr>\n",
       "      <th>15</th>\n",
       "      <td>0.775</td>\n",
       "      <td>0.005689</td>\n",
       "      <td>0.070615</td>\n",
       "      <td>0.005689</td>\n",
       "      <td>0.775</td>\n",
       "    </tr>\n",
       "    <tr>\n",
       "      <th>16</th>\n",
       "      <td>0.825</td>\n",
       "      <td>0.007329</td>\n",
       "      <td>-0.020388</td>\n",
       "      <td>0.007329</td>\n",
       "      <td>0.825</td>\n",
       "    </tr>\n",
       "    <tr>\n",
       "      <th>17</th>\n",
       "      <td>0.875</td>\n",
       "      <td>0.009603</td>\n",
       "      <td>-0.050174</td>\n",
       "      <td>0.009603</td>\n",
       "      <td>0.875</td>\n",
       "    </tr>\n",
       "    <tr>\n",
       "      <th>18</th>\n",
       "      <td>0.925</td>\n",
       "      <td>0.004648</td>\n",
       "      <td>0.002570</td>\n",
       "      <td>0.004648</td>\n",
       "      <td>0.925</td>\n",
       "    </tr>\n",
       "    <tr>\n",
       "      <th>19</th>\n",
       "      <td>0.975</td>\n",
       "      <td>0.010147</td>\n",
       "      <td>0.196604</td>\n",
       "      <td>0.010147</td>\n",
       "      <td>0.975</td>\n",
       "    </tr>\n",
       "    <tr>\n",
       "      <th>20</th>\n",
       "      <td>1.025</td>\n",
       "      <td>0.021100</td>\n",
       "      <td>0.204513</td>\n",
       "      <td>0.021100</td>\n",
       "      <td>1.025</td>\n",
       "    </tr>\n",
       "    <tr>\n",
       "      <th>21</th>\n",
       "      <td>1.075</td>\n",
       "      <td>0.052266</td>\n",
       "      <td>0.117522</td>\n",
       "      <td>0.052266</td>\n",
       "      <td>1.075</td>\n",
       "    </tr>\n",
       "    <tr>\n",
       "      <th>22</th>\n",
       "      <td>1.125</td>\n",
       "      <td>0.038652</td>\n",
       "      <td>0.068724</td>\n",
       "      <td>0.038652</td>\n",
       "      <td>1.125</td>\n",
       "    </tr>\n",
       "    <tr>\n",
       "      <th>23</th>\n",
       "      <td>1.175</td>\n",
       "      <td>0.012518</td>\n",
       "      <td>0.070512</td>\n",
       "      <td>0.012518</td>\n",
       "      <td>1.175</td>\n",
       "    </tr>\n",
       "  </tbody>\n",
       "</table>\n",
       "</div>"
      ],
      "text/plain": [
       "    z_true         F  outlier_bias      bias      z\n",
       "0    0.025  0.025641      0.234141  0.025641  0.025\n",
       "1    0.075  0.036093      0.123019  0.036093  0.075\n",
       "2    0.125  0.042316      0.118820  0.042316  0.125\n",
       "3    0.175  0.037190      0.072010  0.037190  0.175\n",
       "4    0.225  0.026923      0.151421  0.026923  0.225\n",
       "5    0.275  0.049296      0.119992  0.049296  0.275\n",
       "6    0.325  0.052867      0.083342  0.052867  0.325\n",
       "7    0.375  0.058218      0.051338  0.058218  0.375\n",
       "8    0.425  0.033685     -0.057120  0.033685  0.425\n",
       "9    0.475  0.104436     -0.093467  0.104436  0.475\n",
       "10   0.525  0.062038     -0.134704  0.062038  0.525\n",
       "11   0.575  0.012356     -0.155020  0.012356  0.575\n",
       "12   0.625  0.001329      0.043245  0.001329  0.625\n",
       "13   0.675  0.002224      0.099600  0.002224  0.675\n",
       "14   0.725  0.003209      0.055384  0.003209  0.725\n",
       "15   0.775  0.005689      0.070615  0.005689  0.775\n",
       "16   0.825  0.007329     -0.020388  0.007329  0.825\n",
       "17   0.875  0.009603     -0.050174  0.009603  0.875\n",
       "18   0.925  0.004648      0.002570  0.004648  0.925\n",
       "19   0.975  0.010147      0.196604  0.010147  0.975\n",
       "20   1.025  0.021100      0.204513  0.021100  1.025\n",
       "21   1.075  0.052266      0.117522  0.052266  1.075\n",
       "22   1.125  0.038652      0.068724  0.038652  1.125\n",
       "23   1.175  0.012518      0.070512  0.012518  1.175"
      ]
     },
     "execution_count": 331,
     "metadata": {},
     "output_type": "execute_result"
    }
   ],
   "source": [
    "b"
   ]
  },
  {
   "cell_type": "code",
   "execution_count": 332,
   "metadata": {
    "button": false,
    "new_sheet": false,
    "run_control": {
     "read_only": false
    },
    "scrolled": false
   },
   "outputs": [
    {
     "data": {
      "image/png": "[encoded data removed]",
      "text/plain": [
       "<Figure size 504x432 with 1 Axes>"
      ]
     },
     "metadata": {
      "needs_background": "light"
     },
     "output_type": "display_data"
    }
   ],
   "source": [
    "plt.rcParams['figure.figsize'] = [7,6] \n",
    "fig, axes = plt.subplots()\n",
    "plt.plot(b.z,b.bias,'o',c='b',label='fout (F)')\n",
    "plt.plot(b.z,b.bias,c='dodgerblue')\n",
    "plt.plot(b.z,b.outlier_bias,'o',c='r',label='COR_Outlier_Bias')\n",
    "plt.plot(b.z,b.outlier_bias,c='coral')\n",
    "plt.scatter(b.z,10*b.bias*b.outlier_bias,edgecolors='darkgreen',facecolors='none',label='10*F*COR_Outlier_Bias',s=150)\n",
    "plt.plot(b.z,10*b.bias*b.outlier_bias,linestyle='--',c='g',label='_nolegend_')\n",
    "plt.xlabel('z')\n",
    "plt.ylabel('F,  Catastrophic Outliers Bias' )\n",
    "plt.legend()\n",
    "axes.yaxis.set_ticks_position('both')\n",
    "axes.xaxis.set_ticks_position('both')\n",
    "axes.minorticks_on()\n",
    "plt.tight_layout()\n",
    "#plt.savefig('../Catastrophic/f_dz_Corout_24bins.pdf',bbox_inches='tight')"
   ]
  },
  {
   "cell_type": "code",
   "execution_count": 333,
   "metadata": {
    "button": false,
    "code_folding": [],
    "new_sheet": false,
    "run_control": {
     "read_only": false
    }
   },
   "outputs": [
    {
     "name": "stdout",
     "output_type": "stream",
     "text": [
      "w0, wa used :  -1 0\n"
     ]
    }
   ],
   "source": [
    "Om = 0.3  # Omega Matter\n",
    "Omatter = (1-Om)\n",
    "w0 = -1\n",
    "wa = 0\n",
    "#w0 = -1.2;wa = -0.9;\n",
    "#w0 = -0.8;wa = 0.9;\n",
    "#a = (1+z)**(-1)\n",
    "# 1\n",
    "print ('w0, wa used : ', w0, wa)\n",
    "# Not Required\n",
    "#---------------------------------\n",
    "\n",
    "def X(z):\n",
    "    a = (1+z)**(-1)\n",
    "    return Om*(a**-3)+((1-Om)*a**(-3)*(a**(-3*(w0+wa))*np.exp(3*wa*(a-1))))\n",
    "\n",
    "\n",
    "def dxdm(z, wa, w0):\n",
    "    a = (1+z)**(-1)\n",
    "    zt = (1+z)\n",
    "    w = (wa+w0)\n",
    "    X3 = np.exp(3*wa*(a-1))\n",
    "    X2 = zt**(3*w)\n",
    "    X1 = X2*X3\n",
    "    X4 = 1.-X1\n",
    "    X = Om*(a**-3)+((1-Om)*a**(-3)*(a**(-3*(w0+wa))*np.exp(3*wa*(a-1))))\n",
    "    A = (X**(-1.5))*X4*(zt**3)\n",
    "    #A  = [1-zt**(-3*w)*np.exp(-3*wa*z/zt)]*zt**3\n",
    "    return A\n",
    "\n",
    "# 2\n",
    "\n",
    "\n",
    "def dxdw0(z, wa, w0):\n",
    "    a = (1+z)**(-1)\n",
    "    zt = (1+z)\n",
    "    ztt = z/zt  # z/1+z\n",
    "    a_a = a**(3*wa)\n",
    "    a_0 = a**(3*w0)\n",
    "    e_a = np.exp(3*wa*(-ztt))\n",
    "    A3 = (a_a**-1)*(-3*np.log(a)/a_0)\n",
    "    A4 = e_a*A3\n",
    "    X = Om*(a**-3)+((1-Om)*a**(-3)*(a**(-3*(w0+wa))*np.exp(3*wa*(a-1))))\n",
    "    A = (X**(-1.5))*Omatter*zt**3*(A4)\n",
    "    return A\n",
    "\n",
    "\n",
    "# 3\n",
    "def dxdwa(z, wa, w0):\n",
    "    a = (1+z)**(-1)\n",
    "    a2 = a-1\n",
    "    zt = (1+z)\n",
    "    ztt = z/zt\n",
    "    a_a = a**(3*wa)\n",
    "    a_0 = a**(3*w0)\n",
    "    e_a = np.exp(3*wa*(-ztt))\n",
    "    A3 = e_a*(-3*np.log(a)/a_a)\n",
    "    A2 = 3*(a-1)*e_a/(a_a)\n",
    "    A4 = A2+A3\n",
    "    X = Om*(a**-3)+((1-Om)*a**(-3)*(a**(-3*(w0+wa))*np.exp(3*wa*(a-1))))\n",
    "    A = (X**(-1.5))*(Omatter)*(zt**3)*(a_0**-1)*(A4)\n",
    "    return A\n",
    "\n",
    "# dxdM = 1 \n",
    "\n",
    "# PRINTING CHECKS\n",
    "#print 'Redshift  dx/dm      dx/dwo      dx/dwa'\n",
    "#print '---------------------------------------'\n",
    "# for i in (np.linspace(0.05,1.65,17)):\n",
    "#          print(\"%.4f    %.4f    %.4f     %.4f \" %(i,dxdm(i,0,-1),dxdw0(i,0,-1),dxdwa(i,0,-1)) )\n",
    "# ************************************************************\n",
    "# ************************************************************\n",
    "\n",
    "\n",
    "# Integration Part : STARTS FROmatter BELOW\n",
    "\n",
    "def H_0D_L(z):  # THIS WILL BE THEN INTEGRATED IN LINE NO. 106\n",
    "    a = (1+z)**(-1)\n",
    "    sec = (1-Om)*(a**-3)*(a**(-3*(w0+wa))*np.exp(3*(wa*(a-1))))\n",
    "    fir = (Om*(a**-3))\n",
    "    return((fir+sec)**(-0.5))\n",
    "\n",
    "\n",
    "# ADDITIONAL FUNCTION DECLARATION\n",
    "def fu1(z):\n",
    "    return dxdm(z, wa, w0)\n",
    "\n",
    "\n",
    "def fu2(z):\n",
    "    return dxdw0(z, wa, w0)\n",
    "\n",
    "\n",
    "def fu3(z):\n",
    "    return dxdwa(z, wa, w0)"
   ]
  },
  {
   "cell_type": "code",
   "execution_count": 334,
   "metadata": {
    "button": false,
    "new_sheet": false,
    "run_control": {
     "read_only": false
    }
   },
   "outputs": [],
   "source": [
    "# Z BINS\n",
    "z = np.array(b.z)\n",
    "#z = np.linspace(0.15,1.15,12)\n",
    "\n",
    "# VARIABLE DECLARATION\n",
    "I_om = []\n",
    "I_wa = []\n",
    "I_wo = []\n",
    "hdl = []\n",
    "prefactor1 = []\n",
    "dx_domega = []\n",
    "dx_dwa = []\n",
    "dx_dw0 = []\n",
    "\n",
    "# INTEGRATIONS RUNNING FROM LIMIT [0,Z_BIN[i]]\n",
    "# THE fu FUNCTION CALLS THE OTHER FUNCTION : DX/DTHETA\n",
    "# QUAD IS A PYTHON INTEGRATION FUNCTION WITH 3 ARGUMENTS :\n",
    "# FUNCTION TO INTEGRATE, LOWER LIMIT, UPPER LIMIT\n",
    "\n",
    "for ii in range(len(z[:])):\n",
    "    I_om.append(quad(fu1, 0, z[ii])[0])\n",
    "    I_wo.append(quad(fu2, 0, z[ii])[0])\n",
    "    I_wa.append(quad(fu3, 0, z[ii])[0])\n",
    "    hdl.append((1+z[ii])*quad(H_0D_L, 0, z[ii])[0])  # H0_Dl INTEGRATION\n",
    "    # PREFACTOR WITHOUT THE H0_Dl TERM. THE 1* STANDS FOR 'c'\n",
    "    prefactor1.append((-5/np.log(10))*(1*(1+z[ii]))/2)\n",
    "\n",
    "\n",
    "# STORING THE VALUES IN ARRAYS\n",
    "for i in range(len(I_om)):\n",
    "    dx_domega.append((prefactor1[i]/hdl[i])*I_om[i])\n",
    "    dx_dw0.append((prefactor1[i]/hdl[i])*I_wo[i])\n",
    "    dx_dwa.append((prefactor1[i]/hdl[i])*I_wa[i])\n",
    "    dx_dM = np.ones(25)\n",
    "# WRITING TO A FILE\n",
    "DXDT = pd.DataFrame(zip(z, dx_domega, dx_dw0, dx_dwa, dx_dM))\n",
    "DXDT.columns = ['z', 'dmdom', 'dmdwo', 'dmdwa', 'dmdM']\n",
    "DXDT.to_csv('../Catastrophic/Fisher_Table_LSST.csv', index=False)\n",
    "\n",
    "def func():\n",
    "    return DXDT"
   ]
  },
  {
   "cell_type": "code",
   "execution_count": 335,
   "metadata": {
    "button": false,
    "new_sheet": false,
    "run_control": {
     "read_only": false
    }
   },
   "outputs": [
    {
     "data": {
      "text/plain": [
       "array([0.025, 0.075, 0.125, 0.175, 0.225, 0.275, 0.325, 0.375, 0.425,\n",
       "       0.475, 0.525, 0.575, 0.625, 0.675, 0.725, 0.775, 0.825, 0.875,\n",
       "       0.925, 0.975, 1.025, 1.075, 1.125, 1.175])"
      ]
     },
     "execution_count": 335,
     "metadata": {},
     "output_type": "execute_result"
    }
   ],
   "source": [
    "z"
   ]
  },
  {
   "cell_type": "markdown",
   "metadata": {
    "button": false,
    "new_sheet": false,
    "run_control": {
     "read_only": false
    }
   },
   "source": [
    "# Fisher_function with CMB Prior for LSST\n",
    "#### fisher_ayan_function_LSST_CMBPrior.py"
   ]
  },
  {
   "cell_type": "code",
   "execution_count": 336,
   "metadata": {
    "button": false,
    "new_sheet": false,
    "run_control": {
     "read_only": false
    }
   },
   "outputs": [
    {
     "data": {
      "text/html": [
       "<div>\n",
       "<style scoped>\n",
       "    .dataframe tbody tr th:only-of-type {\n",
       "        vertical-align: middle;\n",
       "    }\n",
       "\n",
       "    .dataframe tbody tr th {\n",
       "        vertical-align: top;\n",
       "    }\n",
       "\n",
       "    .dataframe thead th {\n",
       "        text-align: right;\n",
       "    }\n",
       "</style>\n",
       "<table border=\"1\" class=\"dataframe\">\n",
       "  <thead>\n",
       "    <tr style=\"text-align: right;\">\n",
       "      <th></th>\n",
       "      <th>z</th>\n",
       "      <th>dmdom</th>\n",
       "      <th>dmdwo</th>\n",
       "      <th>dmdwa</th>\n",
       "      <th>dmdM</th>\n",
       "    </tr>\n",
       "  </thead>\n",
       "  <tbody>\n",
       "    <tr>\n",
       "      <th>0</th>\n",
       "      <td>0.025</td>\n",
       "      <td>-0.040697</td>\n",
       "      <td>-0.027789</td>\n",
       "      <td>-0.000227</td>\n",
       "      <td>1.0</td>\n",
       "    </tr>\n",
       "    <tr>\n",
       "      <th>1</th>\n",
       "      <td>0.075</td>\n",
       "      <td>-0.121818</td>\n",
       "      <td>-0.079235</td>\n",
       "      <td>-0.001871</td>\n",
       "      <td>1.0</td>\n",
       "    </tr>\n",
       "    <tr>\n",
       "      <th>2</th>\n",
       "      <td>0.125</td>\n",
       "      <td>-0.202227</td>\n",
       "      <td>-0.125471</td>\n",
       "      <td>-0.004759</td>\n",
       "      <td>1.0</td>\n",
       "    </tr>\n",
       "    <tr>\n",
       "      <th>3</th>\n",
       "      <td>0.175</td>\n",
       "      <td>-0.281549</td>\n",
       "      <td>-0.166862</td>\n",
       "      <td>-0.008547</td>\n",
       "      <td>1.0</td>\n",
       "    </tr>\n",
       "    <tr>\n",
       "      <th>4</th>\n",
       "      <td>0.225</td>\n",
       "      <td>-0.359456</td>\n",
       "      <td>-0.203774</td>\n",
       "      <td>-0.012957</td>\n",
       "      <td>1.0</td>\n",
       "    </tr>\n",
       "    <tr>\n",
       "      <th>5</th>\n",
       "      <td>0.275</td>\n",
       "      <td>-0.435672</td>\n",
       "      <td>-0.236565</td>\n",
       "      <td>-0.017766</td>\n",
       "      <td>1.0</td>\n",
       "    </tr>\n",
       "    <tr>\n",
       "      <th>6</th>\n",
       "      <td>0.325</td>\n",
       "      <td>-0.509969</td>\n",
       "      <td>-0.265586</td>\n",
       "      <td>-0.022795</td>\n",
       "      <td>1.0</td>\n",
       "    </tr>\n",
       "    <tr>\n",
       "      <th>7</th>\n",
       "      <td>0.375</td>\n",
       "      <td>-0.582168</td>\n",
       "      <td>-0.291175</td>\n",
       "      <td>-0.027907</td>\n",
       "      <td>1.0</td>\n",
       "    </tr>\n",
       "    <tr>\n",
       "      <th>8</th>\n",
       "      <td>0.425</td>\n",
       "      <td>-0.652133</td>\n",
       "      <td>-0.313651</td>\n",
       "      <td>-0.032994</td>\n",
       "      <td>1.0</td>\n",
       "    </tr>\n",
       "    <tr>\n",
       "      <th>9</th>\n",
       "      <td>0.475</td>\n",
       "      <td>-0.719769</td>\n",
       "      <td>-0.333316</td>\n",
       "      <td>-0.037976</td>\n",
       "      <td>1.0</td>\n",
       "    </tr>\n",
       "    <tr>\n",
       "      <th>10</th>\n",
       "      <td>0.525</td>\n",
       "      <td>-0.785016</td>\n",
       "      <td>-0.350453</td>\n",
       "      <td>-0.042794</td>\n",
       "      <td>1.0</td>\n",
       "    </tr>\n",
       "    <tr>\n",
       "      <th>11</th>\n",
       "      <td>0.575</td>\n",
       "      <td>-0.847845</td>\n",
       "      <td>-0.365321</td>\n",
       "      <td>-0.047407</td>\n",
       "      <td>1.0</td>\n",
       "    </tr>\n",
       "    <tr>\n",
       "      <th>12</th>\n",
       "      <td>0.625</td>\n",
       "      <td>-0.908253</td>\n",
       "      <td>-0.378162</td>\n",
       "      <td>-0.051786</td>\n",
       "      <td>1.0</td>\n",
       "    </tr>\n",
       "    <tr>\n",
       "      <th>13</th>\n",
       "      <td>0.675</td>\n",
       "      <td>-0.966260</td>\n",
       "      <td>-0.389194</td>\n",
       "      <td>-0.055915</td>\n",
       "      <td>1.0</td>\n",
       "    </tr>\n",
       "    <tr>\n",
       "      <th>14</th>\n",
       "      <td>0.725</td>\n",
       "      <td>-1.021902</td>\n",
       "      <td>-0.398617</td>\n",
       "      <td>-0.059786</td>\n",
       "      <td>1.0</td>\n",
       "    </tr>\n",
       "    <tr>\n",
       "      <th>15</th>\n",
       "      <td>0.775</td>\n",
       "      <td>-1.075231</td>\n",
       "      <td>-0.406611</td>\n",
       "      <td>-0.063397</td>\n",
       "      <td>1.0</td>\n",
       "    </tr>\n",
       "    <tr>\n",
       "      <th>16</th>\n",
       "      <td>0.825</td>\n",
       "      <td>-1.126309</td>\n",
       "      <td>-0.413340</td>\n",
       "      <td>-0.066750</td>\n",
       "      <td>1.0</td>\n",
       "    </tr>\n",
       "    <tr>\n",
       "      <th>17</th>\n",
       "      <td>0.875</td>\n",
       "      <td>-1.175205</td>\n",
       "      <td>-0.418950</td>\n",
       "      <td>-0.069852</td>\n",
       "      <td>1.0</td>\n",
       "    </tr>\n",
       "    <tr>\n",
       "      <th>18</th>\n",
       "      <td>0.925</td>\n",
       "      <td>-1.221997</td>\n",
       "      <td>-0.423571</td>\n",
       "      <td>-0.072713</td>\n",
       "      <td>1.0</td>\n",
       "    </tr>\n",
       "    <tr>\n",
       "      <th>19</th>\n",
       "      <td>0.975</td>\n",
       "      <td>-1.266765</td>\n",
       "      <td>-0.427320</td>\n",
       "      <td>-0.075343</td>\n",
       "      <td>1.0</td>\n",
       "    </tr>\n",
       "    <tr>\n",
       "      <th>20</th>\n",
       "      <td>1.025</td>\n",
       "      <td>-1.309590</td>\n",
       "      <td>-0.430302</td>\n",
       "      <td>-0.077754</td>\n",
       "      <td>1.0</td>\n",
       "    </tr>\n",
       "    <tr>\n",
       "      <th>21</th>\n",
       "      <td>1.075</td>\n",
       "      <td>-1.350557</td>\n",
       "      <td>-0.432610</td>\n",
       "      <td>-0.079959</td>\n",
       "      <td>1.0</td>\n",
       "    </tr>\n",
       "    <tr>\n",
       "      <th>22</th>\n",
       "      <td>1.125</td>\n",
       "      <td>-1.389747</td>\n",
       "      <td>-0.434326</td>\n",
       "      <td>-0.081970</td>\n",
       "      <td>1.0</td>\n",
       "    </tr>\n",
       "    <tr>\n",
       "      <th>23</th>\n",
       "      <td>1.175</td>\n",
       "      <td>-1.427244</td>\n",
       "      <td>-0.435523</td>\n",
       "      <td>-0.083801</td>\n",
       "      <td>1.0</td>\n",
       "    </tr>\n",
       "  </tbody>\n",
       "</table>\n",
       "</div>"
      ],
      "text/plain": [
       "        z     dmdom     dmdwo     dmdwa  dmdM\n",
       "0   0.025 -0.040697 -0.027789 -0.000227   1.0\n",
       "1   0.075 -0.121818 -0.079235 -0.001871   1.0\n",
       "2   0.125 -0.202227 -0.125471 -0.004759   1.0\n",
       "3   0.175 -0.281549 -0.166862 -0.008547   1.0\n",
       "4   0.225 -0.359456 -0.203774 -0.012957   1.0\n",
       "5   0.275 -0.435672 -0.236565 -0.017766   1.0\n",
       "6   0.325 -0.509969 -0.265586 -0.022795   1.0\n",
       "7   0.375 -0.582168 -0.291175 -0.027907   1.0\n",
       "8   0.425 -0.652133 -0.313651 -0.032994   1.0\n",
       "9   0.475 -0.719769 -0.333316 -0.037976   1.0\n",
       "10  0.525 -0.785016 -0.350453 -0.042794   1.0\n",
       "11  0.575 -0.847845 -0.365321 -0.047407   1.0\n",
       "12  0.625 -0.908253 -0.378162 -0.051786   1.0\n",
       "13  0.675 -0.966260 -0.389194 -0.055915   1.0\n",
       "14  0.725 -1.021902 -0.398617 -0.059786   1.0\n",
       "15  0.775 -1.075231 -0.406611 -0.063397   1.0\n",
       "16  0.825 -1.126309 -0.413340 -0.066750   1.0\n",
       "17  0.875 -1.175205 -0.418950 -0.069852   1.0\n",
       "18  0.925 -1.221997 -0.423571 -0.072713   1.0\n",
       "19  0.975 -1.266765 -0.427320 -0.075343   1.0\n",
       "20  1.025 -1.309590 -0.430302 -0.077754   1.0\n",
       "21  1.075 -1.350557 -0.432610 -0.079959   1.0\n",
       "22  1.125 -1.389747 -0.434326 -0.081970   1.0\n",
       "23  1.175 -1.427244 -0.435523 -0.083801   1.0"
      ]
     },
     "execution_count": 336,
     "metadata": {},
     "output_type": "execute_result"
    }
   ],
   "source": [
    "DXDT"
   ]
  },
  {
   "cell_type": "markdown",
   "metadata": {
    "button": false,
    "new_sheet": false,
    "run_control": {
     "read_only": false
    }
   },
   "source": [
    "#### Now we are in position to compute the Fisher matrix, for this we need an additional quantity which is \n",
    "#### Uncertainty on the running paramter, which is the redshift $z$. In this case, we have systematic and statistical uncertainty for $z$. Parameterized as :\n",
    "### $\\sigma_{syst}=0.01(1+z)$\n",
    "### $\\sigma_{stat}=0.15/\\sqrt{N}$, \n",
    "### where $N=24$ is the number of bins that $z$ is broken up between range $[0,1.2]$\n",
    "### $N$ is populated as 150 SNe Ia, in first 20 bins and 75 in each of the last 4 bins"
   ]
  },
  {
   "cell_type": "markdown",
   "metadata": {
    "button": false,
    "new_sheet": false,
    "run_control": {
     "read_only": false
    }
   },
   "source": [
    "#### Once we have that, we compute the Fisher matrix as can be seen in the code cell below, then in addition to it, we add a CMB prior"
   ]
  },
  {
   "cell_type": "code",
   "execution_count": 337,
   "metadata": {
    "button": false,
    "new_sheet": false,
    "run_control": {
     "read_only": false
    }
   },
   "outputs": [
    {
     "data": {
      "text/plain": [
       "(24, 5)"
      ]
     },
     "execution_count": 337,
     "metadata": {},
     "output_type": "execute_result"
    }
   ],
   "source": [
    "np.shape(b)"
   ]
  },
  {
   "cell_type": "code",
   "execution_count": 338,
   "metadata": {
    "button": false,
    "new_sheet": false,
    "run_control": {
     "read_only": false
    }
   },
   "outputs": [],
   "source": [
    "np.set_printoptions(precision=4)\n",
    "# Produced by dmdtheta_ayan_function.py\n",
    "P = DXDT #pd.read_csv('Fisher_Table_LSST.csv')\n",
    "#P = pd.read_csv('Fisher_Table_LSST_old.csv')\n",
    "dmdom = np.array(P['dmdom'])\n",
    "dmdwo = np.array(P['dmdwo'])\n",
    "dmdwa = np.array(P['dmdwa'])\n",
    "dmdM = np.array(P['dmdM'])\n",
    "z = np.array(P['z'])\n",
    "dmdtheta = np.array(list(zip(dmdom, dmdwa, dmdwo, dmdM)))\n",
    "N_parms = np.shape(dmdtheta)[1]\n",
    "\n",
    "# ****LSST*****\n",
    "s = 150*np.ones(np.shape(b)[0]-4) # 20 Bins = 150 in each\n",
    "s2 = np.array([75, 75,75,75])     # 4 Bins  = 75 candidates each.\n",
    "s2 = np.ndarray.tolist(s2)\n",
    "s = np.ndarray.tolist(s)\n",
    "N = np.array(s+s2)\n",
    "sigma_int_sq = 0.15*0.15\n",
    "sigma_sys_sq = (0.01*(1+z))*(0.01*(1+z))\n",
    "sigma_sq = sigma_int_sq/N + sigma_sys_sq\n",
    "# ****LSST*****\n",
    "\n",
    "F = np.zeros([N_parms, N_parms])\n",
    "# since its scalar product, so order of the terms doesn't matter\n",
    "dmdM_dmdM = (np.sum(np.multiply(np.multiply(dmdM, dmdM), (1/sigma_sq))))\n",
    "dmdom_dmdom = (np.sum(np.multiply(np.multiply(dmdom, dmdom), (1/sigma_sq))))\n",
    "dmdwa_dmdwa = (np.sum(np.multiply(np.multiply(dmdwa, dmdwa), (1/sigma_sq))))\n",
    "dmdwo_dmdwo = (np.sum(np.multiply(np.multiply(dmdwo, dmdwo), (1/sigma_sq))))\n",
    "dmdM_dmdom = (np.sum(np.multiply(np.multiply(dmdM, dmdom), (1/sigma_sq))))\n",
    "dmdM_dmdwo = (np.sum(np.multiply(np.multiply(dmdM, dmdwo), (1/sigma_sq))))\n",
    "dmdM_dmdwa = (np.sum(np.multiply(np.multiply(dmdM, dmdwa), (1/sigma_sq))))\n",
    "dmdom_dmdwa = (np.sum(np.multiply(np.multiply(dmdom, dmdwa), (1/sigma_sq))))\n",
    "dmdom_dmdwo = (np.sum(np.multiply(np.multiply(dmdom, dmdwo), (1/sigma_sq))))\n",
    "dmdwa_dmdwo = (np.sum(np.multiply(np.multiply(dmdwa, dmdwo), (1/sigma_sq))))\n",
    "\n",
    "F_I = np.array([dmdM_dmdM,  dmdM_dmdom,  dmdM_dmdwo,  dmdM_dmdwa, \n",
    "                dmdM_dmdom, dmdom_dmdom, dmdom_dmdwo, dmdom_dmdwa,\n",
    "                dmdM_dmdwo, dmdom_dmdwo, dmdwo_dmdwo, dmdwa_dmdwo, \n",
    "                dmdM_dmdwa, dmdom_dmdwa, dmdwa_dmdwo, dmdwa_dmdwa])\n",
    "\n",
    "Fisher_Matrix = F_I.reshape(4, 4)\n",
    "Cov_Matrix = np.linalg.pinv(Fisher_Matrix)\n",
    "C_ij = np.sqrt(np.diag(Cov_Matrix))"
   ]
  },
  {
   "cell_type": "markdown",
   "metadata": {
    "button": false,
    "new_sheet": false,
    "run_control": {
     "read_only": false
    }
   },
   "source": [
    "#### CMB Prior"
   ]
  },
  {
   "cell_type": "code",
   "execution_count": 339,
   "metadata": {
    "button": false,
    "new_sheet": false,
    "run_control": {
     "read_only": false
    }
   },
   "outputs": [],
   "source": [
    "F_OmOm = 26282.777992634321\n",
    "F_Omw0 = -7211.5106699248900\n",
    "F_Omwa = -1974.3936330616734\n",
    "F_w0w0 = 1978.7058337978979\n",
    "F_w0wa = 541.73728345787083\n",
    "F_wawa = 148.31880478414203\n",
    "F1 = [F_OmOm, F_Omw0, F_Omwa, F_Omw0, F_w0w0, F_w0wa, F_Omwa, F_w0wa, F_wawa]\n",
    "F1 = np.reshape(F1, (3, 3))\n",
    "A1 = np.zeros(16)\n",
    "A1 = np.reshape(A1, (4, 4))\n",
    "for row in range(1, np.shape(A1)[0]):\n",
    "    for col in range(1, np.shape(A1)[1]):\n",
    "        A1[row][col] += F1[row-1][col-1]\n",
    "F_Ext = A1 # CMB Matrix"
   ]
  },
  {
   "cell_type": "markdown",
   "metadata": {
    "button": false,
    "new_sheet": false,
    "run_control": {
     "read_only": false
    }
   },
   "source": [
    "#### Adding all together "
   ]
  },
  {
   "cell_type": "code",
   "execution_count": 340,
   "metadata": {
    "button": false,
    "new_sheet": false,
    "run_control": {
     "read_only": false
    }
   },
   "outputs": [
    {
     "name": "stdout",
     "output_type": "stream",
     "text": [
      "\n",
      "\n",
      " The ORDER IS : dM_dM, domega_m_domega_m, dw0_dw0, dwa_dwa]\n",
      "\n",
      "\n",
      "\n",
      "\n",
      "Fisher Matrix with prior \n",
      " [[ 60365.5034 -41978.3845 -17397.2554  -2252.7768]\n",
      " [-41978.3845  65951.6314   7998.9418    272.727 ]\n",
      " [-17397.2554   7998.9418   7987.6938   1390.5031]\n",
      " [ -2252.7768    272.727    1390.5031    276.8463]]\n",
      "Covariance Matrix with prior\n",
      " [[ 1.9354e-04 -3.6564e-06  1.1970e-03 -4.4336e-03]\n",
      " [-3.6564e-06  4.5734e-05 -3.2422e-04  1.5537e-03]\n",
      " [ 1.1970e-03 -3.2422e-04  1.0392e-02 -4.2134e-02]\n",
      " [-4.4336e-03  1.5537e-03 -4.2134e-02  1.7763e-01]]\n",
      "sigma_ii with prior\n",
      " [0.0139 0.0068 0.1019 0.4215]\n"
     ]
    }
   ],
   "source": [
    "Fisher_Matrix_PRIOR = Fisher_Matrix +  F_Ext # Adding Prior, you can add an additional matrix also, like Euclid\n",
    "Cov_Matrix_PRIOR = np.linalg.pinv(Fisher_Matrix_PRIOR)\n",
    "C_ij_PRIOR = np.sqrt(np.abs(np.diag(Cov_Matrix_PRIOR)))\n",
    "#print np.matrix(F_I)\n",
    "\n",
    "print('\\n\\n The ORDER IS : dM_dM, domega_m_domega_m, dw0_dw0, dwa_dwa]\\n\\n')\n",
    "print ('\\n\\nFisher Matrix with prior \\n', Fisher_Matrix_PRIOR)\n",
    "#print '\\n\\n*****************************\\n\\n'\n",
    "print ('Covariance Matrix with prior\\n', Cov_Matrix_PRIOR)\n",
    "#print '\\n\\n*****************************\\n\\n'\n",
    "print ('sigma_ii with prior\\n', C_ij_PRIOR)\n",
    "\n",
    "\n",
    "def fisher_matrix():\n",
    "    return Fisher_Matrix_PRIOR\n",
    "\n",
    "\n",
    "def covariance_matrix():\n",
    "    return Cov_Matrix_PRIOR"
   ]
  },
  {
   "cell_type": "markdown",
   "metadata": {
    "button": false,
    "new_sheet": false,
    "run_control": {
     "read_only": false
    }
   },
   "source": [
    "#### $\\sigma_{ii}$ are the (square root) diagonal values of the covariance matrix "
   ]
  },
  {
   "cell_type": "code",
   "execution_count": 341,
   "metadata": {
    "button": false,
    "new_sheet": false,
    "run_control": {
     "read_only": false
    }
   },
   "outputs": [
    {
     "name": "stdout",
     "output_type": "stream",
     "text": [
      "sigma_w0w0, sigma_wawa :  0.10193946286336798 0.4214594467943366\n"
     ]
    }
   ],
   "source": [
    "print('sigma_w0w0, sigma_wawa : ',C_ij_PRIOR[2],C_ij_PRIOR[3])"
   ]
  },
  {
   "cell_type": "code",
   "execution_count": 342,
   "metadata": {
    "button": false,
    "new_sheet": false,
    "run_control": {
     "read_only": false
    }
   },
   "outputs": [
    {
     "name": "stdout",
     "output_type": "stream",
     "text": [
      "sigma_{w0_wa} :  -0.04213395545430177\n"
     ]
    }
   ],
   "source": [
    "print('sigma_{w0_wa} : ',Cov_Matrix_PRIOR[3][2])"
   ]
  },
  {
   "cell_type": "code",
   "execution_count": 343,
   "metadata": {
    "button": false,
    "new_sheet": false,
    "run_control": {
     "read_only": false
    }
   },
   "outputs": [
    {
     "name": "stdout",
     "output_type": "stream",
     "text": [
      "The Height and Width roughly is 1.63  0.40\n"
     ]
    }
   ],
   "source": [
    "#The Marginalized [2X2] subset of COVARIANCE Matrix.\n",
    "# Here Marginalized over M, omega_m\n",
    "# Obtained from : fisher_ayan_function_LSST_CMBPrior.py\n",
    "#F = [0, -1,C_ij_PRIOR[3] ,C_ij_PRIOR[2] ,Cov_Matrix_PRIOR[3][2] ]\n",
    "F = [0, -1, 2.8902e-01, 1.6886e-02, -6.8702e-02]\n",
    "# F = [wa,wo,wawa,wowo,wowa]  wa, w0, sigma_aa, sigma_00, sigma_a0\n",
    "alpha = 1.52    # arxiv : 0906.4123. 1-s CL\n",
    "print ('The Height and Width roughly is %.2f  %.2f' % (\n",
    "    2*alpha*np.sqrt(F[2]), 2*alpha*np.sqrt(F[3])))\n",
    "\n",
    "def a_square(sigma_x, sigma_y, sigma_xy):\n",
    "    F = sigma_x + sigma_y\n",
    "    G = (sigma_x - sigma_y)**2\n",
    "    H = (G/4) + sigma_xy**2\n",
    "    A = F/2 + np.sqrt(H)\n",
    "    return A\n",
    "\n",
    "def b_square(sigma_x, sigma_y, sigma_xy):\n",
    "    F = sigma_x + sigma_y\n",
    "    G = (sigma_x - sigma_y)**2\n",
    "    H = (G/4) + sigma_xy**2\n",
    "    B = F/2 - np.sqrt(H)\n",
    "    return B\n",
    "\n",
    "def tan_two_theta(sigma_x, sigma_y, sigma_xy):\n",
    "    print ('theta :', -math.degrees(0.5*math.atan(2*sigma_xy/(sigma_x-sigma_y))))\n",
    "    return(0.5*math.atan(2*sigma_xy/(sigma_x-sigma_y)))\n",
    "\n",
    "def area(sigma_x, sigma_y, sigma_xy):\n",
    "    return np.pi*(np.sqrt(a_square(sigma_x, sigma_y, sigma_xy))*alpha)*(np.sqrt(b_square(sigma_x, sigma_y, sigma_xy))*alpha)\n",
    "\n",
    "def par(sigma_x, sigma_y, sigma_xy):\n",
    "    a_star = np.sqrt(np.abs(a_square(sigma_x, sigma_y, sigma_xy)))*2*1.52\n",
    "    b_star = np.sqrt(np.abs(b_square(sigma_x, sigma_y, sigma_xy)))*2*1.52\n",
    "    two_theta = tan_two_theta(sigma_x, sigma_y, sigma_xy)\n",
    "    param = [a_star, b_star, two_theta]\n",
    "    return param"
   ]
  },
  {
   "cell_type": "code",
   "execution_count": 344,
   "metadata": {
    "button": false,
    "new_sheet": false,
    "run_control": {
     "read_only": false
    }
   },
   "outputs": [
    {
     "data": {
      "text/plain": [
       "[0, -1, 0.28902, 0.016886, -0.068702]"
      ]
     },
     "execution_count": 344,
     "metadata": {},
     "output_type": "execute_result"
    }
   ],
   "source": [
    "F"
   ]
  },
  {
   "cell_type": "markdown",
   "metadata": {
    "button": false,
    "new_sheet": false,
    "run_control": {
     "read_only": false
    }
   },
   "source": [
    "#### del_m_fisher_bias"
   ]
  },
  {
   "cell_type": "markdown",
   "metadata": {
    "button": false,
    "new_sheet": false,
    "run_control": {
     "read_only": false
    }
   },
   "source": [
    "#### Now we will compute the Fisher bias from the Fisher matrix. The bias, tells exactly how much is the observable offset due to the bias in the running parameter. In our case this tells how much is the $\\delta m$ due to $\\delta z$. \n",
    "### $\\Delta m_k = m(z+\\delta z) - m(z)$\n",
    "### $\\Delta m_k=\\left[(5\\log_{10}H_0D_L(z+\\delta z)+M) - (5\\log_{10}H_0D_L(z)+M)\\right]$\n",
    "### $\\Delta m_k = 5\\log_{10}\\left(\\frac{D_L(z+\\delta z)}{D_L(z)}\\right)$"
   ]
  },
  {
   "cell_type": "code",
   "execution_count": 345,
   "metadata": {
    "button": false,
    "new_sheet": false,
    "run_control": {
     "read_only": false
    }
   },
   "outputs": [],
   "source": [
    "from scipy.integrate import quad\n",
    "\n",
    "# **************************\n",
    "# This program returns the delta_m_k value\n",
    "# **************************\n",
    "# (5/ln10)*[delz(1/H*(1/int_0^z'delz/H ) + 1/(1+z))] !!NOT USED HERE!!\n",
    "# w_a = 0, w_o = -1 , omega_m = 0.3\n",
    "# H(z) = sqrt(omega_m*(1+z)^3 + (1-omega_m))\n",
    "\n",
    "# D_L = (1+z) integration(dz/H(z))LIMIT:[0,z]\n",
    "\n",
    "const = 5/np.log(10)\n",
    "\n",
    "\n",
    "def H_z(z):\n",
    "    omega_m = 0.3\n",
    "    omega_de = 1-omega_m\n",
    "    hz = omega_m*(1+z)**3+omega_de\n",
    "    return np.sqrt(hz)\n",
    "\n",
    "\n",
    "def H_z_inverse(z):\n",
    "    return 1/(H_z(z))\n",
    "\n",
    "\n",
    "#def del_z(d0, d1, z):\n",
    " #   return (d0+d1*z) # Dont need now\n",
    "\n",
    "def integration_delz_h(z):\n",
    "    I = quad(H_z_inverse, 0, z)[0]\n",
    "    return I\n",
    "\n",
    "\n",
    "def D_l(z):\n",
    "    return (1+z)*integration_delz_h(z)\n",
    "\n",
    "\n",
    "def del_m(i):\n",
    "    #scale = b.bias[i]/1.0\n",
    "    #bias = b.z_photo[i] - b.z[i]\n",
    "    bias = b.outlier_bias[i]\n",
    "    #x = const*np.log(D_l(z+b.bias[c])/D_l(z))\n",
    "    x = const*np.log(D_l(z[i]+bias)/D_l(z[i]))\n",
    "    return x\n",
    "\n",
    "\n",
    "for i in (range(len(z))):\n",
    "    del_m(i)"
   ]
  },
  {
   "cell_type": "code",
   "execution_count": 346,
   "metadata": {
    "button": false,
    "new_sheet": false,
    "run_control": {
     "read_only": false
    }
   },
   "outputs": [
    {
     "name": "stdout",
     "output_type": "stream",
     "text": [
      "N            :  \n",
      " [150. 150. 150. 150. 150. 150. 150. 150. 150. 150. 150. 150. 150. 150.\n",
      " 150. 150. 150. 150. 150. 150.  75.  75.  75.  75.]\n",
      "\n",
      "sigma_square :  \n",
      " [0.0003 0.0003 0.0003 0.0003 0.0003 0.0003 0.0003 0.0003 0.0004 0.0004\n",
      " 0.0004 0.0004 0.0004 0.0004 0.0004 0.0005 0.0005 0.0005 0.0005 0.0005\n",
      " 0.0007 0.0007 0.0008 0.0008]\n",
      "\n",
      "del_p2 : \n",
      " [ 0.1608  0.0187  0.7547 -2.5071]\n"
     ]
    }
   ],
   "source": [
    "#z = np.linspace(0.05, 1.15, 12)\n",
    "dm_dp = func()\n",
    "sum = []\n",
    "#do_d1 = np.array(b.bias) #[[0., 0.], [0.01, 0.], [0., 0.01]]\n",
    "cs1 = []\n",
    "for i in range(len(z)):\n",
    "    #print i  \n",
    "    #bias = b.z[i] - b.z_photo[i]\n",
    "    bias = b.outlier_bias[i]\n",
    "    x1 = b.bias[i]*(del_m(i)  + 1.4/(1+z[i])*(bias)) # <-- b.bias = frac outlier\n",
    "    cs1.append(x1)    \n",
    "#print ('***********************\\nFull expressions : No Approxiamtion')\n",
    "#print ('************************\\n\\ndel_m with IQR_ bias \\n')\n",
    "#for i in range(len(cs1)):\n",
    " #   print(\"%.4f  \" % (cs1[i]))\n",
    "#print ('***********************')\n",
    "q = sigma_int_sq/N + sigma_sys_sq\n",
    "print ('N            :  \\n', N)  # OK\n",
    "print ('\\nsigma_square :  \\n', sigma_sq)\n",
    "value = '1'\n",
    "flag = cs1\n",
    "del_m_sigma_sq = flag/sigma_sq  # cs1 is used\n",
    "cov = covariance_matrix()\n",
    "XX_om = 0.\n",
    "XX_wa = 0.\n",
    "XX_w0 = 0.0\n",
    "XX_M = 0.\n",
    "for n in range(len(dm_dp)):\n",
    "    XX_om += dm_dp['dmdom'][n]*del_m_sigma_sq[n]\n",
    "    XX_w0 += dm_dp['dmdwo'][n]*del_m_sigma_sq[n]\n",
    "    XX_wa += dm_dp['dmdwa'][n]*del_m_sigma_sq[n]\n",
    "    XX_M += dm_dp['dmdM'][n] * del_m_sigma_sq[n]\n",
    "arr = [XX_M, XX_om, XX_w0, XX_wa]\n",
    "ide = 'new'\n",
    "#print ('\\ncov : \\n', cov)\n",
    "#print ('\\ndel_m / sigma_sq\\n', del_m_sigma_sq)\n",
    "#print ('array of 4 vectors\\n %s' % arr)\n",
    "del_p2 = cov.dot(arr)\n",
    "print ('\\ndel_p2 : \\n', (del_p2))\n",
    "name = 'del_p_LSST_New_%s.txt' % ide\n",
    "#np.savetxt(name, np.matrix(del_p2), fmt='%.4f')"
   ]
  },
  {
   "cell_type": "markdown",
   "metadata": {
    "button": false,
    "new_sheet": false,
    "run_control": {
     "read_only": false
    }
   },
   "source": [
    "# Ploting the Fisher Ellipse"
   ]
  },
  {
   "cell_type": "markdown",
   "metadata": {
    "button": false,
    "new_sheet": false,
    "run_control": {
     "read_only": false
    }
   },
   "source": [
    "#### More option enabled version of the del_p code cell below"
   ]
  },
  {
   "cell_type": "code",
   "execution_count": 347,
   "metadata": {
    "button": false,
    "new_sheet": false,
    "run_control": {
     "read_only": false
    }
   },
   "outputs": [],
   "source": [
    "x=[];y=[];\n",
    "for i in range(0,24):\n",
    "    scale = b.bias[i]/1.0 # frac outlier\n",
    "    apply = i## which bin to apply with dz and omit the rest <<<<-----\n",
    "    #print ('****** z - Bin to work on : ', apply+1)\n",
    "    counter = 0\n",
    "    #z = np.linspace(0.05, 1.15, 12)\n",
    "    dm_dp = func();sum = [];do_d1 = np.array(b.bias); \n",
    "    cs1 = [];cs5 = [];cs6 = [];\n",
    "    cols = ['bias', 'bin_used', 'how']\n",
    "    dat1 = pd.DataFrame(columns=cols)\n",
    "    dat5 = pd.DataFrame(columns=cols)\n",
    "    dat6 = pd.DataFrame(columns=cols)\n",
    "#---------------------------------------------------------------\n",
    "    for i in (range(len(z))): # apply on all bins\n",
    "        #bias = b.z_photo[i] - b.z[i] \n",
    "        bias = b.outlier_bias[i]\n",
    "        x1 = b.bias[i]*(del_m(i)  + 1.4/(1+z[i])*(bias))\n",
    "        cs1.append(x1)\n",
    "    dat1 = dat1.append({'bias': 'all_bias', 'bin_used': str(0), 'how': str(0)}, ignore_index=True)\n",
    "#---------------------------------------------------------------\n",
    "    counter = 0\n",
    "    for i in (range(len(z))):  # APPLY ONLY ON ONE  BIN\n",
    "        #bias = b.z_photo[i] - b.z[i]\n",
    "        bias = b.outlier_bias[i]\n",
    "        if apply == counter:\n",
    "        #        print 'Condition match'\n",
    "        #        print 'counter :',counter\n",
    "        #        print 'apply :',apply\n",
    "            x5 = b.bias[i]*(del_m(i)  + 1.4/(1+z[i])*(bias))  # \n",
    "            bias_flag = b.bias[i]\n",
    "        else:\n",
    "            x5 = 0.#np.zeros(1)#del_m(i, do_d1[0][0], do_d1[0][1])\n",
    "        counter += 1\n",
    "        cs5.append(x5)\n",
    "    dat5 = dat5.append({'bias': str(bias_flag), 'bin_used': str(apply+1), 'how': str(1)}, ignore_index=True)\n",
    "    counter = 0\n",
    "#---------------------------------------------------------------\n",
    "    for i in (range(len(z))):  # APPLY ON ALL BIN EXCEPT ONE\n",
    "    #    print 'All Bin Except One : 6'\n",
    "        #bias = b.z_photo[i] - b.z[i]\n",
    "        bias = b.outlier_bias[i]\n",
    "        if apply != counter:\n",
    "            x6 = b.bias[i]*(del_m(i)  + 1.4/(1+z[i])*(bias))  # \n",
    "            bias_flag = b.bias[i]\n",
    "        else:\n",
    "            x6 = 0.\n",
    "        counter += 1\n",
    "        cs6.append(x6)\n",
    "    dat6 = dat6.append({'bias': str(bias_flag), 'bin_used': str(apply+1), 'how': str(11)}, ignore_index=True)\n",
    "    counter = 0\n",
    "#---------------------------------------------------------------\n",
    "    option = '2'# ******************     <<<<-----\n",
    "    if option == '1': # all bin\n",
    "        flag = cs1\n",
    "        dat = dat1\n",
    "    elif option == '2':  # only one bin \n",
    "        flag = cs5\n",
    "        dat = dat5    \n",
    "    elif option == '3':  # except one bin [0.01,0]\n",
    "        flag = cs6\n",
    "        dat = dat6        \n",
    "#---------------------------------------------------------------  \n",
    "#---------------------------------------------------------------\n",
    "#---------------------------------------------------------------\n",
    "# the first case, will be executed always as a baseline check\n",
    "    del_m_sigma_sq = cs1/sigma_sq  # cs1 is used\n",
    "    cov = covariance_matrix()\n",
    "    XX_om = 0.\n",
    "    XX_wa = 0.\n",
    "    XX_w0 = 0.0\n",
    "    XX_M = 0.\n",
    "    for n in range(len(dm_dp)):\n",
    "        XX_om += dm_dp['dmdom'][n]*del_m_sigma_sq[n]\n",
    "        XX_w0 += dm_dp['dmdwo'][n]*del_m_sigma_sq[n]\n",
    "        XX_wa += dm_dp['dmdwa'][n]*del_m_sigma_sq[n]\n",
    "        XX_M += dm_dp['dmdM'][n] * del_m_sigma_sq[n]\n",
    "    arr = [XX_M, XX_om, XX_w0, XX_wa]   \n",
    "    del_p2_all = cov.dot(arr)\n",
    "    columns = ['M', 'omegam', 'w0', 'wa']\n",
    "    delt0 = pd.DataFrame(columns=columns)\n",
    "    delt0 = delt0.append({'M': del_p2_all[0], 'omegam':  del_p2_all[1],\n",
    "                        'w0':  del_p2_all[2], 'wa':  del_p2_all[3]}, ignore_index=True)\n",
    "    data2 = pd.concat([delt0, dat1], axis=1) \n",
    "    y = np.append(y,del_p2_all)\n",
    "\n",
    "#---------------------------------------------------------------\n",
    "#---------------------------------------------------------------\n",
    "#---------------------------------------------------------------\n",
    "\n",
    "    del_m_sigma_sq = flag/sigma_sq  # cs1 is used\n",
    "    cov = covariance_matrix()\n",
    "    XX_om = 0.\n",
    "    XX_wa = 0.\n",
    "    XX_w0 = 0.0\n",
    "    XX_M = 0.\n",
    "    for n in range(len(dm_dp)):\n",
    "        XX_om += dm_dp['dmdom'][n]*del_m_sigma_sq[n]\n",
    "        XX_w0 += dm_dp['dmdwo'][n]*del_m_sigma_sq[n]\n",
    "        XX_wa += dm_dp['dmdwa'][n]*del_m_sigma_sq[n]\n",
    "        XX_M += dm_dp['dmdM'][n] * del_m_sigma_sq[n]\n",
    "    arr = [XX_M, XX_om, XX_w0, XX_wa]  \n",
    "#--------------------------------------------------------------- \n",
    "    del_p2 = cov.dot(arr)\n",
    "    columns = ['M', 'omegam', 'w0', 'wa']\n",
    "    delt = pd.DataFrame(columns=columns)\n",
    "    delt = delt.append({'M': del_p2[0], 'omegam':  del_p2[1],\n",
    "                        'w0':  del_p2[2], 'wa':  del_p2[3]}, ignore_index=True)\n",
    "    data2 = pd.concat([delt, dat], axis=1)\n",
    "    name = 'del_p_LSST_CMBPrior_Stretch_%s.txt' % ide\n",
    "    name2 = 'del_p_LSST_CMBPrior_Stretch_LONG_%s.txt' % ide\n",
    "    np.savetxt(name, np.matrix(del_p2), fmt='%.4f')\n",
    "    #data2.to_csv(name2, index=False)\n",
    "    #print(del_p2)        \n",
    "    x = np.append(x,del_p2)\n",
    "x = np.append(y[0:4],x)    \n",
    "x = np.reshape(x,(-1,4))   \n",
    "column = ['del_M','del_om','del_w0','del_wa']\n",
    "x = pd.DataFrame(x,columns=column)  # the first line contain the all bin result"
   ]
  },
  {
   "cell_type": "code",
   "execution_count": 348,
   "metadata": {
    "button": false,
    "new_sheet": false,
    "run_control": {
     "read_only": false
    }
   },
   "outputs": [
    {
     "name": "stdout",
     "output_type": "stream",
     "text": [
      "theta : 13.394902309736473\n",
      "Width :  0.06967731906730495\n",
      "Height : 1.679942249247751\n",
      "Angle : 13.394902309736473\n"
     ]
    },
    {
     "name": "stderr",
     "output_type": "stream",
     "text": [
      "/Users/apple/opt/anaconda3/lib/python3.7/site-packages/ipykernel_launcher.py:87: UserWarning: This figure includes Axes that are not compatible with tight_layout, so results might be incorrect.\n"
     ]
    },
    {
     "data": {
      "image/png": "[encoded data removed]",
      "text/plain": [
       "<Figure size 1080x720 with 2 Axes>"
      ]
     },
     "metadata": {
      "needs_background": "light"
     },
     "output_type": "display_data"
    }
   ],
   "source": [
    "plt.rcParams['figure.figsize'] = [15,10] \n",
    "alpha = 1.52\n",
    "\n",
    "params = par(F[2], F[3], F[4])\n",
    "print ('Width : ', params[1])\n",
    "print ('Height :', params[0])\n",
    "print ('Angle :', -math.degrees(params[2]))\n",
    "\n",
    "\n",
    "\n",
    "ell = mpl.patches.Ellipse(xy=[-1, 0], width=params[1], height=params[0], angle=-math.degrees(params[2]), facecolor='none', edgecolor='b', linewidth=2, label='1-sigma')\n",
    "ell2 = copy(ell)\n",
    "#ell = mpl.patches.Ellipse(xy=[-1, 0], width= 0.0696, height=1.679, angle=13.3949, facecolor='none', edgecolor='b', label='1-sigma')\n",
    "\n",
    "fig, ax = plt.subplots()\n",
    "ax.add_patch(ell)\n",
    "ax.set_aspect('auto')\n",
    "ax.set_facecolor('none')\n",
    "ax.autoscale()  # ''tight\n",
    "ax.scatter(F[1], F[0], c='black', marker='o',s=150, label='($w_0-w_a$) = (-1, 0)')\n",
    "ax.set_xlabel(r'$w_0$',fontsize=20)\n",
    "ax.set_ylabel(r'$w_a$',fontsize=20)\n",
    "ax.yaxis.set_ticks_position('both')\n",
    "ax.xaxis.set_ticks_position('both')\n",
    "ax.set_xlim(-1.35, -0.75)\n",
    "ax.set_ylim(-0.9, 1.2)\n",
    "#ax.set_xlim(-1.85, -0.75)\n",
    "#ax.set_ylim(-0.9, 3.9)\n",
    "ax.minorticks_on()\n",
    "r = x.iloc[1:,:] # after first line\n",
    "del_w0_1_all = x['del_w0'].iloc[0]    \n",
    "del_wa_1_all = x['del_wa'].iloc[0] \n",
    "\n",
    "colors = [\"r\", \"grey\" , \"grey\", \"grey\", \"grey\",\"grey\",\"grey\",'grey',\"grey\",\"grey\",\"grey\",\"grey\",\n",
    "               \"grey\" , \"grey\", \"grey\", \"grey\",\"grey\",'grey',\"grey\",\"grey\",\"grey\",\"grey\",\"grey\",\"blue\"]\n",
    "del_w0_1 = r['del_w0']  \n",
    "del_wa_1 = r['del_wa']  \n",
    "x4 = [];y4=[];\n",
    "for i in range(24):\n",
    "    xxx = (del_w0_1.iloc[i]-1);yyy = del_wa_1.iloc[i] \n",
    "    x4.append(xxx);y4.append(yyy)\n",
    "    plt.scatter(xxx,yyy,marker='s',facecolors='none',edgecolors=colors[i],s=150,linewidth=2)#label='%s'%(i+1)\n",
    "    #rect = mpl.patches.Rectangle((xxx,yyy),.02,.06,linewidth=1,edgecolor='r',facecolor='none')\n",
    "    #ax.add_patch(rect)\n",
    "plt.plot(x4,y4,c='red',linewidth=2) \n",
    "plt.scatter(del_w0_1.iloc[0]-1, del_wa_1.iloc[0],marker='s',s=150,linewidth=2,edgecolors='orange',facecolors='none',label = 'z = [0, 0.05]' )\n",
    "plt.scatter(del_w0_1.iloc[-1]-1, del_wa_1.iloc[-1],marker='s',s=150,linewidth=2,edgecolors='b',facecolors='none',label = 'z = [1.15, 1.2]' )\n",
    "#a_all = plt.arrow(-1, 0, del_w0_1_all, del_wa_1_all, head_width=0.05, head_length=0.1,length_includes_head=True, color='lime')\n",
    "a_all = plt.arrow(-1, 0, del_w0_1_all, del_wa_1_all, head_width=0.01, head_length=0.01,length_includes_head=True, color='lime')\n",
    "\n",
    "plt.text(-1.345, -0.4, 'Catastrophic Outliers', size=50)\n",
    "\n",
    "plt.legend(loc = 'lower left',prop={'size': 20})\n",
    "\n",
    "#------------------- Inset plot\n",
    "\n",
    "left, bottom, width, height = [0.68, 0.72, 0.3, 0.25]\n",
    "ax2 = fig.add_axes([left, bottom, width, height])\n",
    "ax2.add_patch(ell2)\n",
    "ax2.set_aspect('auto')\n",
    "ax2.set_facecolor('none')\n",
    "ax2.autoscale()  # ''tight\n",
    "ax2.scatter(F[1], F[0], c='black', marker='o',s=150, label='($w_0-w_a$) = (-1, 0)')\n",
    "ax2.set_xlabel(r'$w_0$',fontsize=20)\n",
    "ax2.set_ylabel(r'$w_a$',fontsize=20)\n",
    "ax2.yaxis.set_ticks_position('both')\n",
    "ax2.xaxis.set_ticks_position('both')\n",
    "ax2.set_xlim(-1.25, -0.2)\n",
    "ax2.set_ylim(-2.6, 1.6)\n",
    "ax2.minorticks_on()\n",
    "for i in range(1,23):\n",
    "    xxx = (del_w0_1.iloc[i]-1);yyy = del_wa_1.iloc[i] \n",
    "    x4.append(xxx);y4.append(yyy)\n",
    "    #print('no = %s, x=%s, y=%s'%(i,xxx,yyy))\n",
    "    plt.scatter(xxx,yyy,marker='o',facecolors='none',label='%s'%(i+1),edgecolors=colors[i],s=150,linewidth=2)#label='%s'%(i+1)\n",
    "    #rect = mpl.patches.Rectangle((xxx,yyy),.02,.06,linewidth=1,edgecolor='r',facecolor='none')\n",
    "    #ax.add_patch(rect)\n",
    "#plt.scatter((del_w0_1.iloc[9]-1),del_wa_1.iloc[9],'.')    \n",
    "plt.plot(x4,y4,c='red',linewidth=1) \n",
    "plt.scatter(del_w0_1.iloc[0]-1, del_wa_1.iloc[0],marker='s',s=150,linewidth=2,edgecolors='orange',facecolors='none',label = 'z = [0, 0.05]' )\n",
    "plt.scatter(del_w0_1.iloc[-1]-1, del_wa_1.iloc[-1],marker='s',s=150,linewidth=2,edgecolors='b',facecolors='none',label = 'z = [1.15, 1.2]' )\n",
    "a_all = plt.arrow(-1, 0, del_w0_1_all, del_wa_1_all, head_width=0.05, head_length=0.05,length_includes_head=True, color='lime')\n",
    "\n",
    "\n",
    "\n",
    "#plt.legend(loc = 'lower left')\n",
    "plt.tight_layout()\n",
    "#plt.savefig('../Catastrophic/New_Bin/Fractional_Outlier_1.pdf',bbox_inches='tight')\n",
    "#plt.close()"
   ]
  },
  {
   "cell_type": "code",
   "execution_count": null,
   "metadata": {},
   "outputs": [],
   "source": []
  },
  {
   "cell_type": "code",
   "execution_count": 295,
   "metadata": {
    "button": false,
    "new_sheet": false,
    "run_control": {
     "read_only": false
    }
   },
   "outputs": [
    {
     "name": "stdout",
     "output_type": "stream",
     "text": [
      "theta : 13.394902309736473\n",
      "Width :  0.06967731906730495\n",
      "Height : 1.679942249247751\n",
      "Angle : 13.394902309736473\n",
      "x,y:  0.21929992065672757 -0.5710394072852859\n"
     ]
    },
    {
     "data": {
      "image/png": "[encoded data removed]",
      "text/plain": [
       "<Figure size 1080x720 with 1 Axes>"
      ]
     },
     "metadata": {
      "needs_background": "light"
     },
     "output_type": "display_data"
    }
   ],
   "source": [
    "plt.rcParams['figure.figsize'] = [15,10] \n",
    "alpha = 1.52\n",
    "\n",
    "params = par(F[2], F[3], F[4])\n",
    "print ('Width : ', params[1])\n",
    "print ('Height :', params[0])\n",
    "print ('Angle :', -math.degrees(params[2]))\n",
    "\n",
    "\n",
    "\n",
    "ell = mpl.patches.Ellipse(xy=[-1, 0], width=params[1], height=params[0], angle=-math.degrees(params[2]), facecolor='none', edgecolor='b', linewidth=2, label='1-sigma')\n",
    "ell2 = copy(ell)\n",
    "#ell = mpl.patches.Ellipse(xy=[-1, 0], width= 0.0696, height=1.679, angle=13.3949, facecolor='none', edgecolor='b', label='1-sigma')\n",
    "\n",
    "fig, ax = plt.subplots()\n",
    "ax.add_patch(ell)\n",
    "ax.set_aspect('auto')\n",
    "ax.set_facecolor('none')\n",
    "ax.autoscale()  # ''tight\n",
    "ax.scatter(F[1], F[0], c='black', marker='o',s=150, label='($w_0-w_a$) = (-1, 0)')\n",
    "ax.set_xlabel(r'$w_0$',fontsize=20)\n",
    "ax.set_ylabel(r'$w_a$',fontsize=20)\n",
    "ax.yaxis.set_ticks_position('both')\n",
    "ax.xaxis.set_ticks_position('both')\n",
    "#ax.set_xlim(-1.35, -0.75)\n",
    "#ax.set_ylim(-0.9, 1.2)\n",
    "ax.set_xlim(-1.25, -0.75)\n",
    "ax.set_ylim(-1.52, 0.95)\n",
    "ax.minorticks_on()\n",
    "r = x.iloc[1:,:] # after first line\n",
    "del_w0_1_all = x['del_w0'].iloc[0]    \n",
    "del_wa_1_all = x['del_wa'].iloc[0] \n",
    "print ('x,y: ',del_w0_1_all,del_wa_1_all)\n",
    "a_all = plt.arrow(-1, 0, del_w0_1_all, del_wa_1_all, head_width=0.02, head_length=0.05,length_includes_head=True, color='lime')\n",
    "\n",
    "colors = [\"r\", \"grey\" , \"grey\", \"grey\", \"grey\",\"grey\",\"grey\",'grey',\"grey\",\"grey\",\"grey\",\"grey\",\n",
    "               \"grey\" , \"grey\", \"grey\", \"grey\",\"grey\",'grey',\"grey\",\"grey\",\"grey\",\"grey\",\"grey\",\"blue\"]\n",
    "del_w0_1 = r['del_w0']  \n",
    "del_wa_1 = r['del_wa']  \n",
    "x4 = [];y4=[];\n",
    "for i in range(24):\n",
    "    xxx = (del_w0_1.iloc[i]-1);yyy = del_wa_1.iloc[i] \n",
    "    x4.append(xxx);y4.append(yyy)\n",
    "    plt.scatter(xxx,yyy,marker='s',facecolors='none',edgecolors=colors[i],s=150,linewidth=2)#label='%s'%(i+1)\n",
    "    #rect = mpl.patches.Rectangle((xxx,yyy),.02,.06,linewidth=1,edgecolor='r',facecolor='none')\n",
    "    #ax.add_patch(rect)\n",
    "plt.plot(x4,y4,c='red',linewidth=2) \n",
    "plt.scatter(del_w0_1.iloc[0]-1, del_wa_1.iloc[0],marker='s',s=150,linewidth=2,edgecolors='orange',facecolors='none',label = 'z = [0, 0.05]' )\n",
    "plt.scatter(del_w0_1.iloc[-1]-1, del_wa_1.iloc[-1],marker='s',s=150,linewidth=2,edgecolors='b',facecolors='none',label = 'z = [1.15, 1.2]' )\n",
    "#a_all = plt.arrow(-1, 0, del_w0_1_all, del_wa_1_all, head_width=0.05, head_length=0.1,length_includes_head=True, color='lime')\n",
    "\n",
    "plt.text(-1.245, -0.86, 'Catastrophic Outliers', size=50)\n",
    "plt.text(-1., 0.5, 'Bin [1]$: dz\\_CORout=0$', size=25,color='red')\n",
    "plt.legend(loc = 'lower left',prop={'size': 20})\n",
    "\n",
    "plt.tight_layout()\n",
    "#plt.savefig('Catastrophic/New_Bin/Fractional_Outlier_2.pdf',bbox_inches='tight')\n",
    "#plt.close()"
   ]
  },
  {
   "cell_type": "code",
   "execution_count": 297,
   "metadata": {},
   "outputs": [
    {
     "data": {
      "text/plain": [
       "(0.21929992065672757, -0.5710394072852859)"
      ]
     },
     "execution_count": 297,
     "metadata": {},
     "output_type": "execute_result"
    }
   ],
   "source": [
    "# this values are assigned to arN(x,y) below. For each bias bin the corresponding Nth x,y are assigned\n",
    "del_w0_1_all, del_wa_1_all"
   ]
  },
  {
   "cell_type": "code",
   "execution_count": 299,
   "metadata": {},
   "outputs": [],
   "source": [
    "# This set for bias = F or Catastrophic outlier bias\n",
    "#ar5x, ar5y = 0.1286822647015251, -0.4302653358331021\n",
    "#ar4x, ar4y = 0.17705970001653504, -0.6553441332837409\n",
    "#ar3x, ar3y = 0.2676164233316015, -1.0235980166395136\n",
    "ar2x, ar2y = 0.01353656585750728, 0.047059063024081305\n",
    "ar1x, ar1y = 0.0562349609111171, -0.03513707705477653\n",
    "ar0x, ar0y = 0.21929992065672757, -0.5710394072852859"
   ]
  },
  {
   "cell_type": "code",
   "execution_count": 300,
   "metadata": {
    "button": false,
    "new_sheet": false,
    "run_control": {
     "read_only": false
    }
   },
   "outputs": [
    {
     "name": "stdout",
     "output_type": "stream",
     "text": [
      "theta : 13.394902309736473\n"
     ]
    },
    {
     "data": {
      "image/png": "[encoded data removed]",
      "text/plain": [
       "<Figure size 1080x720 with 1 Axes>"
      ]
     },
     "metadata": {
      "needs_background": "light"
     },
     "output_type": "display_data"
    }
   ],
   "source": [
    "plt.rcParams['figure.figsize'] = [15,10] \n",
    "alpha = 1.52\n",
    "F = [0, -1, 2.8902e-01, 1.6886e-02, -6.8702e-02]\n",
    "params = par(F[2], F[3], F[4])\n",
    "\n",
    "ell = mpl.patches.Ellipse(xy=[-1, 0], width=params[1], height=params[0], angle=-\n",
    "                          math.degrees(params[2]), facecolor='none', edgecolor='b',linewidth=2, label='1-sigma')\n",
    "fig, ax = plt.subplots()\n",
    "ax.add_patch(ell)\n",
    "ax.set_aspect('auto')\n",
    "ax.set_facecolor('none')\n",
    "ax.autoscale()  # ''tight\n",
    "ax.scatter(F[1], F[0], c='black', marker='o',s=150, label='w0-wa')\n",
    "ax.set_xlabel(r'$w_0$',fontsize=20)\n",
    "ax.set_ylabel(r'$w_a$',fontsize=20)\n",
    "ax.yaxis.set_ticks_position('both')\n",
    "ax.xaxis.set_ticks_position('both')\n",
    "#ax.set_xlim(-1.35, -0.75)\n",
    "#ax.set_ylim(-0.9, 0.9)\n",
    "r = x.iloc[1:,:] # after first line\n",
    "del_w0_1_all = x['del_w0'].iloc[0]    \n",
    "del_wa_1_all = x['del_wa'].iloc[0] \n",
    "\n",
    "colors = [\"red\", \"grey\" , \"grey\", \"grey\", \"grey\",\"grey\",'grey',\"grey\",\"\",\"grey\",\"grey\",\"blue\"]\n",
    "del_w0_1 = r['del_w0']  \n",
    "del_wa_1 = r['del_wa']  \n",
    "x4 = [];y4=[];\n",
    "\n",
    "#plt.plot(x4,y4)    \n",
    "ar1=plt.arrow(-1, 0, ar0x, ar0y, head_width=0.01, head_length=0.02,length_includes_head=True, color='lime',label='1')\n",
    "ar2=plt.arrow(-1, 0, ar1x, ar1y, head_width=0.01, head_length=0.02,length_includes_head=True, color='orange')\n",
    "ar3=plt.arrow(-1, 0, ar2x, ar2y, head_width=0.01, head_length=0.05,length_includes_head=True, color='deepskyblue')\n",
    "#ar4=plt.arrow(-1, 0, ar3x, ar3y, head_width=0.01, head_length=0.05,length_includes_head=True, color='cyan')\n",
    "#ar5=plt.arrow(-1, 0, ar4x, ar4y, head_width=0.01, head_length=0.05,length_includes_head=True, color='deeppink')\n",
    "#ar6=plt.arrow(-1, 0, ar5x, ar5y,width=0.005, linestyle='--',head_width=0.01, head_length=0.05,length_includes_head=True, color='black')\n",
    "\n",
    "plt.text(-1.15, -0.5, r'Bin [1-3]$: dz\\_CORout=0$', size=25,color='red')\n",
    "\n",
    "#plt.legend([ar1,ar2,ar3,ar4,ar5,ar6], ['1','1-2','1-3','1-4','1-5','1-6'],loc = 'lower left',prop={'size': 20})\n",
    "plt.legend([ar1,ar2,ar3], ['1','1-2','1-3'],loc = 'lower left',prop={'size': 20})\n",
    "#plt.legend()\n",
    "\n",
    "#. inset plot\n",
    "'''\n",
    "left, bottom, width, height = [0.65, 0.65, 0.3, 0.25]\n",
    "ax2 = fig.add_axes([left, bottom, width, height])\n",
    "ax2.add_patch(ell2)\n",
    "ax2.set_aspect('auto')\n",
    "ax2.set_facecolor('none')\n",
    "ax2.autoscale()  # ''tight\n",
    "ax2.scatter(F[1], F[0], c='black', marker='o',s=50, label='($w_0-w_a$) = (-1, 0)')\n",
    "ax2.set_xlabel(r'$w_0$',fontsize=20)\n",
    "ax2.set_ylabel(r'$w_a$',fontsize=20)\n",
    "ax2.yaxis.set_ticks_position('both')\n",
    "ax2.xaxis.set_ticks_position('both')\n",
    "ax2.set_xlim(-1.9, -0.55)\n",
    "ax2.set_ylim(-1.75, 5.3)\n",
    "ax2.minorticks_on()\n",
    "ar11=plt.arrow(-1, 0, ar0x, ar0y, head_width=0.03, head_length=0.05,length_includes_head=True, color='lime',label='1')\n",
    "ar21=plt.arrow(-1, 0, ar1x, ar1y, head_width=0.03, head_length=0.05,length_includes_head=True, color='orange')\n",
    "ar31=plt.arrow(-1, 0, ar2x, ar2y, head_width=0.01, head_length=0.05,length_includes_head=True, color='red')\n",
    "ar41=plt.arrow(-1, 0, ar3x, ar3y, head_width=0.03, head_length=0.05,length_includes_head=True, color='cyan')\n",
    "ar51=plt.arrow(-1, 0, ar4x, ar4y, head_width=0.01, head_length=0.05,length_includes_head=True, color='deeppink')\n",
    "ar61=plt.arrow(-1, 0, ar5x, ar5y, head_width=0.02,width=0.008,linestyle='--', head_length=0.05,length_includes_head=True, color='black')\n",
    "\n",
    "'''\n",
    "plt.tight_layout()\n",
    "#plt.savefig('../Catastrophic/New_Bin/Fractional_Outlier_2.pdf',bbox_inches='tight')"
   ]
  }
 ],
 "metadata": {
  "kernelspec": {
   "display_name": "Python 3",
   "language": "python",
   "name": "python3"
  },
  "language_info": {
   "codemirror_mode": {
    "name": "ipython",
    "version": 3
   },
   "file_extension": ".py",
   "mimetype": "text/x-python",
   "name": "python",
   "nbconvert_exporter": "python",
   "pygments_lexer": "ipython3",
   "version": "3.7.6"
  }
 },
 "nbformat": 4,
 "nbformat_minor": 2
}
